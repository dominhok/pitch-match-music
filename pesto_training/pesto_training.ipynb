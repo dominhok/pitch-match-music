{
  "cells": [
    {
      "cell_type": "code",
      "execution_count": 1,
      "metadata": {
        "colab": {
          "base_uri": "https://localhost:8080/"
        },
        "id": "M9yOgOIEtYCy",
        "outputId": "06987ab9-9f49-45aa-d148-7d254e69e748"
      },
      "outputs": [
        {
          "name": "stdout",
          "output_type": "stream",
          "text": [
            "fatal: destination path 'pesto-full' already exists and is not an empty directory.\n"
          ]
        }
      ],
      "source": [
        "!git clone https://github.com/SonyCSLParis/pesto-full.git"
      ]
    },
    {
      "cell_type": "code",
      "execution_count": 2,
      "metadata": {
        "colab": {
          "base_uri": "https://localhost:8080/"
        },
        "id": "2jfpVH6uv8nE",
        "outputId": "a7d01439-9aca-4800-a9be-64b79bfa68d5"
      },
      "outputs": [
        {
          "name": "stdout",
          "output_type": "stream",
          "text": [
            "/home/minho/pitch-match-music/pesto_training/pesto-full\n"
          ]
        }
      ],
      "source": [
        "%cd pesto-full"
      ]
    },
    {
      "cell_type": "code",
      "execution_count": 3,
      "metadata": {
        "colab": {
          "base_uri": "https://localhost:8080/"
        },
        "id": "sgmUqhPlvRrh",
        "outputId": "ac30f74d-ac9d-4e26-8f45-d840aae47ea0"
      },
      "outputs": [
        {
          "name": "stdout",
          "output_type": "stream",
          "text": [
            "Requirement already satisfied: torch>=2.1.2 in /home/minho/miniconda3/envs/pitch_match/lib/python3.11/site-packages (from -r requirements.txt (line 2)) (2.5.1)\n",
            "Requirement already satisfied: torchaudio>=2.1.2 in /home/minho/miniconda3/envs/pitch_match/lib/python3.11/site-packages (from -r requirements.txt (line 3)) (2.5.1)\n",
            "Collecting lightning>=2.1.3 (from -r requirements.txt (line 6))\n",
            "  Using cached lightning-2.5.0.post0-py3-none-any.whl.metadata (40 kB)\n",
            "Collecting hydra-core>=1.3.2 (from -r requirements.txt (line 9))\n",
            "  Using cached hydra_core-1.3.2-py3-none-any.whl.metadata (5.5 kB)\n",
            "Collecting hydra-colorlog (from -r requirements.txt (line 10))\n",
            "  Using cached hydra_colorlog-1.2.0-py3-none-any.whl.metadata (949 bytes)\n",
            "Collecting nnAudio>=0.3.2 (from -r requirements.txt (line 13))\n",
            "  Using cached nnAudio-0.3.3-py3-none-any.whl.metadata (771 bytes)\n",
            "Collecting rich>=13.7.0 (from -r requirements.txt (line 16))\n",
            "  Using cached rich-13.9.4-py3-none-any.whl.metadata (18 kB)\n",
            "Collecting rootutils>=1.0.7 (from -r requirements.txt (line 17))\n",
            "  Using cached rootutils-1.0.7-py3-none-any.whl.metadata (4.7 kB)\n",
            "Requirement already satisfied: filelock in /home/minho/miniconda3/envs/pitch_match/lib/python3.11/site-packages (from torch>=2.1.2->-r requirements.txt (line 2)) (3.17.0)\n",
            "Requirement already satisfied: typing-extensions>=4.8.0 in /home/minho/miniconda3/envs/pitch_match/lib/python3.11/site-packages (from torch>=2.1.2->-r requirements.txt (line 2)) (4.12.2)\n",
            "Requirement already satisfied: networkx in /home/minho/miniconda3/envs/pitch_match/lib/python3.11/site-packages (from torch>=2.1.2->-r requirements.txt (line 2)) (3.4.2)\n",
            "Requirement already satisfied: jinja2 in /home/minho/miniconda3/envs/pitch_match/lib/python3.11/site-packages (from torch>=2.1.2->-r requirements.txt (line 2)) (3.1.5)\n",
            "Requirement already satisfied: fsspec in /home/minho/miniconda3/envs/pitch_match/lib/python3.11/site-packages (from torch>=2.1.2->-r requirements.txt (line 2)) (2024.12.0)\n",
            "Requirement already satisfied: nvidia-cuda-nvrtc-cu12==12.4.127 in /home/minho/miniconda3/envs/pitch_match/lib/python3.11/site-packages (from torch>=2.1.2->-r requirements.txt (line 2)) (12.4.127)\n",
            "Requirement already satisfied: nvidia-cuda-runtime-cu12==12.4.127 in /home/minho/miniconda3/envs/pitch_match/lib/python3.11/site-packages (from torch>=2.1.2->-r requirements.txt (line 2)) (12.4.127)\n",
            "Requirement already satisfied: nvidia-cuda-cupti-cu12==12.4.127 in /home/minho/miniconda3/envs/pitch_match/lib/python3.11/site-packages (from torch>=2.1.2->-r requirements.txt (line 2)) (12.4.127)\n",
            "Requirement already satisfied: nvidia-cudnn-cu12==9.1.0.70 in /home/minho/miniconda3/envs/pitch_match/lib/python3.11/site-packages (from torch>=2.1.2->-r requirements.txt (line 2)) (9.1.0.70)\n",
            "Requirement already satisfied: nvidia-cublas-cu12==12.4.5.8 in /home/minho/miniconda3/envs/pitch_match/lib/python3.11/site-packages (from torch>=2.1.2->-r requirements.txt (line 2)) (12.4.5.8)\n",
            "Requirement already satisfied: nvidia-cufft-cu12==11.2.1.3 in /home/minho/miniconda3/envs/pitch_match/lib/python3.11/site-packages (from torch>=2.1.2->-r requirements.txt (line 2)) (11.2.1.3)\n",
            "Requirement already satisfied: nvidia-curand-cu12==10.3.5.147 in /home/minho/miniconda3/envs/pitch_match/lib/python3.11/site-packages (from torch>=2.1.2->-r requirements.txt (line 2)) (10.3.5.147)\n",
            "Requirement already satisfied: nvidia-cusolver-cu12==11.6.1.9 in /home/minho/miniconda3/envs/pitch_match/lib/python3.11/site-packages (from torch>=2.1.2->-r requirements.txt (line 2)) (11.6.1.9)\n",
            "Requirement already satisfied: nvidia-cusparse-cu12==12.3.1.170 in /home/minho/miniconda3/envs/pitch_match/lib/python3.11/site-packages (from torch>=2.1.2->-r requirements.txt (line 2)) (12.3.1.170)\n",
            "Requirement already satisfied: nvidia-nccl-cu12==2.21.5 in /home/minho/miniconda3/envs/pitch_match/lib/python3.11/site-packages (from torch>=2.1.2->-r requirements.txt (line 2)) (2.21.5)\n",
            "Requirement already satisfied: nvidia-nvtx-cu12==12.4.127 in /home/minho/miniconda3/envs/pitch_match/lib/python3.11/site-packages (from torch>=2.1.2->-r requirements.txt (line 2)) (12.4.127)\n",
            "Requirement already satisfied: nvidia-nvjitlink-cu12==12.4.127 in /home/minho/miniconda3/envs/pitch_match/lib/python3.11/site-packages (from torch>=2.1.2->-r requirements.txt (line 2)) (12.4.127)\n",
            "Requirement already satisfied: triton==3.1.0 in /home/minho/miniconda3/envs/pitch_match/lib/python3.11/site-packages (from torch>=2.1.2->-r requirements.txt (line 2)) (3.1.0)\n",
            "Requirement already satisfied: sympy==1.13.1 in /home/minho/miniconda3/envs/pitch_match/lib/python3.11/site-packages (from torch>=2.1.2->-r requirements.txt (line 2)) (1.13.1)\n",
            "Requirement already satisfied: mpmath<1.4,>=1.1.0 in /home/minho/miniconda3/envs/pitch_match/lib/python3.11/site-packages (from sympy==1.13.1->torch>=2.1.2->-r requirements.txt (line 2)) (1.3.0)\n",
            "Collecting PyYAML<8.0,>=5.4 (from lightning>=2.1.3->-r requirements.txt (line 6))\n",
            "  Downloading PyYAML-6.0.2-cp311-cp311-manylinux_2_17_x86_64.manylinux2014_x86_64.whl.metadata (2.1 kB)\n",
            "Collecting lightning-utilities<2.0,>=0.10.0 (from lightning>=2.1.3->-r requirements.txt (line 6))\n",
            "  Using cached lightning_utilities-0.11.9-py3-none-any.whl.metadata (5.2 kB)\n",
            "Requirement already satisfied: packaging<25.0,>=20.0 in /home/minho/miniconda3/envs/pitch_match/lib/python3.11/site-packages (from lightning>=2.1.3->-r requirements.txt (line 6)) (24.2)\n",
            "Collecting torchmetrics<3.0,>=0.7.0 (from lightning>=2.1.3->-r requirements.txt (line 6))\n",
            "  Using cached torchmetrics-1.6.1-py3-none-any.whl.metadata (21 kB)\n",
            "Requirement already satisfied: tqdm<6.0,>=4.57.0 in /home/minho/miniconda3/envs/pitch_match/lib/python3.11/site-packages (from lightning>=2.1.3->-r requirements.txt (line 6)) (4.67.1)\n",
            "Collecting pytorch-lightning (from lightning>=2.1.3->-r requirements.txt (line 6))\n",
            "  Using cached pytorch_lightning-2.5.0.post0-py3-none-any.whl.metadata (21 kB)\n",
            "Collecting omegaconf<2.4,>=2.2 (from hydra-core>=1.3.2->-r requirements.txt (line 9))\n",
            "  Using cached omegaconf-2.3.0-py3-none-any.whl.metadata (3.9 kB)\n",
            "Collecting antlr4-python3-runtime==4.9.* (from hydra-core>=1.3.2->-r requirements.txt (line 9))\n",
            "  Using cached antlr4-python3-runtime-4.9.3.tar.gz (117 kB)\n",
            "  Preparing metadata (setup.py) ... \u001b[?25ldone\n",
            "\u001b[?25hCollecting colorlog (from hydra-colorlog->-r requirements.txt (line 10))\n",
            "  Using cached colorlog-6.9.0-py3-none-any.whl.metadata (10 kB)\n",
            "Requirement already satisfied: scipy>=1.2.0 in /home/minho/miniconda3/envs/pitch_match/lib/python3.11/site-packages (from nnAudio>=0.3.2->-r requirements.txt (line 13)) (1.15.1)\n",
            "Requirement already satisfied: numpy>=1.14.5 in /home/minho/miniconda3/envs/pitch_match/lib/python3.11/site-packages (from nnAudio>=0.3.2->-r requirements.txt (line 13)) (2.2.2)\n",
            "Collecting markdown-it-py>=2.2.0 (from rich>=13.7.0->-r requirements.txt (line 16))\n",
            "  Using cached markdown_it_py-3.0.0-py3-none-any.whl.metadata (6.9 kB)\n",
            "Requirement already satisfied: pygments<3.0.0,>=2.13.0 in /home/minho/miniconda3/envs/pitch_match/lib/python3.11/site-packages (from rich>=13.7.0->-r requirements.txt (line 16)) (2.19.1)\n",
            "Collecting python-dotenv>=0.20.0 (from rootutils>=1.0.7->-r requirements.txt (line 17))\n",
            "  Using cached python_dotenv-1.0.1-py3-none-any.whl.metadata (23 kB)\n",
            "Collecting aiohttp!=4.0.0a0,!=4.0.0a1 (from fsspec[http]<2026.0,>=2022.5.0->lightning>=2.1.3->-r requirements.txt (line 6))\n",
            "  Downloading aiohttp-3.11.11-cp311-cp311-manylinux_2_17_x86_64.manylinux2014_x86_64.whl.metadata (7.7 kB)\n",
            "Requirement already satisfied: setuptools in /home/minho/miniconda3/envs/pitch_match/lib/python3.11/site-packages (from lightning-utilities<2.0,>=0.10.0->lightning>=2.1.3->-r requirements.txt (line 6)) (75.1.0)\n",
            "Collecting mdurl~=0.1 (from markdown-it-py>=2.2.0->rich>=13.7.0->-r requirements.txt (line 16))\n",
            "  Using cached mdurl-0.1.2-py3-none-any.whl.metadata (1.6 kB)\n",
            "Requirement already satisfied: MarkupSafe>=2.0 in /home/minho/miniconda3/envs/pitch_match/lib/python3.11/site-packages (from jinja2->torch>=2.1.2->-r requirements.txt (line 2)) (3.0.2)\n",
            "Collecting aiohappyeyeballs>=2.3.0 (from aiohttp!=4.0.0a0,!=4.0.0a1->fsspec[http]<2026.0,>=2022.5.0->lightning>=2.1.3->-r requirements.txt (line 6))\n",
            "  Using cached aiohappyeyeballs-2.4.4-py3-none-any.whl.metadata (6.1 kB)\n",
            "Collecting aiosignal>=1.1.2 (from aiohttp!=4.0.0a0,!=4.0.0a1->fsspec[http]<2026.0,>=2022.5.0->lightning>=2.1.3->-r requirements.txt (line 6))\n",
            "  Using cached aiosignal-1.3.2-py2.py3-none-any.whl.metadata (3.8 kB)\n",
            "Collecting attrs>=17.3.0 (from aiohttp!=4.0.0a0,!=4.0.0a1->fsspec[http]<2026.0,>=2022.5.0->lightning>=2.1.3->-r requirements.txt (line 6))\n",
            "  Using cached attrs-25.1.0-py3-none-any.whl.metadata (10 kB)\n",
            "Collecting frozenlist>=1.1.1 (from aiohttp!=4.0.0a0,!=4.0.0a1->fsspec[http]<2026.0,>=2022.5.0->lightning>=2.1.3->-r requirements.txt (line 6))\n",
            "  Downloading frozenlist-1.5.0-cp311-cp311-manylinux_2_5_x86_64.manylinux1_x86_64.manylinux_2_17_x86_64.manylinux2014_x86_64.whl.metadata (13 kB)\n",
            "Collecting multidict<7.0,>=4.5 (from aiohttp!=4.0.0a0,!=4.0.0a1->fsspec[http]<2026.0,>=2022.5.0->lightning>=2.1.3->-r requirements.txt (line 6))\n",
            "  Downloading multidict-6.1.0-cp311-cp311-manylinux_2_17_x86_64.manylinux2014_x86_64.whl.metadata (5.0 kB)\n",
            "Collecting propcache>=0.2.0 (from aiohttp!=4.0.0a0,!=4.0.0a1->fsspec[http]<2026.0,>=2022.5.0->lightning>=2.1.3->-r requirements.txt (line 6))\n",
            "  Downloading propcache-0.2.1-cp311-cp311-manylinux_2_17_x86_64.manylinux2014_x86_64.whl.metadata (9.2 kB)\n",
            "Collecting yarl<2.0,>=1.17.0 (from aiohttp!=4.0.0a0,!=4.0.0a1->fsspec[http]<2026.0,>=2022.5.0->lightning>=2.1.3->-r requirements.txt (line 6))\n",
            "  Downloading yarl-1.18.3-cp311-cp311-manylinux_2_17_x86_64.manylinux2014_x86_64.whl.metadata (69 kB)\n",
            "Collecting idna>=2.0 (from yarl<2.0,>=1.17.0->aiohttp!=4.0.0a0,!=4.0.0a1->fsspec[http]<2026.0,>=2022.5.0->lightning>=2.1.3->-r requirements.txt (line 6))\n",
            "  Using cached idna-3.10-py3-none-any.whl.metadata (10 kB)\n",
            "Using cached lightning-2.5.0.post0-py3-none-any.whl (815 kB)\n",
            "Using cached hydra_core-1.3.2-py3-none-any.whl (154 kB)\n",
            "Using cached hydra_colorlog-1.2.0-py3-none-any.whl (3.6 kB)\n",
            "Using cached nnAudio-0.3.3-py3-none-any.whl (43 kB)\n",
            "Using cached rich-13.9.4-py3-none-any.whl (242 kB)\n",
            "Using cached rootutils-1.0.7-py3-none-any.whl (6.4 kB)\n",
            "Using cached lightning_utilities-0.11.9-py3-none-any.whl (28 kB)\n",
            "Using cached markdown_it_py-3.0.0-py3-none-any.whl (87 kB)\n",
            "Using cached omegaconf-2.3.0-py3-none-any.whl (79 kB)\n",
            "Using cached python_dotenv-1.0.1-py3-none-any.whl (19 kB)\n",
            "Downloading PyYAML-6.0.2-cp311-cp311-manylinux_2_17_x86_64.manylinux2014_x86_64.whl (762 kB)\n",
            "\u001b[2K   \u001b[90m━━━━━━━━━━━━━━━━━━━━━━━━━━━━━━━━━━━━━━━━\u001b[0m \u001b[32m763.0/763.0 kB\u001b[0m \u001b[31m42.2 MB/s\u001b[0m eta \u001b[36m0:00:00\u001b[0m\n",
            "\u001b[?25hUsing cached torchmetrics-1.6.1-py3-none-any.whl (927 kB)\n",
            "Using cached colorlog-6.9.0-py3-none-any.whl (11 kB)\n",
            "Using cached pytorch_lightning-2.5.0.post0-py3-none-any.whl (819 kB)\n",
            "Downloading aiohttp-3.11.11-cp311-cp311-manylinux_2_17_x86_64.manylinux2014_x86_64.whl (1.7 MB)\n",
            "\u001b[2K   \u001b[90m━━━━━━━━━━━━━━━━━━━━━━━━━━━━━━━━━━━━━━━━\u001b[0m \u001b[32m1.7/1.7 MB\u001b[0m \u001b[31m69.5 MB/s\u001b[0m eta \u001b[36m0:00:00\u001b[0m\n",
            "\u001b[?25hUsing cached mdurl-0.1.2-py3-none-any.whl (10.0 kB)\n",
            "Using cached aiohappyeyeballs-2.4.4-py3-none-any.whl (14 kB)\n",
            "Using cached aiosignal-1.3.2-py2.py3-none-any.whl (7.6 kB)\n",
            "Using cached attrs-25.1.0-py3-none-any.whl (63 kB)\n",
            "Downloading frozenlist-1.5.0-cp311-cp311-manylinux_2_5_x86_64.manylinux1_x86_64.manylinux_2_17_x86_64.manylinux2014_x86_64.whl (274 kB)\n",
            "Downloading multidict-6.1.0-cp311-cp311-manylinux_2_17_x86_64.manylinux2014_x86_64.whl (129 kB)\n",
            "Downloading propcache-0.2.1-cp311-cp311-manylinux_2_17_x86_64.manylinux2014_x86_64.whl (231 kB)\n",
            "Downloading yarl-1.18.3-cp311-cp311-manylinux_2_17_x86_64.manylinux2014_x86_64.whl (344 kB)\n",
            "Using cached idna-3.10-py3-none-any.whl (70 kB)\n",
            "Building wheels for collected packages: antlr4-python3-runtime\n",
            "  Building wheel for antlr4-python3-runtime (setup.py) ... \u001b[?25ldone\n",
            "\u001b[?25h  Created wheel for antlr4-python3-runtime: filename=antlr4_python3_runtime-4.9.3-py3-none-any.whl size=144555 sha256=f0f9377e52d43ef2f1c4cdddcc59dba493a580911f73d12e59d10a9a190e68bb\n",
            "  Stored in directory: /home/minho/.cache/pip/wheels/1a/97/32/461f837398029ad76911109f07047fde1d7b661a147c7c56d1\n",
            "Successfully built antlr4-python3-runtime\n",
            "Installing collected packages: antlr4-python3-runtime, PyYAML, python-dotenv, propcache, multidict, mdurl, lightning-utilities, idna, frozenlist, colorlog, attrs, aiohappyeyeballs, yarl, rootutils, omegaconf, markdown-it-py, aiosignal, rich, hydra-core, aiohttp, torchmetrics, nnAudio, hydra-colorlog, pytorch-lightning, lightning\n",
            "Successfully installed PyYAML-6.0.2 aiohappyeyeballs-2.4.4 aiohttp-3.11.11 aiosignal-1.3.2 antlr4-python3-runtime-4.9.3 attrs-25.1.0 colorlog-6.9.0 frozenlist-1.5.0 hydra-colorlog-1.2.0 hydra-core-1.3.2 idna-3.10 lightning-2.5.0.post0 lightning-utilities-0.11.9 markdown-it-py-3.0.0 mdurl-0.1.2 multidict-6.1.0 nnAudio-0.3.3 omegaconf-2.3.0 propcache-0.2.1 python-dotenv-1.0.1 pytorch-lightning-2.5.0.post0 rich-13.9.4 rootutils-1.0.7 torchmetrics-1.6.1 yarl-1.18.3\n"
          ]
        }
      ],
      "source": [
        "!pip install -r requirements.txt"
      ]
    },
    {
      "cell_type": "code",
      "execution_count": 4,
      "metadata": {
        "colab": {
          "base_uri": "https://localhost:8080/"
        },
        "id": "NIgzkXvoyQqo",
        "outputId": "4e3cafbd-5bc0-42ff-c50a-3ebd551f193b"
      },
      "outputs": [
        {
          "name": "stdout",
          "output_type": "stream",
          "text": [
            "Collecting mir_eval\n",
            "  Using cached mir_eval-0.7.tar.gz (90 kB)\n",
            "  Preparing metadata (setup.py) ... \u001b[?25ldone\n",
            "\u001b[?25hRequirement already satisfied: numpy>=1.7.0 in /home/minho/miniconda3/envs/pitch_match/lib/python3.11/site-packages (from mir_eval) (2.2.2)\n",
            "Requirement already satisfied: scipy>=1.0.0 in /home/minho/miniconda3/envs/pitch_match/lib/python3.11/site-packages (from mir_eval) (1.15.1)\n",
            "Collecting future (from mir_eval)\n",
            "  Using cached future-1.0.0-py3-none-any.whl.metadata (4.0 kB)\n",
            "Requirement already satisfied: six in /home/minho/miniconda3/envs/pitch_match/lib/python3.11/site-packages (from mir_eval) (1.17.0)\n",
            "Using cached future-1.0.0-py3-none-any.whl (491 kB)\n",
            "Building wheels for collected packages: mir_eval\n",
            "  Building wheel for mir_eval (setup.py) ... \u001b[?25ldone\n",
            "\u001b[?25h  Created wheel for mir_eval: filename=mir_eval-0.7-py3-none-any.whl size=100699 sha256=6a8d87e931a928508f8ff96c9d5bde5e7e266d439f0c10a2dd05f815961a1ac5\n",
            "  Stored in directory: /home/minho/.cache/pip/wheels/7a/37/52/2a4c9f90d1b3414709ae2fe4627b3c13894f8922d3aade1f9e\n",
            "Successfully built mir_eval\n",
            "Installing collected packages: future, mir_eval\n",
            "Successfully installed future-1.0.0 mir_eval-0.7\n"
          ]
        }
      ],
      "source": [
        "!pip install mir_eval"
      ]
    },
    {
      "cell_type": "code",
      "execution_count": 5,
      "metadata": {
        "colab": {
          "base_uri": "https://localhost:8080/"
        },
        "id": "y5xrST7z3cyo",
        "outputId": "c2f63775-bbb3-42ab-dd15-58d3543c74cd"
      },
      "outputs": [
        {
          "name": "stdout",
          "output_type": "stream",
          "text": [
            "[Errno 2] No such file or directory: 'dataset'\n",
            "/home/minho/pitch-match-music/pesto_training/pesto-full\n",
            "find: ‘Vocals’: No such file or directory\n",
            "find: ‘PitchLabel’: No such file or directory\n",
            "/home/minho/pitch-match-music/pesto_training\n"
          ]
        }
      ],
      "source": [
        "%cd dataset\n",
        "\n",
        "!find Vocals -name \"*.wav\" | sort > my_dataset.csv\n",
        "!find PitchLabel  -name \"*.csv\" | sort > my_dataset_annot.csv\n",
        "\n",
        "%cd .."
      ]
    },
    {
      "cell_type": "code",
      "execution_count": 6,
      "metadata": {
        "colab": {
          "base_uri": "https://localhost:8080/"
        },
        "id": "sqAJiGIcvnd4",
        "outputId": "25ae529f-3991-4728-8d96-b18d55f489a4"
      },
      "outputs": [
        {
          "name": "stdout",
          "output_type": "stream",
          "text": [
            "python: can't open file '/home/minho/pitch-match-music/pesto_training/src/train.py': [Errno 2] No such file or directory\n"
          ]
        }
      ],
      "source": [
        "!python src/train.py data=my_dataset logger=csv"
      ]
    },
    {
      "cell_type": "code",
      "execution_count": 1,
      "metadata": {},
      "outputs": [
        {
          "name": "stdout",
          "output_type": "stream",
          "text": [
            "🔹 PyTorch 버전: 2.5.0\n",
            "🔹 CUDA 지원 여부: True\n",
            "🔹 CUDA 버전: 12.4\n",
            "🔹 cuDNN 버전: 90100\n",
            "🔹 cuDNN 사용 가능 여부: True\n",
            "🔹 사용 가능한 GPU 디바이스 수: 1\n",
            "🔹 GPU 0 이름: NVIDIA GeForce RTX 4070 Ti SUPER\n"
          ]
        }
      ],
      "source": [
        "import torch\n",
        "\n",
        "# PyTorch 버전\n",
        "print(\"🔹 PyTorch 버전:\", torch.__version__)\n",
        "\n",
        "# CUDA 지원 여부\n",
        "cuda_available = torch.cuda.is_available()\n",
        "print(\"🔹 CUDA 지원 여부:\", cuda_available)\n",
        "\n",
        "# CUDA 버전 확인\n",
        "if cuda_available:\n",
        "    print(\"🔹 CUDA 버전:\", torch.version.cuda)\n",
        "    \n",
        "    # cuDNN 버전 확인\n",
        "    print(\"🔹 cuDNN 버전:\", torch.backends.cudnn.version())\n",
        "\n",
        "    # cuDNN 활성화 여부\n",
        "    print(\"🔹 cuDNN 사용 가능 여부:\", torch.backends.cudnn.enabled)\n",
        "\n",
        "    # 사용 가능한 GPU 디바이스 개수\n",
        "    print(\"🔹 사용 가능한 GPU 디바이스 수:\", torch.cuda.device_count())\n",
        "\n",
        "    # 현재 사용 중인 GPU 정보\n",
        "    for i in range(torch.cuda.device_count()):\n",
        "        print(f\"🔹 GPU {i} 이름: {torch.cuda.get_device_name(i)}\")\n",
        "else:\n",
        "    print(\"❌ CUDA가 활성화되지 않았습니다. CPU 모드로 실행됩니다.\")"
      ]
    },
    {
      "cell_type": "code",
      "execution_count": 2,
      "metadata": {},
      "outputs": [
        {
          "name": "stdout",
          "output_type": "stream",
          "text": [
            "Wed Jan 29 21:44:13 2025       \n",
            "+---------------------------------------------------------------------------------------+\n",
            "| NVIDIA-SMI 535.216.03             Driver Version: 566.36       CUDA Version: 12.7     |\n",
            "|-----------------------------------------+----------------------+----------------------+\n",
            "| GPU  Name                 Persistence-M | Bus-Id        Disp.A | Volatile Uncorr. ECC |\n",
            "| Fan  Temp   Perf          Pwr:Usage/Cap |         Memory-Usage | GPU-Util  Compute M. |\n",
            "|                                         |                      |               MIG M. |\n",
            "|=========================================+======================+======================|\n",
            "|   0  NVIDIA GeForce RTX 4070 ...    On  | 00000000:01:00.0  On |                  N/A |\n",
            "|  0%   36C    P8              15W / 285W |   2655MiB / 16376MiB |     12%      Default |\n",
            "|                                         |                      |                  N/A |\n",
            "+-----------------------------------------+----------------------+----------------------+\n",
            "                                                                                         \n",
            "+---------------------------------------------------------------------------------------+\n",
            "| Processes:                                                                            |\n",
            "|  GPU   GI   CI        PID   Type   Process name                            GPU Memory |\n",
            "|        ID   ID                                                             Usage      |\n",
            "|=======================================================================================|\n",
            "|  No running processes found                                                           |\n",
            "+---------------------------------------------------------------------------------------+\n"
          ]
        }
      ],
      "source": [
        "!nvidia-smi"
      ]
    }
  ],
  "metadata": {
    "accelerator": "GPU",
    "colab": {
      "gpuType": "T4",
      "provenance": []
    },
    "kernelspec": {
      "display_name": "pitch_match",
      "language": "python",
      "name": "python3"
    },
    "language_info": {
      "codemirror_mode": {
        "name": "ipython",
        "version": 3
      },
      "file_extension": ".py",
      "mimetype": "text/x-python",
      "name": "python",
      "nbconvert_exporter": "python",
      "pygments_lexer": "ipython3",
      "version": "3.11.11"
    }
  },
  "nbformat": 4,
  "nbformat_minor": 0
}
