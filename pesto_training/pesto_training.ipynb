{
  "nbformat": 4,
  "nbformat_minor": 0,
  "metadata": {
    "colab": {
      "provenance": [],
      "gpuType": "T4"
    },
    "kernelspec": {
      "name": "python3",
      "display_name": "Python 3"
    },
    "language_info": {
      "name": "python"
    },
    "accelerator": "GPU"
  },
  "cells": [
    {
      "cell_type": "code",
      "execution_count": 1,
      "metadata": {
        "colab": {
          "base_uri": "https://localhost:8080/"
        },
        "id": "M9yOgOIEtYCy",
        "outputId": "06987ab9-9f49-45aa-d148-7d254e69e748"
      },
      "outputs": [
        {
          "output_type": "stream",
          "name": "stdout",
          "text": [
            "Cloning into 'pesto-full'...\n",
            "remote: Enumerating objects: 145, done.\u001b[K\n",
            "remote: Counting objects: 100% (31/31), done.\u001b[K\n",
            "remote: Compressing objects: 100% (15/15), done.\u001b[K\n",
            "remote: Total 145 (delta 20), reused 16 (delta 16), pack-reused 114 (from 1)\u001b[K\n",
            "Receiving objects: 100% (145/145), 454.00 KiB | 8.25 MiB/s, done.\n",
            "Resolving deltas: 100% (44/44), done.\n"
          ]
        }
      ],
      "source": [
        "!git clone https://github.com/SonyCSLParis/pesto-full.git"
      ]
    },
    {
      "cell_type": "code",
      "source": [
        "%cd pesto-full"
      ],
      "metadata": {
        "colab": {
          "base_uri": "https://localhost:8080/"
        },
        "id": "2jfpVH6uv8nE",
        "outputId": "a7d01439-9aca-4800-a9be-64b79bfa68d5"
      },
      "execution_count": 2,
      "outputs": [
        {
          "output_type": "stream",
          "name": "stdout",
          "text": [
            "/content/pesto-full\n"
          ]
        }
      ]
    },
    {
      "cell_type": "code",
      "source": [
        "!pip install -r requirements.txt"
      ],
      "metadata": {
        "colab": {
          "base_uri": "https://localhost:8080/"
        },
        "id": "sgmUqhPlvRrh",
        "outputId": "ac30f74d-ac9d-4e26-8f45-d840aae47ea0"
      },
      "execution_count": 14,
      "outputs": [
        {
          "output_type": "stream",
          "name": "stdout",
          "text": [
            "Requirement already satisfied: torch>=2.1.2 in /usr/local/lib/python3.10/dist-packages (from -r requirements.txt (line 2)) (2.5.1+cu121)\n",
            "Requirement already satisfied: torchaudio>=2.1.2 in /usr/local/lib/python3.10/dist-packages (from -r requirements.txt (line 3)) (2.5.1+cu121)\n",
            "Requirement already satisfied: lightning>=2.1.3 in /usr/local/lib/python3.10/dist-packages (from -r requirements.txt (line 6)) (2.5.0.post0)\n",
            "Requirement already satisfied: hydra-core>=1.3.2 in /usr/local/lib/python3.10/dist-packages (from -r requirements.txt (line 9)) (1.3.2)\n",
            "Requirement already satisfied: hydra-colorlog in /usr/local/lib/python3.10/dist-packages (from -r requirements.txt (line 10)) (1.2.0)\n",
            "Requirement already satisfied: nnAudio>=0.3.2 in /usr/local/lib/python3.10/dist-packages (from -r requirements.txt (line 13)) (0.3.3)\n",
            "Requirement already satisfied: rich>=13.7.0 in /usr/local/lib/python3.10/dist-packages (from -r requirements.txt (line 16)) (13.9.4)\n",
            "Requirement already satisfied: rootutils>=1.0.7 in /usr/local/lib/python3.10/dist-packages (from -r requirements.txt (line 17)) (1.0.7)\n",
            "Requirement already satisfied: filelock in /usr/local/lib/python3.10/dist-packages (from torch>=2.1.2->-r requirements.txt (line 2)) (3.16.1)\n",
            "Requirement already satisfied: typing-extensions>=4.8.0 in /usr/local/lib/python3.10/dist-packages (from torch>=2.1.2->-r requirements.txt (line 2)) (4.12.2)\n",
            "Requirement already satisfied: networkx in /usr/local/lib/python3.10/dist-packages (from torch>=2.1.2->-r requirements.txt (line 2)) (3.4.2)\n",
            "Requirement already satisfied: jinja2 in /usr/local/lib/python3.10/dist-packages (from torch>=2.1.2->-r requirements.txt (line 2)) (3.1.4)\n",
            "Requirement already satisfied: fsspec in /usr/local/lib/python3.10/dist-packages (from torch>=2.1.2->-r requirements.txt (line 2)) (2024.10.0)\n",
            "Requirement already satisfied: sympy==1.13.1 in /usr/local/lib/python3.10/dist-packages (from torch>=2.1.2->-r requirements.txt (line 2)) (1.13.1)\n",
            "Requirement already satisfied: mpmath<1.4,>=1.1.0 in /usr/local/lib/python3.10/dist-packages (from sympy==1.13.1->torch>=2.1.2->-r requirements.txt (line 2)) (1.3.0)\n",
            "Requirement already satisfied: PyYAML<8.0,>=5.4 in /usr/local/lib/python3.10/dist-packages (from lightning>=2.1.3->-r requirements.txt (line 6)) (6.0.2)\n",
            "Requirement already satisfied: lightning-utilities<2.0,>=0.10.0 in /usr/local/lib/python3.10/dist-packages (from lightning>=2.1.3->-r requirements.txt (line 6)) (0.11.9)\n",
            "Requirement already satisfied: packaging<25.0,>=20.0 in /usr/local/lib/python3.10/dist-packages (from lightning>=2.1.3->-r requirements.txt (line 6)) (24.2)\n",
            "Requirement already satisfied: torchmetrics<3.0,>=0.7.0 in /usr/local/lib/python3.10/dist-packages (from lightning>=2.1.3->-r requirements.txt (line 6)) (1.6.1)\n",
            "Requirement already satisfied: tqdm<6.0,>=4.57.0 in /usr/local/lib/python3.10/dist-packages (from lightning>=2.1.3->-r requirements.txt (line 6)) (4.67.1)\n",
            "Requirement already satisfied: pytorch-lightning in /usr/local/lib/python3.10/dist-packages (from lightning>=2.1.3->-r requirements.txt (line 6)) (2.5.0.post0)\n",
            "Requirement already satisfied: omegaconf<2.4,>=2.2 in /usr/local/lib/python3.10/dist-packages (from hydra-core>=1.3.2->-r requirements.txt (line 9)) (2.3.0)\n",
            "Requirement already satisfied: antlr4-python3-runtime==4.9.* in /usr/local/lib/python3.10/dist-packages (from hydra-core>=1.3.2->-r requirements.txt (line 9)) (4.9.3)\n",
            "Requirement already satisfied: colorlog in /usr/local/lib/python3.10/dist-packages (from hydra-colorlog->-r requirements.txt (line 10)) (6.9.0)\n",
            "Requirement already satisfied: scipy>=1.2.0 in /usr/local/lib/python3.10/dist-packages (from nnAudio>=0.3.2->-r requirements.txt (line 13)) (1.13.1)\n",
            "Requirement already satisfied: numpy>=1.14.5 in /usr/local/lib/python3.10/dist-packages (from nnAudio>=0.3.2->-r requirements.txt (line 13)) (1.26.4)\n",
            "Requirement already satisfied: markdown-it-py>=2.2.0 in /usr/local/lib/python3.10/dist-packages (from rich>=13.7.0->-r requirements.txt (line 16)) (3.0.0)\n",
            "Requirement already satisfied: pygments<3.0.0,>=2.13.0 in /usr/local/lib/python3.10/dist-packages (from rich>=13.7.0->-r requirements.txt (line 16)) (2.18.0)\n",
            "Requirement already satisfied: python-dotenv>=0.20.0 in /usr/local/lib/python3.10/dist-packages (from rootutils>=1.0.7->-r requirements.txt (line 17)) (1.0.1)\n",
            "Requirement already satisfied: aiohttp!=4.0.0a0,!=4.0.0a1 in /usr/local/lib/python3.10/dist-packages (from fsspec[http]<2026.0,>=2022.5.0->lightning>=2.1.3->-r requirements.txt (line 6)) (3.11.10)\n",
            "Requirement already satisfied: setuptools in /usr/local/lib/python3.10/dist-packages (from lightning-utilities<2.0,>=0.10.0->lightning>=2.1.3->-r requirements.txt (line 6)) (75.1.0)\n",
            "Requirement already satisfied: mdurl~=0.1 in /usr/local/lib/python3.10/dist-packages (from markdown-it-py>=2.2.0->rich>=13.7.0->-r requirements.txt (line 16)) (0.1.2)\n",
            "Requirement already satisfied: MarkupSafe>=2.0 in /usr/local/lib/python3.10/dist-packages (from jinja2->torch>=2.1.2->-r requirements.txt (line 2)) (3.0.2)\n",
            "Requirement already satisfied: aiohappyeyeballs>=2.3.0 in /usr/local/lib/python3.10/dist-packages (from aiohttp!=4.0.0a0,!=4.0.0a1->fsspec[http]<2026.0,>=2022.5.0->lightning>=2.1.3->-r requirements.txt (line 6)) (2.4.4)\n",
            "Requirement already satisfied: aiosignal>=1.1.2 in /usr/local/lib/python3.10/dist-packages (from aiohttp!=4.0.0a0,!=4.0.0a1->fsspec[http]<2026.0,>=2022.5.0->lightning>=2.1.3->-r requirements.txt (line 6)) (1.3.2)\n",
            "Requirement already satisfied: async-timeout<6.0,>=4.0 in /usr/local/lib/python3.10/dist-packages (from aiohttp!=4.0.0a0,!=4.0.0a1->fsspec[http]<2026.0,>=2022.5.0->lightning>=2.1.3->-r requirements.txt (line 6)) (4.0.3)\n",
            "Requirement already satisfied: attrs>=17.3.0 in /usr/local/lib/python3.10/dist-packages (from aiohttp!=4.0.0a0,!=4.0.0a1->fsspec[http]<2026.0,>=2022.5.0->lightning>=2.1.3->-r requirements.txt (line 6)) (24.3.0)\n",
            "Requirement already satisfied: frozenlist>=1.1.1 in /usr/local/lib/python3.10/dist-packages (from aiohttp!=4.0.0a0,!=4.0.0a1->fsspec[http]<2026.0,>=2022.5.0->lightning>=2.1.3->-r requirements.txt (line 6)) (1.5.0)\n",
            "Requirement already satisfied: multidict<7.0,>=4.5 in /usr/local/lib/python3.10/dist-packages (from aiohttp!=4.0.0a0,!=4.0.0a1->fsspec[http]<2026.0,>=2022.5.0->lightning>=2.1.3->-r requirements.txt (line 6)) (6.1.0)\n",
            "Requirement already satisfied: propcache>=0.2.0 in /usr/local/lib/python3.10/dist-packages (from aiohttp!=4.0.0a0,!=4.0.0a1->fsspec[http]<2026.0,>=2022.5.0->lightning>=2.1.3->-r requirements.txt (line 6)) (0.2.1)\n",
            "Requirement already satisfied: yarl<2.0,>=1.17.0 in /usr/local/lib/python3.10/dist-packages (from aiohttp!=4.0.0a0,!=4.0.0a1->fsspec[http]<2026.0,>=2022.5.0->lightning>=2.1.3->-r requirements.txt (line 6)) (1.18.3)\n",
            "Requirement already satisfied: idna>=2.0 in /usr/local/lib/python3.10/dist-packages (from yarl<2.0,>=1.17.0->aiohttp!=4.0.0a0,!=4.0.0a1->fsspec[http]<2026.0,>=2022.5.0->lightning>=2.1.3->-r requirements.txt (line 6)) (3.10)\n"
          ]
        }
      ]
    },
    {
      "cell_type": "code",
      "source": [
        "!pip install mir_eval"
      ],
      "metadata": {
        "colab": {
          "base_uri": "https://localhost:8080/"
        },
        "id": "NIgzkXvoyQqo",
        "outputId": "4e3cafbd-5bc0-42ff-c50a-3ebd551f193b"
      },
      "execution_count": 48,
      "outputs": [
        {
          "output_type": "stream",
          "name": "stdout",
          "text": [
            "Collecting mir_eval\n",
            "  Using cached mir_eval-0.7-py3-none-any.whl\n",
            "Requirement already satisfied: numpy>=1.7.0 in /usr/local/lib/python3.10/dist-packages (from mir_eval) (1.26.4)\n",
            "Requirement already satisfied: scipy>=1.0.0 in /usr/local/lib/python3.10/dist-packages (from mir_eval) (1.13.1)\n",
            "Requirement already satisfied: future in /usr/local/lib/python3.10/dist-packages (from mir_eval) (1.0.0)\n",
            "Requirement already satisfied: six in /usr/local/lib/python3.10/dist-packages (from mir_eval) (1.17.0)\n",
            "Installing collected packages: mir_eval\n",
            "Successfully installed mir_eval-0.7\n"
          ]
        }
      ]
    },
    {
      "cell_type": "code",
      "source": [
        "%cd dataset\n",
        "\n",
        "!find Vocals -name \"*.wav\" | sort > my_dataset.csv\n",
        "!find PitchLabel  -name \"*.csv\" | sort > my_dataset_annot.csv\n",
        "\n",
        "%cd .."
      ],
      "metadata": {
        "colab": {
          "base_uri": "https://localhost:8080/"
        },
        "id": "y5xrST7z3cyo",
        "outputId": "c2f63775-bbb3-42ab-dd15-58d3543c74cd"
      },
      "execution_count": 44,
      "outputs": [
        {
          "output_type": "stream",
          "name": "stdout",
          "text": [
            "/content/pesto-full/dataset\n",
            "/content/pesto-full\n"
          ]
        }
      ]
    },
    {
      "cell_type": "code",
      "source": [
        "!python src/train.py data=my_dataset logger=csv"
      ],
      "metadata": {
        "colab": {
          "base_uri": "https://localhost:8080/"
        },
        "id": "sqAJiGIcvnd4",
        "outputId": "25ae529f-3991-4728-8d96-b18d55f489a4"
      },
      "execution_count": 49,
      "outputs": [
        {
          "output_type": "stream",
          "name": "stdout",
          "text": [
            "[\u001b[36m2024-12-29 15:29:00,289\u001b[0m][\u001b[34msrc.utils.utils\u001b[0m][\u001b[32mINFO\u001b[0m] - Enforcing tags! <cfg.extras.enforce_tags=True>\u001b[0m\n",
            "[\u001b[36m2024-12-29 15:29:00,295\u001b[0m][\u001b[34msrc.utils.utils\u001b[0m][\u001b[32mINFO\u001b[0m] - Printing config tree with Rich! <cfg.extras.print_config=True>\u001b[0m\n",
            "\u001b[2mCONFIG\u001b[0m\n",
            "\u001b[2m├── \u001b[0m\u001b[2mdata\u001b[0m\n",
            "\u001b[2m│   \u001b[0m\u001b[2m└── \u001b[0m\u001b[2;91;40m_target_\u001b[0m\u001b[2;97;40m:\u001b[0m\u001b[2;97;40m \u001b[0m\u001b[2;40msrc.data.audio_datamodule.AudioDataModule                                         \u001b[0m\n",
            "\u001b[2m│   \u001b[0m\u001b[2m    \u001b[0m\u001b[2;91;40maudio_files\u001b[0m\u001b[2;97;40m:\u001b[0m\u001b[2;97;40m \u001b[0m\u001b[2;40mdataset/my_dataset.csv                                                         \u001b[0m\n",
            "\u001b[2m│   \u001b[0m\u001b[2m    \u001b[0m\u001b[2;91;40mharmonics\u001b[0m\u001b[2;97;40m:\u001b[0m\u001b[2;40m                                                                                  \u001b[0m\n",
            "\u001b[2m│   \u001b[0m\u001b[2m    \u001b[0m\u001b[2;40m-\u001b[0m\u001b[2;97;40m \u001b[0m\u001b[2;40m1                                                                                         \u001b[0m\n",
            "\u001b[2m│   \u001b[0m\u001b[2m    \u001b[0m\u001b[2;91;40mhop_duration\u001b[0m\u001b[2;97;40m:\u001b[0m\u001b[2;97;40m \u001b[0m\u001b[2;40m10.0                                                                          \u001b[0m\n",
            "\u001b[2m│   \u001b[0m\u001b[2m    \u001b[0m\u001b[2;91;40mfmin\u001b[0m\u001b[2;97;40m:\u001b[0m\u001b[2;97;40m \u001b[0m\u001b[2;40m27.5                                                                                  \u001b[0m\n",
            "\u001b[2m│   \u001b[0m\u001b[2m    \u001b[0m\u001b[2;91;40mfmax\u001b[0m\u001b[2;97;40m:\u001b[0m\u001b[2;97;40m \u001b[0m\u001b[2;40mnull                                                                                  \u001b[0m\n",
            "\u001b[2m│   \u001b[0m\u001b[2m    \u001b[0m\u001b[2;91;40mbins_per_semitone\u001b[0m\u001b[2;97;40m:\u001b[0m\u001b[2;97;40m \u001b[0m\u001b[2;40m3                                                                        \u001b[0m\n",
            "\u001b[2m│   \u001b[0m\u001b[2m    \u001b[0m\u001b[2;91;40mn_bins\u001b[0m\u001b[2;97;40m:\u001b[0m\u001b[2;97;40m \u001b[0m\u001b[2;40m296                                                                                 \u001b[0m\n",
            "\u001b[2m│   \u001b[0m\u001b[2m    \u001b[0m\u001b[2;91;40mcenter_bins\u001b[0m\u001b[2;97;40m:\u001b[0m\u001b[2;97;40m \u001b[0m\u001b[2;40mtrue                                                                           \u001b[0m\n",
            "\u001b[2m│   \u001b[0m\u001b[2m    \u001b[0m\u001b[2;91;40mbatch_size\u001b[0m\u001b[2;97;40m:\u001b[0m\u001b[2;97;40m \u001b[0m\u001b[2;40m256                                                                             \u001b[0m\n",
            "\u001b[2m│   \u001b[0m\u001b[2m    \u001b[0m\u001b[2;91;40mnum_workers\u001b[0m\u001b[2;97;40m:\u001b[0m\u001b[2;97;40m \u001b[0m\u001b[2;40m8                                                                              \u001b[0m\n",
            "\u001b[2m│   \u001b[0m\u001b[2m    \u001b[0m\u001b[2;91;40mpin_memory\u001b[0m\u001b[2;97;40m:\u001b[0m\u001b[2;97;40m \u001b[0m\u001b[2;40mtrue                                                                            \u001b[0m\n",
            "\u001b[2m│   \u001b[0m\u001b[2m    \u001b[0m\u001b[2;91;40mtransforms\u001b[0m\u001b[2;97;40m:\u001b[0m\u001b[2;40m                                                                                 \u001b[0m\n",
            "\u001b[2m│   \u001b[0m\u001b[2m    \u001b[0m\u001b[2;40m-\u001b[0m\u001b[2;97;40m \u001b[0m\u001b[2;91;40m_target_\u001b[0m\u001b[2;97;40m:\u001b[0m\u001b[2;97;40m \u001b[0m\u001b[2;40msrc.data.transforms.ToLogMagnitude                                              \u001b[0m\n",
            "\u001b[2m│   \u001b[0m\u001b[2m    \u001b[0m\u001b[2;91;40mcache_dir\u001b[0m\u001b[2;97;40m:\u001b[0m\u001b[2;97;40m \u001b[0m\u001b[2;40m./cache                                                                          \u001b[0m\n",
            "\u001b[2m│   \u001b[0m\u001b[2m    \u001b[0m\u001b[2;91;40mfilter_unvoiced\u001b[0m\u001b[2;97;40m:\u001b[0m\u001b[2;97;40m \u001b[0m\u001b[2;40mfalse                                                                      \u001b[0m\n",
            "\u001b[2m│   \u001b[0m\u001b[2m    \u001b[0m\u001b[2;91;40mmmap_mode\u001b[0m\u001b[2;97;40m:\u001b[0m\u001b[2;97;40m \u001b[0m\u001b[2;40mnull                                                                             \u001b[0m\n",
            "\u001b[2m│   \u001b[0m\u001b[2m    \u001b[0m\u001b[2;91;40mfold\u001b[0m\u001b[2;97;40m:\u001b[0m\u001b[2;97;40m \u001b[0m\u001b[2;40mnull                                                                                  \u001b[0m\n",
            "\u001b[2m│   \u001b[0m\u001b[2m    \u001b[0m\u001b[2;91;40mn_folds\u001b[0m\u001b[2;97;40m:\u001b[0m\u001b[2;97;40m \u001b[0m\u001b[2;40m5                                                                                  \u001b[0m\n",
            "\u001b[2m│   \u001b[0m\u001b[2m    \u001b[0m\u001b[2;91;40mannot_files\u001b[0m\u001b[2;97;40m:\u001b[0m\u001b[2;97;40m \u001b[0m\u001b[2;40mdataset/my_dataset_annot.csv                                                   \u001b[0m\n",
            "\u001b[2m│   \u001b[0m\u001b[2m    \u001b[0m\u001b[2;40m                                                                                            \u001b[0m\n",
            "\u001b[2m├── \u001b[0m\u001b[2mmodel\u001b[0m\n",
            "\u001b[2m│   \u001b[0m\u001b[2m└── \u001b[0m\u001b[2;91;40m_target_\u001b[0m\u001b[2;97;40m:\u001b[0m\u001b[2;97;40m \u001b[0m\u001b[2;40msrc.models.pesto.PESTO                                                            \u001b[0m\n",
            "\u001b[2m│   \u001b[0m\u001b[2m    \u001b[0m\u001b[2;91;40mencoder\u001b[0m\u001b[2;97;40m:\u001b[0m\u001b[2;40m                                                                                    \u001b[0m\n",
            "\u001b[2m│   \u001b[0m\u001b[2m    \u001b[0m\u001b[2;97;40m  \u001b[0m\u001b[2;91;40m_target_\u001b[0m\u001b[2;97;40m:\u001b[0m\u001b[2;97;40m \u001b[0m\u001b[2;40msrc.models.networks.resnet1d.Resnet1d                                           \u001b[0m\n",
            "\u001b[2m│   \u001b[0m\u001b[2m    \u001b[0m\u001b[2;97;40m  \u001b[0m\u001b[2;91;40mn_chan_input\u001b[0m\u001b[2;97;40m:\u001b[0m\u001b[2;97;40m \u001b[0m\u001b[2;40m1                                                                           \u001b[0m\n",
            "\u001b[2m│   \u001b[0m\u001b[2m    \u001b[0m\u001b[2;97;40m  \u001b[0m\u001b[2;91;40mn_chan_layers\u001b[0m\u001b[2;97;40m:\u001b[0m\u001b[2;40m                                                                            \u001b[0m\n",
            "\u001b[2m│   \u001b[0m\u001b[2m    \u001b[0m\u001b[2;97;40m  \u001b[0m\u001b[2;40m-\u001b[0m\u001b[2;97;40m \u001b[0m\u001b[2;40m40                                                                                      \u001b[0m\n",
            "\u001b[2m│   \u001b[0m\u001b[2m    \u001b[0m\u001b[2;97;40m  \u001b[0m\u001b[2;40m-\u001b[0m\u001b[2;97;40m \u001b[0m\u001b[2;40m30                                                                                      \u001b[0m\n",
            "\u001b[2m│   \u001b[0m\u001b[2m    \u001b[0m\u001b[2;97;40m  \u001b[0m\u001b[2;40m-\u001b[0m\u001b[2;97;40m \u001b[0m\u001b[2;40m30                                                                                      \u001b[0m\n",
            "\u001b[2m│   \u001b[0m\u001b[2m    \u001b[0m\u001b[2;97;40m  \u001b[0m\u001b[2;40m-\u001b[0m\u001b[2;97;40m \u001b[0m\u001b[2;40m10                                                                                      \u001b[0m\n",
            "\u001b[2m│   \u001b[0m\u001b[2m    \u001b[0m\u001b[2;97;40m  \u001b[0m\u001b[2;40m-\u001b[0m\u001b[2;97;40m \u001b[0m\u001b[2;40m3                                                                                       \u001b[0m\n",
            "\u001b[2m│   \u001b[0m\u001b[2m    \u001b[0m\u001b[2;97;40m  \u001b[0m\u001b[2;91;40mn_prefilt_layers\u001b[0m\u001b[2;97;40m:\u001b[0m\u001b[2;97;40m \u001b[0m\u001b[2;40m2                                                                       \u001b[0m\n",
            "\u001b[2m│   \u001b[0m\u001b[2m    \u001b[0m\u001b[2;97;40m  \u001b[0m\u001b[2;91;40mprefilt_kernel_size\u001b[0m\u001b[2;97;40m:\u001b[0m\u001b[2;97;40m \u001b[0m\u001b[2;40m15                                                                   \u001b[0m\n",
            "\u001b[2m│   \u001b[0m\u001b[2m    \u001b[0m\u001b[2;97;40m  \u001b[0m\u001b[2;91;40mresidual\u001b[0m\u001b[2;97;40m:\u001b[0m\u001b[2;97;40m \u001b[0m\u001b[2;40mtrue                                                                            \u001b[0m\n",
            "\u001b[2m│   \u001b[0m\u001b[2m    \u001b[0m\u001b[2;97;40m  \u001b[0m\u001b[2;91;40mn_bins_in\u001b[0m\u001b[2;97;40m:\u001b[0m\u001b[2;97;40m \u001b[0m\u001b[2;40m264                                                                            \u001b[0m\n",
            "\u001b[2m│   \u001b[0m\u001b[2m    \u001b[0m\u001b[2;97;40m  \u001b[0m\u001b[2;91;40moutput_dim\u001b[0m\u001b[2;97;40m:\u001b[0m\u001b[2;97;40m \u001b[0m\u001b[2;40m384                                                                           \u001b[0m\n",
            "\u001b[2m│   \u001b[0m\u001b[2m    \u001b[0m\u001b[2;91;40mequiv_loss_fn\u001b[0m\u001b[2;97;40m:\u001b[0m\u001b[2;40m                                                                              \u001b[0m\n",
            "\u001b[2m│   \u001b[0m\u001b[2m    \u001b[0m\u001b[2;97;40m  \u001b[0m\u001b[2;91;40m_target_\u001b[0m\u001b[2;97;40m:\u001b[0m\u001b[2;97;40m \u001b[0m\u001b[2;40msrc.losses.equivariance.PowerSeries                                             \u001b[0m\n",
            "\u001b[2m│   \u001b[0m\u001b[2m    \u001b[0m\u001b[2;97;40m  \u001b[0m\u001b[2;91;40mvalue\u001b[0m\u001b[2;97;40m:\u001b[0m\u001b[2;97;40m \u001b[0m\u001b[2;40m1.019440644                                                                        \u001b[0m\n",
            "\u001b[2m│   \u001b[0m\u001b[2m    \u001b[0m\u001b[2;97;40m  \u001b[0m\u001b[2;91;40mpower_min\u001b[0m\u001b[2;97;40m:\u001b[0m\u001b[2;97;40m \u001b[0m\u001b[2;40m-383                                                                           \u001b[0m\n",
            "\u001b[2m│   \u001b[0m\u001b[2m    \u001b[0m\u001b[2;97;40m  \u001b[0m\u001b[2;91;40mpower_max\u001b[0m\u001b[2;97;40m:\u001b[0m\u001b[2;97;40m \u001b[0m\u001b[2;40m1                                                                              \u001b[0m\n",
            "\u001b[2m│   \u001b[0m\u001b[2m    \u001b[0m\u001b[2;97;40m  \u001b[0m\u001b[2;91;40mtau\u001b[0m\u001b[2;97;40m:\u001b[0m\u001b[2;97;40m \u001b[0m\u001b[2;40m0.122462048                                                                          \u001b[0m\n",
            "\u001b[2m│   \u001b[0m\u001b[2m    \u001b[0m\u001b[2;91;40minv_loss_fn\u001b[0m\u001b[2;97;40m:\u001b[0m\u001b[2;40m                                                                                \u001b[0m\n",
            "\u001b[2m│   \u001b[0m\u001b[2m    \u001b[0m\u001b[2;97;40m  \u001b[0m\u001b[2;91;40m_target_\u001b[0m\u001b[2;97;40m:\u001b[0m\u001b[2;97;40m \u001b[0m\u001b[2;40msrc.losses.entropy.CrossEntropyLoss                                             \u001b[0m\n",
            "\u001b[2m│   \u001b[0m\u001b[2m    \u001b[0m\u001b[2;97;40m  \u001b[0m\u001b[2;91;40msymmetric\u001b[0m\u001b[2;97;40m:\u001b[0m\u001b[2;97;40m \u001b[0m\u001b[2;40mtrue                                                                           \u001b[0m\n",
            "\u001b[2m│   \u001b[0m\u001b[2m    \u001b[0m\u001b[2;97;40m  \u001b[0m\u001b[2;91;40mdetach_targets\u001b[0m\u001b[2;97;40m:\u001b[0m\u001b[2;97;40m \u001b[0m\u001b[2;40mtrue                                                                      \u001b[0m\n",
            "\u001b[2m│   \u001b[0m\u001b[2m    \u001b[0m\u001b[2;91;40msce_loss_fn\u001b[0m\u001b[2;97;40m:\u001b[0m\u001b[2;40m                                                                                \u001b[0m\n",
            "\u001b[2m│   \u001b[0m\u001b[2m    \u001b[0m\u001b[2;97;40m  \u001b[0m\u001b[2;91;40m_target_\u001b[0m\u001b[2;97;40m:\u001b[0m\u001b[2;97;40m \u001b[0m\u001b[2;40msrc.losses.entropy.ShiftCrossEntropy                                            \u001b[0m\n",
            "\u001b[2m│   \u001b[0m\u001b[2m    \u001b[0m\u001b[2;97;40m  \u001b[0m\u001b[2;91;40mpad_length\u001b[0m\u001b[2;97;40m:\u001b[0m\u001b[2;97;40m \u001b[0m\u001b[2;40m16                                                                            \u001b[0m\n",
            "\u001b[2m│   \u001b[0m\u001b[2m    \u001b[0m\u001b[2;97;40m  \u001b[0m\u001b[2;91;40mcriterion\u001b[0m\u001b[2;97;40m:\u001b[0m\u001b[2;40m                                                                                \u001b[0m\n",
            "\u001b[2m│   \u001b[0m\u001b[2m    \u001b[0m\u001b[2;97;40m    \u001b[0m\u001b[2;91;40m_target_\u001b[0m\u001b[2;97;40m:\u001b[0m\u001b[2;97;40m \u001b[0m\u001b[2;40msrc.losses.entropy.CrossEntropyLoss                                           \u001b[0m\n",
            "\u001b[2m│   \u001b[0m\u001b[2m    \u001b[0m\u001b[2;97;40m    \u001b[0m\u001b[2;91;40msymmetric\u001b[0m\u001b[2;97;40m:\u001b[0m\u001b[2;97;40m \u001b[0m\u001b[2;40mtrue                                                                         \u001b[0m\n",
            "\u001b[2m│   \u001b[0m\u001b[2m    \u001b[0m\u001b[2;97;40m    \u001b[0m\u001b[2;91;40mdetach_targets\u001b[0m\u001b[2;97;40m:\u001b[0m\u001b[2;97;40m \u001b[0m\u001b[2;40mtrue                                                                    \u001b[0m\n",
            "\u001b[2m│   \u001b[0m\u001b[2m    \u001b[0m\u001b[2;91;40moptimizer\u001b[0m\u001b[2;97;40m:\u001b[0m\u001b[2;40m                                                                                  \u001b[0m\n",
            "\u001b[2m│   \u001b[0m\u001b[2m    \u001b[0m\u001b[2;97;40m  \u001b[0m\u001b[2;91;40m_target_\u001b[0m\u001b[2;97;40m:\u001b[0m\u001b[2;97;40m \u001b[0m\u001b[2;40mtorch.optim.Adam                                                                \u001b[0m\n",
            "\u001b[2m│   \u001b[0m\u001b[2m    \u001b[0m\u001b[2;97;40m  \u001b[0m\u001b[2;91;40m_partial_\u001b[0m\u001b[2;97;40m:\u001b[0m\u001b[2;97;40m \u001b[0m\u001b[2;40mtrue                                                                           \u001b[0m\n",
            "\u001b[2m│   \u001b[0m\u001b[2m    \u001b[0m\u001b[2;97;40m  \u001b[0m\u001b[2;91;40mlr\u001b[0m\u001b[2;97;40m:\u001b[0m\u001b[2;97;40m \u001b[0m\u001b[2;40m0.0001                                                                                \u001b[0m\n",
            "\u001b[2m│   \u001b[0m\u001b[2m    \u001b[0m\u001b[2;97;40m  \u001b[0m\u001b[2;91;40mweight_decay\u001b[0m\u001b[2;97;40m:\u001b[0m\u001b[2;97;40m \u001b[0m\u001b[2;40m0                                                                           \u001b[0m\n",
            "\u001b[2m│   \u001b[0m\u001b[2m    \u001b[0m\u001b[2;91;40mscheduler\u001b[0m\u001b[2;97;40m:\u001b[0m\u001b[2;40m                                                                                  \u001b[0m\n",
            "\u001b[2m│   \u001b[0m\u001b[2m    \u001b[0m\u001b[2;97;40m  \u001b[0m\u001b[2;91;40m_target_\u001b[0m\u001b[2;97;40m:\u001b[0m\u001b[2;97;40m \u001b[0m\u001b[2;40mtorch.optim.lr_scheduler.CosineAnnealingLR                                      \u001b[0m\n",
            "\u001b[2m│   \u001b[0m\u001b[2m    \u001b[0m\u001b[2;97;40m  \u001b[0m\u001b[2;91;40m_partial_\u001b[0m\u001b[2;97;40m:\u001b[0m\u001b[2;97;40m \u001b[0m\u001b[2;40mtrue                                                                           \u001b[0m\n",
            "\u001b[2m│   \u001b[0m\u001b[2m    \u001b[0m\u001b[2;97;40m  \u001b[0m\u001b[2;91;40mT_max\u001b[0m\u001b[2;97;40m:\u001b[0m\u001b[2;97;40m \u001b[0m\u001b[2;40m50                                                                                 \u001b[0m\n",
            "\u001b[2m│   \u001b[0m\u001b[2m    \u001b[0m\u001b[2;91;40mpitch_shift_kwargs\u001b[0m\u001b[2;97;40m:\u001b[0m\u001b[2;40m                                                                         \u001b[0m\n",
            "\u001b[2m│   \u001b[0m\u001b[2m    \u001b[0m\u001b[2;97;40m  \u001b[0m\u001b[2;91;40mmin_steps\u001b[0m\u001b[2;97;40m:\u001b[0m\u001b[2;97;40m \u001b[0m\u001b[2;40m-16                                                                            \u001b[0m\n",
            "\u001b[2m│   \u001b[0m\u001b[2m    \u001b[0m\u001b[2;97;40m  \u001b[0m\u001b[2;91;40mmax_steps\u001b[0m\u001b[2;97;40m:\u001b[0m\u001b[2;97;40m \u001b[0m\u001b[2;40m16                                                                             \u001b[0m\n",
            "\u001b[2m│   \u001b[0m\u001b[2m    \u001b[0m\u001b[2;91;40mtransforms\u001b[0m\u001b[2;97;40m:\u001b[0m\u001b[2;40m                                                                                 \u001b[0m\n",
            "\u001b[2m│   \u001b[0m\u001b[2m    \u001b[0m\u001b[2;40m-\u001b[0m\u001b[2;97;40m \u001b[0m\u001b[2;91;40m_target_\u001b[0m\u001b[2;97;40m:\u001b[0m\u001b[2;97;40m \u001b[0m\u001b[2;40msrc.data.transforms.BatchRandomNoise                                            \u001b[0m\n",
            "\u001b[2m│   \u001b[0m\u001b[2m    \u001b[0m\u001b[2;97;40m  \u001b[0m\u001b[2;91;40mmin_snr\u001b[0m\u001b[2;97;40m:\u001b[0m\u001b[2;97;40m \u001b[0m\u001b[2;40m0.1                                                                              \u001b[0m\n",
            "\u001b[2m│   \u001b[0m\u001b[2m    \u001b[0m\u001b[2;97;40m  \u001b[0m\u001b[2;91;40mmax_snr\u001b[0m\u001b[2;97;40m:\u001b[0m\u001b[2;97;40m \u001b[0m\u001b[2;40m2.0                                                                              \u001b[0m\n",
            "\u001b[2m│   \u001b[0m\u001b[2m    \u001b[0m\u001b[2;97;40m  \u001b[0m\u001b[2;91;40mp\u001b[0m\u001b[2;97;40m:\u001b[0m\u001b[2;97;40m \u001b[0m\u001b[2;40m0.7                                                                                    \u001b[0m\n",
            "\u001b[2m│   \u001b[0m\u001b[2m    \u001b[0m\u001b[2;40m-\u001b[0m\u001b[2;97;40m \u001b[0m\u001b[2;91;40m_target_\u001b[0m\u001b[2;97;40m:\u001b[0m\u001b[2;97;40m \u001b[0m\u001b[2;40msrc.data.transforms.BatchRandomGain                                             \u001b[0m\n",
            "\u001b[2m│   \u001b[0m\u001b[2m    \u001b[0m\u001b[2;97;40m  \u001b[0m\u001b[2;91;40mmin_gain\u001b[0m\u001b[2;97;40m:\u001b[0m\u001b[2;97;40m \u001b[0m\u001b[2;40m0.5                                                                             \u001b[0m\n",
            "\u001b[2m│   \u001b[0m\u001b[2m    \u001b[0m\u001b[2;97;40m  \u001b[0m\u001b[2;91;40mmax_gain\u001b[0m\u001b[2;97;40m:\u001b[0m\u001b[2;97;40m \u001b[0m\u001b[2;40m1.5                                                                             \u001b[0m\n",
            "\u001b[2m│   \u001b[0m\u001b[2m    \u001b[0m\u001b[2;97;40m  \u001b[0m\u001b[2;91;40mp\u001b[0m\u001b[2;97;40m:\u001b[0m\u001b[2;97;40m \u001b[0m\u001b[2;40m0.7                                                                                    \u001b[0m\n",
            "\u001b[2m│   \u001b[0m\u001b[2m    \u001b[0m\u001b[2;40m                                                                                            \u001b[0m\n",
            "\u001b[2m├── \u001b[0m\u001b[2mcallbacks\u001b[0m\n",
            "\u001b[2m│   \u001b[0m\u001b[2m└── \u001b[0m\u001b[2;91;40mmodel_checkpoint\u001b[0m\u001b[2;97;40m:\u001b[0m\u001b[2;40m                                                                           \u001b[0m\n",
            "\u001b[2m│   \u001b[0m\u001b[2m    \u001b[0m\u001b[2;97;40m  \u001b[0m\u001b[2;91;40m_target_\u001b[0m\u001b[2;97;40m:\u001b[0m\u001b[2;97;40m \u001b[0m\u001b[2;40mlightning.pytorch.callbacks.ModelCheckpoint                                     \u001b[0m\n",
            "\u001b[2m│   \u001b[0m\u001b[2m    \u001b[0m\u001b[2;97;40m  \u001b[0m\u001b[2;91;40mdirpath\u001b[0m\u001b[2;97;40m:\u001b[0m\u001b[2;97;40m \u001b[0m\u001b[2;40mnull                                                                             \u001b[0m\n",
            "\u001b[2m│   \u001b[0m\u001b[2m    \u001b[0m\u001b[2;97;40m  \u001b[0m\u001b[2;91;40mfilename\u001b[0m\u001b[2;97;40m:\u001b[0m\u001b[2;97;40m \u001b[0m\u001b[2;40mnull                                                                            \u001b[0m\n",
            "\u001b[2m│   \u001b[0m\u001b[2m    \u001b[0m\u001b[2;97;40m  \u001b[0m\u001b[2;91;40mmonitor\u001b[0m\u001b[2;97;40m:\u001b[0m\u001b[2;97;40m \u001b[0m\u001b[2;40mnull                                                                             \u001b[0m\n",
            "\u001b[2m│   \u001b[0m\u001b[2m    \u001b[0m\u001b[2;97;40m  \u001b[0m\u001b[2;91;40mverbose\u001b[0m\u001b[2;97;40m:\u001b[0m\u001b[2;97;40m \u001b[0m\u001b[2;40mfalse                                                                            \u001b[0m\n",
            "\u001b[2m│   \u001b[0m\u001b[2m    \u001b[0m\u001b[2;97;40m  \u001b[0m\u001b[2;91;40msave_last\u001b[0m\u001b[2;97;40m:\u001b[0m\u001b[2;97;40m \u001b[0m\u001b[2;40mnull                                                                           \u001b[0m\n",
            "\u001b[2m│   \u001b[0m\u001b[2m    \u001b[0m\u001b[2;97;40m  \u001b[0m\u001b[2;91;40msave_top_k\u001b[0m\u001b[2;97;40m:\u001b[0m\u001b[2;97;40m \u001b[0m\u001b[2;40m1                                                                             \u001b[0m\n",
            "\u001b[2m│   \u001b[0m\u001b[2m    \u001b[0m\u001b[2;97;40m  \u001b[0m\u001b[2;91;40mmode\u001b[0m\u001b[2;97;40m:\u001b[0m\u001b[2;97;40m \u001b[0m\u001b[2;40mmin                                                                                 \u001b[0m\n",
            "\u001b[2m│   \u001b[0m\u001b[2m    \u001b[0m\u001b[2;97;40m  \u001b[0m\u001b[2;91;40mauto_insert_metric_name\u001b[0m\u001b[2;97;40m:\u001b[0m\u001b[2;97;40m \u001b[0m\u001b[2;40mtrue                                                             \u001b[0m\n",
            "\u001b[2m│   \u001b[0m\u001b[2m    \u001b[0m\u001b[2;97;40m  \u001b[0m\u001b[2;91;40msave_weights_only\u001b[0m\u001b[2;97;40m:\u001b[0m\u001b[2;97;40m \u001b[0m\u001b[2;40mtrue                                                                   \u001b[0m\n",
            "\u001b[2m│   \u001b[0m\u001b[2m    \u001b[0m\u001b[2;97;40m  \u001b[0m\u001b[2;91;40mevery_n_train_steps\u001b[0m\u001b[2;97;40m:\u001b[0m\u001b[2;97;40m \u001b[0m\u001b[2;40mnull                                                                 \u001b[0m\n",
            "\u001b[2m│   \u001b[0m\u001b[2m    \u001b[0m\u001b[2;97;40m  \u001b[0m\u001b[2;91;40mtrain_time_interval\u001b[0m\u001b[2;97;40m:\u001b[0m\u001b[2;97;40m \u001b[0m\u001b[2;40mnull                                                                 \u001b[0m\n",
            "\u001b[2m│   \u001b[0m\u001b[2m    \u001b[0m\u001b[2;97;40m  \u001b[0m\u001b[2;91;40mevery_n_epochs\u001b[0m\u001b[2;97;40m:\u001b[0m\u001b[2;97;40m \u001b[0m\u001b[2;40mnull                                                                      \u001b[0m\n",
            "\u001b[2m│   \u001b[0m\u001b[2m    \u001b[0m\u001b[2;97;40m  \u001b[0m\u001b[2;91;40msave_on_train_epoch_end\u001b[0m\u001b[2;97;40m:\u001b[0m\u001b[2;97;40m \u001b[0m\u001b[2;40mnull                                                             \u001b[0m\n",
            "\u001b[2m│   \u001b[0m\u001b[2m    \u001b[0m\u001b[2;91;40mlr_monitor\u001b[0m\u001b[2;97;40m:\u001b[0m\u001b[2;40m                                                                                 \u001b[0m\n",
            "\u001b[2m│   \u001b[0m\u001b[2m    \u001b[0m\u001b[2;97;40m  \u001b[0m\u001b[2;91;40m_target_\u001b[0m\u001b[2;97;40m:\u001b[0m\u001b[2;97;40m \u001b[0m\u001b[2;40mlightning.pytorch.callbacks.LearningRateMonitor                                 \u001b[0m\n",
            "\u001b[2m│   \u001b[0m\u001b[2m    \u001b[0m\u001b[2;91;40mmodel_summary\u001b[0m\u001b[2;97;40m:\u001b[0m\u001b[2;40m                                                                              \u001b[0m\n",
            "\u001b[2m│   \u001b[0m\u001b[2m    \u001b[0m\u001b[2;97;40m  \u001b[0m\u001b[2;91;40m_target_\u001b[0m\u001b[2;97;40m:\u001b[0m\u001b[2;97;40m \u001b[0m\u001b[2;40mlightning.pytorch.callbacks.RichModelSummary                                    \u001b[0m\n",
            "\u001b[2m│   \u001b[0m\u001b[2m    \u001b[0m\u001b[2;97;40m  \u001b[0m\u001b[2;91;40mmax_depth\u001b[0m\u001b[2;97;40m:\u001b[0m\u001b[2;97;40m \u001b[0m\u001b[2;40m1                                                                              \u001b[0m\n",
            "\u001b[2m│   \u001b[0m\u001b[2m    \u001b[0m\u001b[2;91;40mprogress_bar\u001b[0m\u001b[2;97;40m:\u001b[0m\u001b[2;40m                                                                               \u001b[0m\n",
            "\u001b[2m│   \u001b[0m\u001b[2m    \u001b[0m\u001b[2;97;40m  \u001b[0m\u001b[2;91;40m_target_\u001b[0m\u001b[2;97;40m:\u001b[0m\u001b[2;97;40m \u001b[0m\u001b[2;40mlightning.pytorch.callbacks.RichProgressBar                                     \u001b[0m\n",
            "\u001b[2m│   \u001b[0m\u001b[2m    \u001b[0m\u001b[2;91;40mloss_weighting\u001b[0m\u001b[2;97;40m:\u001b[0m\u001b[2;40m                                                                             \u001b[0m\n",
            "\u001b[2m│   \u001b[0m\u001b[2m    \u001b[0m\u001b[2;97;40m  \u001b[0m\u001b[2;91;40m_target_\u001b[0m\u001b[2;97;40m:\u001b[0m\u001b[2;97;40m \u001b[0m\u001b[2;40msrc.callbacks.loss_weighting.GradientsLossWeighting                             \u001b[0m\n",
            "\u001b[2m│   \u001b[0m\u001b[2m    \u001b[0m\u001b[2;97;40m  \u001b[0m\u001b[2;91;40mweights\u001b[0m\u001b[2;97;40m:\u001b[0m\u001b[2;40m                                                                                  \u001b[0m\n",
            "\u001b[2m│   \u001b[0m\u001b[2m    \u001b[0m\u001b[2;97;40m    \u001b[0m\u001b[2;91;40minvariance\u001b[0m\u001b[2;97;40m:\u001b[0m\u001b[2;97;40m \u001b[0m\u001b[2;40m0.0                                                                         \u001b[0m\n",
            "\u001b[2m│   \u001b[0m\u001b[2m    \u001b[0m\u001b[2;97;40m    \u001b[0m\u001b[2;91;40mshift_entropy\u001b[0m\u001b[2;97;40m:\u001b[0m\u001b[2;97;40m \u001b[0m\u001b[2;40m1.0                                                                      \u001b[0m\n",
            "\u001b[2m│   \u001b[0m\u001b[2m    \u001b[0m\u001b[2;97;40m    \u001b[0m\u001b[2;91;40mequivariance\u001b[0m\u001b[2;97;40m:\u001b[0m\u001b[2;97;40m \u001b[0m\u001b[2;40m0.0                                                                       \u001b[0m\n",
            "\u001b[2m│   \u001b[0m\u001b[2m    \u001b[0m\u001b[2;97;40m  \u001b[0m\u001b[2;91;40mema_rate\u001b[0m\u001b[2;97;40m:\u001b[0m\u001b[2;97;40m \u001b[0m\u001b[2;40m0.999                                                                           \u001b[0m\n",
            "\u001b[2m│   \u001b[0m\u001b[2m    \u001b[0m\u001b[2;91;40mmir_eval\u001b[0m\u001b[2;97;40m:\u001b[0m\u001b[2;40m                                                                                   \u001b[0m\n",
            "\u001b[2m│   \u001b[0m\u001b[2m    \u001b[0m\u001b[2;97;40m  \u001b[0m\u001b[2;91;40m_target_\u001b[0m\u001b[2;97;40m:\u001b[0m\u001b[2;97;40m \u001b[0m\u001b[2;40msrc.callbacks.mir_eval.MIREvalCallback                                          \u001b[0m\n",
            "\u001b[2m│   \u001b[0m\u001b[2m    \u001b[0m\u001b[2;97;40m  \u001b[0m\u001b[2;91;40mcdf_resolution\u001b[0m\u001b[2;97;40m:\u001b[0m\u001b[2;97;40m \u001b[0m\u001b[2;40m10                                                                        \u001b[0m\n",
            "\u001b[2m│   \u001b[0m\u001b[2m    \u001b[0m\u001b[2;91;40mpitch_histogram\u001b[0m\u001b[2;97;40m:\u001b[0m\u001b[2;40m                                                                            \u001b[0m\n",
            "\u001b[2m│   \u001b[0m\u001b[2m    \u001b[0m\u001b[2;97;40m  \u001b[0m\u001b[2;91;40m_target_\u001b[0m\u001b[2;97;40m:\u001b[0m\u001b[2;97;40m \u001b[0m\u001b[2;40msrc.callbacks.pitch_histogram.PitchHistogramCallback                            \u001b[0m\n",
            "\u001b[2m│   \u001b[0m\u001b[2m    \u001b[0m\u001b[2;40m                                                                                            \u001b[0m\n",
            "\u001b[2m├── \u001b[0m\u001b[2mlogger\u001b[0m\n",
            "\u001b[2m│   \u001b[0m\u001b[2m└── \u001b[0m\u001b[2;91;40mcsv\u001b[0m\u001b[2;97;40m:\u001b[0m\u001b[2;40m                                                                                        \u001b[0m\n",
            "\u001b[2m│   \u001b[0m\u001b[2m    \u001b[0m\u001b[2;97;40m  \u001b[0m\u001b[2;91;40m_target_\u001b[0m\u001b[2;97;40m:\u001b[0m\u001b[2;97;40m \u001b[0m\u001b[2;40mlightning.pytorch.loggers.csv_logs.CSVLogger                                    \u001b[0m\n",
            "\u001b[2m│   \u001b[0m\u001b[2m    \u001b[0m\u001b[2;97;40m  \u001b[0m\u001b[2;91;40msave_dir\u001b[0m\u001b[2;97;40m:\u001b[0m\u001b[2;97;40m \u001b[0m\u001b[2;40m/content/pesto-full/logs/train/runs/2024-12-29_15-29-00                         \u001b[0m\n",
            "\u001b[2m│   \u001b[0m\u001b[2m    \u001b[0m\u001b[2;97;40m  \u001b[0m\u001b[2;91;40mname\u001b[0m\u001b[2;97;40m:\u001b[0m\u001b[2;97;40m \u001b[0m\u001b[2;40mcsv/                                                                                \u001b[0m\n",
            "\u001b[2m│   \u001b[0m\u001b[2m    \u001b[0m\u001b[2;97;40m  \u001b[0m\u001b[2;91;40mprefix\u001b[0m\u001b[2;97;40m:\u001b[0m\u001b[2;97;40m \u001b[0m\u001b[2;93;40m'\u001b[0m\u001b[2;93;40m'\u001b[0m\u001b[2;40m                                                                                \u001b[0m\n",
            "\u001b[2m│   \u001b[0m\u001b[2m    \u001b[0m\u001b[2;40m                                                                                            \u001b[0m\n",
            "\u001b[2m├── \u001b[0m\u001b[2mtrainer\u001b[0m\n",
            "\u001b[2m│   \u001b[0m\u001b[2m└── \u001b[0m\u001b[2;91;40m_target_\u001b[0m\u001b[2;97;40m:\u001b[0m\u001b[2;97;40m \u001b[0m\u001b[2;40mlightning.pytorch.trainer.Trainer                                                 \u001b[0m\n",
            "\u001b[2m│   \u001b[0m\u001b[2m    \u001b[0m\u001b[2;91;40mdefault_root_dir\u001b[0m\u001b[2;97;40m:\u001b[0m\u001b[2;97;40m \u001b[0m\u001b[2;40m/content/pesto-full/logs/train/runs/2024-12-29_15-29-00                   \u001b[0m\n",
            "\u001b[2m│   \u001b[0m\u001b[2m    \u001b[0m\u001b[2;91;40mlog_every_n_steps\u001b[0m\u001b[2;97;40m:\u001b[0m\u001b[2;97;40m \u001b[0m\u001b[2;40m200                                                                      \u001b[0m\n",
            "\u001b[2m│   \u001b[0m\u001b[2m    \u001b[0m\u001b[2;91;40mmax_epochs\u001b[0m\u001b[2;97;40m:\u001b[0m\u001b[2;97;40m \u001b[0m\u001b[2;40m50                                                                              \u001b[0m\n",
            "\u001b[2m│   \u001b[0m\u001b[2m    \u001b[0m\u001b[2;91;40maccelerator\u001b[0m\u001b[2;97;40m:\u001b[0m\u001b[2;97;40m \u001b[0m\u001b[2;40mgpu                                                                            \u001b[0m\n",
            "\u001b[2m│   \u001b[0m\u001b[2m    \u001b[0m\u001b[2;91;40mdevices\u001b[0m\u001b[2;97;40m:\u001b[0m\u001b[2;97;40m \u001b[0m\u001b[2;40m1                                                                                  \u001b[0m\n",
            "\u001b[2m│   \u001b[0m\u001b[2m    \u001b[0m\u001b[2;40m                                                                                            \u001b[0m\n",
            "\u001b[2m├── \u001b[0m\u001b[2mpaths\u001b[0m\n",
            "\u001b[2m│   \u001b[0m\u001b[2m└── \u001b[0m\u001b[2;91;40mroot_dir\u001b[0m\u001b[2;97;40m:\u001b[0m\u001b[2;97;40m \u001b[0m\u001b[2;40m.                                                                                 \u001b[0m\n",
            "\u001b[2m│   \u001b[0m\u001b[2m    \u001b[0m\u001b[2;91;40mdata_dir\u001b[0m\u001b[2;97;40m:\u001b[0m\u001b[2;97;40m \u001b[0m\u001b[2;40m./data                                                                            \u001b[0m\n",
            "\u001b[2m│   \u001b[0m\u001b[2m    \u001b[0m\u001b[2;91;40mlog_dir\u001b[0m\u001b[2;97;40m:\u001b[0m\u001b[2;97;40m \u001b[0m\u001b[2;40m./logs/                                                                            \u001b[0m\n",
            "\u001b[2m│   \u001b[0m\u001b[2m    \u001b[0m\u001b[2;91;40moutput_dir\u001b[0m\u001b[2;97;40m:\u001b[0m\u001b[2;97;40m \u001b[0m\u001b[2;40m/content/pesto-full/logs/train/runs/2024-12-29_15-29-00                         \u001b[0m\n",
            "\u001b[2m│   \u001b[0m\u001b[2m    \u001b[0m\u001b[2;91;40mckpt_dir\u001b[0m\u001b[2;97;40m:\u001b[0m\u001b[2;97;40m \u001b[0m\u001b[2;40m/content/pesto-full/logs/train/runs/2024-12-29_15-29-00/checkpoints               \u001b[0m\n",
            "\u001b[2m│   \u001b[0m\u001b[2m    \u001b[0m\u001b[2;40m                                                                                            \u001b[0m\n",
            "\u001b[2m├── \u001b[0m\u001b[2mextras\u001b[0m\n",
            "\u001b[2m│   \u001b[0m\u001b[2m└── \u001b[0m\u001b[2;91;40mignore_warnings\u001b[0m\u001b[2;97;40m:\u001b[0m\u001b[2;97;40m \u001b[0m\u001b[2;40mfalse                                                                      \u001b[0m\n",
            "\u001b[2m│   \u001b[0m\u001b[2m    \u001b[0m\u001b[2;91;40menforce_tags\u001b[0m\u001b[2;97;40m:\u001b[0m\u001b[2;97;40m \u001b[0m\u001b[2;40mtrue                                                                          \u001b[0m\n",
            "\u001b[2m│   \u001b[0m\u001b[2m    \u001b[0m\u001b[2;91;40mprint_config\u001b[0m\u001b[2;97;40m:\u001b[0m\u001b[2;97;40m \u001b[0m\u001b[2;40mtrue                                                                          \u001b[0m\n",
            "\u001b[2m│   \u001b[0m\u001b[2m    \u001b[0m\u001b[2;91;40msave_config\u001b[0m\u001b[2;97;40m:\u001b[0m\u001b[2;97;40m \u001b[0m\u001b[2;40mtrue                                                                           \u001b[0m\n",
            "\u001b[2m│   \u001b[0m\u001b[2m    \u001b[0m\u001b[2;40m                                                                                            \u001b[0m\n",
            "\u001b[2m├── \u001b[0m\u001b[2mtask_name\u001b[0m\n",
            "\u001b[2m│   \u001b[0m\u001b[2m└── \u001b[0m\u001b[2;40mtrain                                                                                       \u001b[0m\n",
            "\u001b[2m├── \u001b[0m\u001b[2mtags\u001b[0m\n",
            "\u001b[2m│   \u001b[0m\u001b[2m└── \u001b[0m\u001b[2;40m[\u001b[0m\u001b[2;93;40m'\u001b[0m\u001b[2;93;40mdev\u001b[0m\u001b[2;93;40m'\u001b[0m\u001b[2;40m]                                                                                     \u001b[0m\n",
            "\u001b[2m├── \u001b[0m\u001b[2mtrain\u001b[0m\n",
            "\u001b[2m│   \u001b[0m\u001b[2m└── \u001b[0m\u001b[2;40mTrue                                                                                        \u001b[0m\n",
            "\u001b[2m├── \u001b[0m\u001b[2mtest\u001b[0m\n",
            "\u001b[2m│   \u001b[0m\u001b[2m└── \u001b[0m\u001b[2;40mFalse                                                                                       \u001b[0m\n",
            "\u001b[2m├── \u001b[0m\u001b[2mckpt_path\u001b[0m\n",
            "\u001b[2m│   \u001b[0m\u001b[2m└── \u001b[0m\u001b[2;40mNone                                                                                        \u001b[0m\n",
            "\u001b[2m└── \u001b[0m\u001b[2mseed\u001b[0m\n",
            "\u001b[2m    \u001b[0m\u001b[2m└── \u001b[0m\u001b[2;40m0                                                                                           \u001b[0m\n",
            "[\u001b[36m2024-12-29 15:29:00,392\u001b[0m][\u001b[34msrc.utils.utils\u001b[0m][\u001b[32mINFO\u001b[0m] - Saving config in /content/pesto-full/logs/train/runs/2024-12-29_15-29-00/config.yaml! <cfg.extras.save_config=True>\u001b[0m\n",
            "[\u001b[36m2024-12-29 15:29:00,421\u001b[0m][\u001b[34m__main__\u001b[0m][\u001b[32mINFO\u001b[0m] - Instantiating datamodule <src.data.audio_datamodule.AudioDataModule>\u001b[0m\n",
            "[\u001b[36m2024-12-29 15:29:00,603\u001b[0m][\u001b[34m__main__\u001b[0m][\u001b[32mINFO\u001b[0m] - Instantiating model <src.models.pesto.PESTO>\u001b[0m\n",
            "[\u001b[36m2024-12-29 15:29:00,639\u001b[0m][\u001b[34m__main__\u001b[0m][\u001b[32mINFO\u001b[0m] - Instantiating callbacks...\u001b[0m\n",
            "[\u001b[36m2024-12-29 15:29:00,640\u001b[0m][\u001b[34msrc.utils.instantiators\u001b[0m][\u001b[32mINFO\u001b[0m] - Instantiating callback <lightning.pytorch.callbacks.ModelCheckpoint>\u001b[0m\n",
            "[\u001b[36m2024-12-29 15:29:00,642\u001b[0m][\u001b[34msrc.utils.instantiators\u001b[0m][\u001b[32mINFO\u001b[0m] - Instantiating callback <lightning.pytorch.callbacks.LearningRateMonitor>\u001b[0m\n",
            "[\u001b[36m2024-12-29 15:29:00,642\u001b[0m][\u001b[34msrc.utils.instantiators\u001b[0m][\u001b[32mINFO\u001b[0m] - Instantiating callback <lightning.pytorch.callbacks.RichModelSummary>\u001b[0m\n",
            "[\u001b[36m2024-12-29 15:29:00,643\u001b[0m][\u001b[34msrc.utils.instantiators\u001b[0m][\u001b[32mINFO\u001b[0m] - Instantiating callback <lightning.pytorch.callbacks.RichProgressBar>\u001b[0m\n",
            "[\u001b[36m2024-12-29 15:29:00,644\u001b[0m][\u001b[34msrc.utils.instantiators\u001b[0m][\u001b[32mINFO\u001b[0m] - Instantiating callback <src.callbacks.loss_weighting.GradientsLossWeighting>\u001b[0m\n",
            "[\u001b[36m2024-12-29 15:29:00,645\u001b[0m][\u001b[34msrc.utils.instantiators\u001b[0m][\u001b[32mINFO\u001b[0m] - Instantiating callback <src.callbacks.mir_eval.MIREvalCallback>\u001b[0m\n",
            "[\u001b[36m2024-12-29 15:29:01,179\u001b[0m][\u001b[34msrc.utils.instantiators\u001b[0m][\u001b[32mINFO\u001b[0m] - Instantiating callback <src.callbacks.pitch_histogram.PitchHistogramCallback>\u001b[0m\n",
            "[\u001b[36m2024-12-29 15:29:01,180\u001b[0m][\u001b[34m__main__\u001b[0m][\u001b[32mINFO\u001b[0m] - Instantiating loggers...\u001b[0m\n",
            "[\u001b[36m2024-12-29 15:29:01,181\u001b[0m][\u001b[34msrc.utils.instantiators\u001b[0m][\u001b[32mINFO\u001b[0m] - Instantiating logger <lightning.pytorch.loggers.csv_logs.CSVLogger>\u001b[0m\n",
            "[\u001b[36m2024-12-29 15:29:01,183\u001b[0m][\u001b[34m__main__\u001b[0m][\u001b[32mINFO\u001b[0m] - Instantiating trainer <lightning.pytorch.trainer.Trainer>\u001b[0m\n",
            "Trainer already configured with model summary callbacks: [<class 'lightning.pytorch.callbacks.rich_model_summary.RichModelSummary'>]. Skipping setting a default `ModelSummary` callback.\n",
            "GPU available: True (cuda), used: True\n",
            "TPU available: False, using: 0 TPU cores\n",
            "HPU available: False, using: 0 HPUs\n",
            "[\u001b[36m2024-12-29 15:29:01,234\u001b[0m][\u001b[34m__main__\u001b[0m][\u001b[32mINFO\u001b[0m] - Logging hyperparameters!\u001b[0m\n",
            "[\u001b[36m2024-12-29 15:29:01,353\u001b[0m][\u001b[34m__main__\u001b[0m][\u001b[32mINFO\u001b[0m] - Starting training!\u001b[0m\n",
            "[\u001b[36m2024-12-29 15:29:01,379\u001b[0m][\u001b[34msrc.data.audio_datamodule\u001b[0m][\u001b[32mINFO\u001b[0m] - Precomputing HCQT...\u001b[0m\n",
            "                                                                                  \n",
            "Detected KeyboardInterrupt, attempting graceful shutdown ...\n",
            "[\u001b[36m2024-12-29 15:29:38,640\u001b[0m][\u001b[34msrc.utils.utils\u001b[0m][\u001b[32mINFO\u001b[0m] - Output dir: /content/pesto-full/logs/train/runs/2024-12-29_15-29-00\u001b[0m\n"
          ]
        }
      ]
    }
  ]
}