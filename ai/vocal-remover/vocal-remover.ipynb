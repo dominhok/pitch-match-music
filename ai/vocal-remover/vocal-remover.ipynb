{
 "cells": [
  {
   "cell_type": "code",
   "execution_count": 1,
   "metadata": {},
   "outputs": [
    {
     "name": "stdout",
     "output_type": "stream",
     "text": [
      "Requirement already satisfied: torch in /home/minho/miniconda3/envs/vocal-remover/lib/python3.9/site-packages (2.6.0)\n",
      "Requirement already satisfied: torchvision in /home/minho/miniconda3/envs/vocal-remover/lib/python3.9/site-packages (0.21.0)\n",
      "Requirement already satisfied: filelock in /home/minho/miniconda3/envs/vocal-remover/lib/python3.9/site-packages (from torch) (3.17.0)\n",
      "Requirement already satisfied: typing-extensions>=4.10.0 in /home/minho/miniconda3/envs/vocal-remover/lib/python3.9/site-packages (from torch) (4.12.2)\n",
      "Requirement already satisfied: networkx in /home/minho/miniconda3/envs/vocal-remover/lib/python3.9/site-packages (from torch) (3.2.1)\n",
      "Requirement already satisfied: jinja2 in /home/minho/miniconda3/envs/vocal-remover/lib/python3.9/site-packages (from torch) (3.1.5)\n",
      "Requirement already satisfied: fsspec in /home/minho/miniconda3/envs/vocal-remover/lib/python3.9/site-packages (from torch) (2025.2.0)\n",
      "Requirement already satisfied: nvidia-cuda-nvrtc-cu12==12.4.127 in /home/minho/miniconda3/envs/vocal-remover/lib/python3.9/site-packages (from torch) (12.4.127)\n",
      "Requirement already satisfied: nvidia-cuda-runtime-cu12==12.4.127 in /home/minho/miniconda3/envs/vocal-remover/lib/python3.9/site-packages (from torch) (12.4.127)\n",
      "Requirement already satisfied: nvidia-cuda-cupti-cu12==12.4.127 in /home/minho/miniconda3/envs/vocal-remover/lib/python3.9/site-packages (from torch) (12.4.127)\n",
      "Requirement already satisfied: nvidia-cudnn-cu12==9.1.0.70 in /home/minho/miniconda3/envs/vocal-remover/lib/python3.9/site-packages (from torch) (9.1.0.70)\n",
      "Requirement already satisfied: nvidia-cublas-cu12==12.4.5.8 in /home/minho/miniconda3/envs/vocal-remover/lib/python3.9/site-packages (from torch) (12.4.5.8)\n",
      "Requirement already satisfied: nvidia-cufft-cu12==11.2.1.3 in /home/minho/miniconda3/envs/vocal-remover/lib/python3.9/site-packages (from torch) (11.2.1.3)\n",
      "Requirement already satisfied: nvidia-curand-cu12==10.3.5.147 in /home/minho/miniconda3/envs/vocal-remover/lib/python3.9/site-packages (from torch) (10.3.5.147)\n",
      "Requirement already satisfied: nvidia-cusolver-cu12==11.6.1.9 in /home/minho/miniconda3/envs/vocal-remover/lib/python3.9/site-packages (from torch) (11.6.1.9)\n",
      "Requirement already satisfied: nvidia-cusparse-cu12==12.3.1.170 in /home/minho/miniconda3/envs/vocal-remover/lib/python3.9/site-packages (from torch) (12.3.1.170)\n",
      "Requirement already satisfied: nvidia-cusparselt-cu12==0.6.2 in /home/minho/miniconda3/envs/vocal-remover/lib/python3.9/site-packages (from torch) (0.6.2)\n",
      "Requirement already satisfied: nvidia-nccl-cu12==2.21.5 in /home/minho/miniconda3/envs/vocal-remover/lib/python3.9/site-packages (from torch) (2.21.5)\n",
      "Requirement already satisfied: nvidia-nvtx-cu12==12.4.127 in /home/minho/miniconda3/envs/vocal-remover/lib/python3.9/site-packages (from torch) (12.4.127)\n",
      "Requirement already satisfied: nvidia-nvjitlink-cu12==12.4.127 in /home/minho/miniconda3/envs/vocal-remover/lib/python3.9/site-packages (from torch) (12.4.127)\n",
      "Requirement already satisfied: triton==3.2.0 in /home/minho/miniconda3/envs/vocal-remover/lib/python3.9/site-packages (from torch) (3.2.0)\n",
      "Requirement already satisfied: sympy==1.13.1 in /home/minho/miniconda3/envs/vocal-remover/lib/python3.9/site-packages (from torch) (1.13.1)\n",
      "Requirement already satisfied: mpmath<1.4,>=1.1.0 in /home/minho/miniconda3/envs/vocal-remover/lib/python3.9/site-packages (from sympy==1.13.1->torch) (1.3.0)\n",
      "Requirement already satisfied: numpy in /home/minho/miniconda3/envs/vocal-remover/lib/python3.9/site-packages (from torchvision) (1.26.4)\n",
      "Requirement already satisfied: pillow!=8.3.*,>=5.3.0 in /home/minho/miniconda3/envs/vocal-remover/lib/python3.9/site-packages (from torchvision) (11.1.0)\n",
      "Requirement already satisfied: MarkupSafe>=2.0 in /home/minho/miniconda3/envs/vocal-remover/lib/python3.9/site-packages (from jinja2->torch) (3.0.2)\n",
      "Note: you may need to restart the kernel to use updated packages.\n"
     ]
    }
   ],
   "source": [
    "%pip install torch torchvision"
   ]
  },
  {
   "cell_type": "code",
   "execution_count": 2,
   "metadata": {},
   "outputs": [
    {
     "name": "stdout",
     "output_type": "stream",
     "text": [
      "Requirement already satisfied: librosa~=0.10.0 in /home/minho/miniconda3/envs/vocal-remover/lib/python3.9/site-packages (from -r vocal-remover/requirements.txt (line 4)) (0.10.2.post1)\n",
      "Requirement already satisfied: matplotlib~=3.8.0 in /home/minho/miniconda3/envs/vocal-remover/lib/python3.9/site-packages (from -r vocal-remover/requirements.txt (line 5)) (3.8.4)\n",
      "Requirement already satisfied: opencv_python~=4.8.0 in /home/minho/miniconda3/envs/vocal-remover/lib/python3.9/site-packages (from -r vocal-remover/requirements.txt (line 6)) (4.8.1.78)\n",
      "Requirement already satisfied: resampy~=0.4.0 in /home/minho/miniconda3/envs/vocal-remover/lib/python3.9/site-packages (from -r vocal-remover/requirements.txt (line 7)) (0.4.3)\n",
      "Requirement already satisfied: tqdm~=4.66.0 in /home/minho/miniconda3/envs/vocal-remover/lib/python3.9/site-packages (from -r vocal-remover/requirements.txt (line 8)) (4.66.6)\n",
      "Requirement already satisfied: numpy~=1.26.4 in /home/minho/miniconda3/envs/vocal-remover/lib/python3.9/site-packages (from -r vocal-remover/requirements.txt (line 9)) (1.26.4)\n",
      "Requirement already satisfied: audioread>=2.1.9 in /home/minho/miniconda3/envs/vocal-remover/lib/python3.9/site-packages (from librosa~=0.10.0->-r vocal-remover/requirements.txt (line 4)) (3.0.1)\n",
      "Requirement already satisfied: scipy>=1.2.0 in /home/minho/miniconda3/envs/vocal-remover/lib/python3.9/site-packages (from librosa~=0.10.0->-r vocal-remover/requirements.txt (line 4)) (1.13.1)\n",
      "Requirement already satisfied: scikit-learn>=0.20.0 in /home/minho/miniconda3/envs/vocal-remover/lib/python3.9/site-packages (from librosa~=0.10.0->-r vocal-remover/requirements.txt (line 4)) (1.6.1)\n",
      "Requirement already satisfied: joblib>=0.14 in /home/minho/miniconda3/envs/vocal-remover/lib/python3.9/site-packages (from librosa~=0.10.0->-r vocal-remover/requirements.txt (line 4)) (1.4.2)\n",
      "Requirement already satisfied: decorator>=4.3.0 in /home/minho/miniconda3/envs/vocal-remover/lib/python3.9/site-packages (from librosa~=0.10.0->-r vocal-remover/requirements.txt (line 4)) (5.1.1)\n",
      "Requirement already satisfied: numba>=0.51.0 in /home/minho/miniconda3/envs/vocal-remover/lib/python3.9/site-packages (from librosa~=0.10.0->-r vocal-remover/requirements.txt (line 4)) (0.60.0)\n",
      "Requirement already satisfied: soundfile>=0.12.1 in /home/minho/miniconda3/envs/vocal-remover/lib/python3.9/site-packages (from librosa~=0.10.0->-r vocal-remover/requirements.txt (line 4)) (0.13.1)\n",
      "Requirement already satisfied: pooch>=1.1 in /home/minho/miniconda3/envs/vocal-remover/lib/python3.9/site-packages (from librosa~=0.10.0->-r vocal-remover/requirements.txt (line 4)) (1.8.2)\n",
      "Requirement already satisfied: soxr>=0.3.2 in /home/minho/miniconda3/envs/vocal-remover/lib/python3.9/site-packages (from librosa~=0.10.0->-r vocal-remover/requirements.txt (line 4)) (0.5.0.post1)\n",
      "Requirement already satisfied: typing-extensions>=4.1.1 in /home/minho/miniconda3/envs/vocal-remover/lib/python3.9/site-packages (from librosa~=0.10.0->-r vocal-remover/requirements.txt (line 4)) (4.12.2)\n",
      "Requirement already satisfied: lazy-loader>=0.1 in /home/minho/miniconda3/envs/vocal-remover/lib/python3.9/site-packages (from librosa~=0.10.0->-r vocal-remover/requirements.txt (line 4)) (0.4)\n",
      "Requirement already satisfied: msgpack>=1.0 in /home/minho/miniconda3/envs/vocal-remover/lib/python3.9/site-packages (from librosa~=0.10.0->-r vocal-remover/requirements.txt (line 4)) (1.1.0)\n",
      "Requirement already satisfied: contourpy>=1.0.1 in /home/minho/miniconda3/envs/vocal-remover/lib/python3.9/site-packages (from matplotlib~=3.8.0->-r vocal-remover/requirements.txt (line 5)) (1.3.0)\n",
      "Requirement already satisfied: cycler>=0.10 in /home/minho/miniconda3/envs/vocal-remover/lib/python3.9/site-packages (from matplotlib~=3.8.0->-r vocal-remover/requirements.txt (line 5)) (0.12.1)\n",
      "Requirement already satisfied: fonttools>=4.22.0 in /home/minho/miniconda3/envs/vocal-remover/lib/python3.9/site-packages (from matplotlib~=3.8.0->-r vocal-remover/requirements.txt (line 5)) (4.55.8)\n",
      "Requirement already satisfied: kiwisolver>=1.3.1 in /home/minho/miniconda3/envs/vocal-remover/lib/python3.9/site-packages (from matplotlib~=3.8.0->-r vocal-remover/requirements.txt (line 5)) (1.4.7)\n",
      "Requirement already satisfied: packaging>=20.0 in /home/minho/miniconda3/envs/vocal-remover/lib/python3.9/site-packages (from matplotlib~=3.8.0->-r vocal-remover/requirements.txt (line 5)) (24.2)\n",
      "Requirement already satisfied: pillow>=8 in /home/minho/miniconda3/envs/vocal-remover/lib/python3.9/site-packages (from matplotlib~=3.8.0->-r vocal-remover/requirements.txt (line 5)) (11.1.0)\n",
      "Requirement already satisfied: pyparsing>=2.3.1 in /home/minho/miniconda3/envs/vocal-remover/lib/python3.9/site-packages (from matplotlib~=3.8.0->-r vocal-remover/requirements.txt (line 5)) (3.2.1)\n",
      "Requirement already satisfied: python-dateutil>=2.7 in /home/minho/miniconda3/envs/vocal-remover/lib/python3.9/site-packages (from matplotlib~=3.8.0->-r vocal-remover/requirements.txt (line 5)) (2.9.0.post0)\n",
      "Requirement already satisfied: importlib-resources>=3.2.0 in /home/minho/miniconda3/envs/vocal-remover/lib/python3.9/site-packages (from matplotlib~=3.8.0->-r vocal-remover/requirements.txt (line 5)) (6.5.2)\n",
      "Requirement already satisfied: zipp>=3.1.0 in /home/minho/miniconda3/envs/vocal-remover/lib/python3.9/site-packages (from importlib-resources>=3.2.0->matplotlib~=3.8.0->-r vocal-remover/requirements.txt (line 5)) (3.21.0)\n",
      "Requirement already satisfied: llvmlite<0.44,>=0.43.0dev0 in /home/minho/miniconda3/envs/vocal-remover/lib/python3.9/site-packages (from numba>=0.51.0->librosa~=0.10.0->-r vocal-remover/requirements.txt (line 4)) (0.43.0)\n",
      "Requirement already satisfied: platformdirs>=2.5.0 in /home/minho/miniconda3/envs/vocal-remover/lib/python3.9/site-packages (from pooch>=1.1->librosa~=0.10.0->-r vocal-remover/requirements.txt (line 4)) (4.3.6)\n",
      "Requirement already satisfied: requests>=2.19.0 in /home/minho/miniconda3/envs/vocal-remover/lib/python3.9/site-packages (from pooch>=1.1->librosa~=0.10.0->-r vocal-remover/requirements.txt (line 4)) (2.32.3)\n",
      "Requirement already satisfied: six>=1.5 in /home/minho/miniconda3/envs/vocal-remover/lib/python3.9/site-packages (from python-dateutil>=2.7->matplotlib~=3.8.0->-r vocal-remover/requirements.txt (line 5)) (1.17.0)\n",
      "Requirement already satisfied: threadpoolctl>=3.1.0 in /home/minho/miniconda3/envs/vocal-remover/lib/python3.9/site-packages (from scikit-learn>=0.20.0->librosa~=0.10.0->-r vocal-remover/requirements.txt (line 4)) (3.5.0)\n",
      "Requirement already satisfied: cffi>=1.0 in /home/minho/miniconda3/envs/vocal-remover/lib/python3.9/site-packages (from soundfile>=0.12.1->librosa~=0.10.0->-r vocal-remover/requirements.txt (line 4)) (1.17.1)\n",
      "Requirement already satisfied: pycparser in /home/minho/miniconda3/envs/vocal-remover/lib/python3.9/site-packages (from cffi>=1.0->soundfile>=0.12.1->librosa~=0.10.0->-r vocal-remover/requirements.txt (line 4)) (2.22)\n",
      "Requirement already satisfied: charset-normalizer<4,>=2 in /home/minho/miniconda3/envs/vocal-remover/lib/python3.9/site-packages (from requests>=2.19.0->pooch>=1.1->librosa~=0.10.0->-r vocal-remover/requirements.txt (line 4)) (3.4.1)\n",
      "Requirement already satisfied: idna<4,>=2.5 in /home/minho/miniconda3/envs/vocal-remover/lib/python3.9/site-packages (from requests>=2.19.0->pooch>=1.1->librosa~=0.10.0->-r vocal-remover/requirements.txt (line 4)) (3.10)\n",
      "Requirement already satisfied: urllib3<3,>=1.21.1 in /home/minho/miniconda3/envs/vocal-remover/lib/python3.9/site-packages (from requests>=2.19.0->pooch>=1.1->librosa~=0.10.0->-r vocal-remover/requirements.txt (line 4)) (2.3.0)\n",
      "Requirement already satisfied: certifi>=2017.4.17 in /home/minho/miniconda3/envs/vocal-remover/lib/python3.9/site-packages (from requests>=2.19.0->pooch>=1.1->librosa~=0.10.0->-r vocal-remover/requirements.txt (line 4)) (2025.1.31)\n",
      "Note: you may need to restart the kernel to use updated packages.\n"
     ]
    }
   ],
   "source": [
    "%pip install -r vocal-remover/requirements.txt"
   ]
  },
  {
   "cell_type": "code",
   "execution_count": 5,
   "metadata": {},
   "outputs": [
    {
     "name": "stdout",
     "output_type": "stream",
     "text": [
      "loading model... done\n",
      "loading wave source... done\n",
      "stft of wave source... done\n"
     ]
    },
    {
     "name": "stderr",
     "output_type": "stream",
     "text": [
      "100%|██████████| 23/23 [00:01<00:00, 15.77it/s]\n"
     ]
    },
    {
     "name": "stdout",
     "output_type": "stream",
     "text": [
      "validating output directory... done\n",
      "inverse stft of instruments... done\n",
      "inverse stft of vocals... done\n",
      "Removed ../vocals/popular_100/버즈(Buzz) - Monologue(모놀로그) [가사⧸Lyrics]_Instruments.wav\n",
      "Vocals saved to ../vocals/popular_100/버즈(Buzz) - Monologue(모놀로그) [가사⧸Lyrics]_Vocals.wav\n",
      "loading model... done\n",
      "loading wave source... done\n",
      "stft of wave source... done\n"
     ]
    },
    {
     "name": "stderr",
     "output_type": "stream",
     "text": [
      "100%|██████████| 20/20 [00:01<00:00, 14.36it/s]\n"
     ]
    },
    {
     "name": "stdout",
     "output_type": "stream",
     "text": [
      "validating output directory... done\n",
      "inverse stft of instruments... done\n",
      "inverse stft of vocals... done\n",
      "Removed ../vocals/popular_100/황인욱 (Hwang In-Wook) - 포장마차 (Phocha) ｜ 가사_Instruments.wav\n",
      "Vocals saved to ../vocals/popular_100/황인욱 (Hwang In-Wook) - 포장마차 (Phocha) ｜ 가사_Vocals.wav\n",
      "loading model... done\n",
      "loading wave source... done\n",
      "stft of wave source... done\n"
     ]
    },
    {
     "name": "stderr",
     "output_type": "stream",
     "text": [
      "100%|██████████| 24/24 [00:01<00:00, 15.70it/s]\n"
     ]
    },
    {
     "name": "stdout",
     "output_type": "stream",
     "text": [
      "validating output directory... done\n",
      "inverse stft of instruments... done\n",
      "inverse stft of vocals... done\n",
      "Removed ../vocals/popular_100/주호 - 내가 아니라도⧸가사_Instruments.wav\n",
      "Vocals saved to ../vocals/popular_100/주호 - 내가 아니라도⧸가사_Vocals.wav\n",
      "loading model... done\n",
      "loading wave source... done\n",
      "stft of wave source... done\n"
     ]
    },
    {
     "name": "stderr",
     "output_type": "stream",
     "text": [
      "100%|██████████| 18/18 [00:01<00:00, 14.75it/s]\n"
     ]
    },
    {
     "name": "stdout",
     "output_type": "stream",
     "text": [
      "validating output directory... done\n",
      "inverse stft of instruments... done\n",
      "inverse stft of vocals... done\n",
      "Removed ../vocals/popular_100/BSS (SEVENTEEN) Fighting (feat. Lee Young Ji) Lyrics (부석순 이영지 '파이팅 해야지' 가사) (Color Coded Lyrics)_Instruments.wav\n",
      "Vocals saved to ../vocals/popular_100/BSS (SEVENTEEN) Fighting (feat. Lee Young Ji) Lyrics (부석순 이영지 '파이팅 해야지' 가사) (Color Coded Lyrics)_Vocals.wav\n",
      "loading model... done\n",
      "loading wave source... done\n",
      "stft of wave source... done\n"
     ]
    },
    {
     "name": "stderr",
     "output_type": "stream",
     "text": [
      "100%|██████████| 23/23 [00:01<00:00, 15.25it/s]\n"
     ]
    },
    {
     "name": "stdout",
     "output_type": "stream",
     "text": [
      "validating output directory... done\n",
      "inverse stft of instruments... done\n",
      "inverse stft of vocals... done\n",
      "Removed ../vocals/popular_100/테이- Monologue ⧸ 가사_Instruments.wav\n",
      "Vocals saved to ../vocals/popular_100/테이- Monologue ⧸ 가사_Vocals.wav\n",
      "loading model... done\n",
      "loading wave source... done\n",
      "stft of wave source... done\n"
     ]
    },
    {
     "name": "stderr",
     "output_type": "stream",
     "text": [
      "100%|██████████| 16/16 [00:01<00:00, 13.66it/s]\n"
     ]
    },
    {
     "name": "stdout",
     "output_type": "stream",
     "text": [
      "validating output directory... done\n",
      "inverse stft of instruments... done\n",
      "inverse stft of vocals... done\n",
      "Removed ../vocals/popular_100/LE SSERAFIM 'ANTIFRAGILE' Lyrics (레세라핌 ANTIFRAGILE 가사) (Color Coded Lyrics)_Instruments.wav\n",
      "Vocals saved to ../vocals/popular_100/LE SSERAFIM 'ANTIFRAGILE' Lyrics (레세라핌 ANTIFRAGILE 가사) (Color Coded Lyrics)_Vocals.wav\n",
      "loading model... done\n",
      "loading wave source... done\n",
      "stft of wave source... done\n"
     ]
    },
    {
     "name": "stderr",
     "output_type": "stream",
     "text": [
      "100%|██████████| 23/23 [00:01<00:00, 15.61it/s]\n"
     ]
    },
    {
     "name": "stdout",
     "output_type": "stream",
     "text": [
      "validating output directory... done\n",
      "inverse stft of instruments... done\n",
      "inverse stft of vocals... done\n",
      "Removed ../vocals/popular_100/소녀시대 (GIRLS' GENERATION) - 다시 만난 세계 (Into The New World)  [가사⧸Lyrics]_Instruments.wav\n",
      "Vocals saved to ../vocals/popular_100/소녀시대 (GIRLS' GENERATION) - 다시 만난 세계 (Into The New World)  [가사⧸Lyrics]_Vocals.wav\n",
      "loading model... done\n",
      "loading wave source... done\n",
      "stft of wave source... done\n"
     ]
    },
    {
     "name": "stderr",
     "output_type": "stream",
     "text": [
      "100%|██████████| 23/23 [00:01<00:00, 15.48it/s]\n"
     ]
    },
    {
     "name": "stdout",
     "output_type": "stream",
     "text": [
      "validating output directory... done\n",
      "inverse stft of instruments... done\n",
      "inverse stft of vocals... done\n",
      "Removed ../vocals/popular_100/에이치코드(H：CODE) - 꿈속에 너 ⧸ 가사_Instruments.wav\n",
      "Vocals saved to ../vocals/popular_100/에이치코드(H：CODE) - 꿈속에 너 ⧸ 가사_Vocals.wav\n",
      "loading model... done\n",
      "loading wave source... done\n",
      "stft of wave source... done\n"
     ]
    },
    {
     "name": "stderr",
     "output_type": "stream",
     "text": [
      "100%|██████████| 15/15 [00:01<00:00, 14.57it/s]\n"
     ]
    },
    {
     "name": "stdout",
     "output_type": "stream",
     "text": [
      "validating output directory... done\n",
      "inverse stft of instruments... done\n",
      "inverse stft of vocals... done\n",
      "Removed ../vocals/popular_100/IVE After LIKE Lyrics (아이브 After LIKE 가사) (Color Coded Lyrics)_Instruments.wav\n",
      "Vocals saved to ../vocals/popular_100/IVE After LIKE Lyrics (아이브 After LIKE 가사) (Color Coded Lyrics)_Vocals.wav\n",
      "loading model... done\n",
      "loading wave source... done\n",
      "stft of wave source... done\n"
     ]
    },
    {
     "name": "stderr",
     "output_type": "stream",
     "text": [
      "100%|██████████| 23/23 [00:01<00:00, 15.77it/s]\n"
     ]
    },
    {
     "name": "stdout",
     "output_type": "stream",
     "text": [
      "validating output directory... done\n",
      "inverse stft of instruments... done\n",
      "inverse stft of vocals... done\n",
      "Removed ../vocals/popular_100/안예은 - 홍연 [ 가사 ]_Instruments.wav\n",
      "Vocals saved to ../vocals/popular_100/안예은 - 홍연 [ 가사 ]_Vocals.wav\n",
      "loading model... done\n",
      "loading wave source... done\n",
      "stft of wave source... done\n"
     ]
    },
    {
     "name": "stderr",
     "output_type": "stream",
     "text": [
      "100%|██████████| 26/26 [00:01<00:00, 15.58it/s]\n"
     ]
    },
    {
     "name": "stdout",
     "output_type": "stream",
     "text": [
      "validating output directory... done\n",
      "inverse stft of instruments... done\n",
      "inverse stft of vocals... done\n",
      "Removed ../vocals/popular_100/김현성_Heaven [가사]_Instruments.wav\n",
      "Vocals saved to ../vocals/popular_100/김현성_Heaven [가사]_Vocals.wav\n",
      "loading model... done\n",
      "loading wave source... done\n",
      "stft of wave source... done\n"
     ]
    },
    {
     "name": "stderr",
     "output_type": "stream",
     "text": [
      "100%|██████████| 24/24 [00:01<00:00, 16.56it/s]\n"
     ]
    },
    {
     "name": "stdout",
     "output_type": "stream",
     "text": [
      "validating output directory... done\n",
      "inverse stft of instruments... done\n",
      "inverse stft of vocals... done\n",
      "Removed ../vocals/popular_100/폴킴 (Paul Kim) - 너를 만나ㅣ가사⧸Lyrics_Instruments.wav\n",
      "Vocals saved to ../vocals/popular_100/폴킴 (Paul Kim) - 너를 만나ㅣ가사⧸Lyrics_Vocals.wav\n",
      "loading model... done\n",
      "loading wave source... done\n",
      "stft of wave source... done\n"
     ]
    },
    {
     "name": "stderr",
     "output_type": "stream",
     "text": [
      "100%|██████████| 20/20 [00:01<00:00, 15.66it/s]\n"
     ]
    },
    {
     "name": "stdout",
     "output_type": "stream",
     "text": [
      "validating output directory... done\n",
      "inverse stft of instruments... done\n",
      "inverse stft of vocals... done\n",
      "Removed ../vocals/popular_100/태양(TAEYANG) - 눈, 코, 입 [가사⧸Lyrics]_Instruments.wav\n",
      "Vocals saved to ../vocals/popular_100/태양(TAEYANG) - 눈, 코, 입 [가사⧸Lyrics]_Vocals.wav\n",
      "loading model... done\n",
      "loading wave source... done\n",
      "stft of wave source... done\n"
     ]
    },
    {
     "name": "stderr",
     "output_type": "stream",
     "text": [
      "100%|██████████| 26/26 [00:01<00:00, 14.80it/s]\n"
     ]
    },
    {
     "name": "stdout",
     "output_type": "stream",
     "text": [
      "validating output directory... done\n",
      "inverse stft of instruments... done\n",
      "inverse stft of vocals... done\n",
      "Removed ../vocals/popular_100/엠씨더맥스( MC.the MAX)- One Love ⧸가사 (Audio Lyrics)_Instruments.wav\n",
      "Vocals saved to ../vocals/popular_100/엠씨더맥스( MC.the MAX)- One Love ⧸가사 (Audio Lyrics)_Vocals.wav\n",
      "loading model... done\n",
      "loading wave source... done\n",
      "stft of wave source... done\n"
     ]
    },
    {
     "name": "stderr",
     "output_type": "stream",
     "text": [
      "100%|██████████| 22/22 [00:01<00:00, 14.39it/s]\n"
     ]
    },
    {
     "name": "stdout",
     "output_type": "stream",
     "text": [
      "validating output directory... done\n",
      "inverse stft of instruments... done\n",
      "inverse stft of vocals... done\n",
      "Removed ../vocals/popular_100/이승기 - 삭제 [가사⧸Lyrics]_Instruments.wav\n",
      "Vocals saved to ../vocals/popular_100/이승기 - 삭제 [가사⧸Lyrics]_Vocals.wav\n",
      "loading model... done\n",
      "loading wave source... done\n",
      "stft of wave source... done\n"
     ]
    },
    {
     "name": "stderr",
     "output_type": "stream",
     "text": [
      "100%|██████████| 22/22 [00:01<00:00, 15.24it/s]\n"
     ]
    },
    {
     "name": "stdout",
     "output_type": "stream",
     "text": [
      "validating output directory... done\n",
      "inverse stft of instruments... done\n",
      "inverse stft of vocals... done\n",
      "Removed ../vocals/popular_100/코요태 - 우리의 꿈 [가사⧸Lyrics]_Instruments.wav\n",
      "Vocals saved to ../vocals/popular_100/코요태 - 우리의 꿈 [가사⧸Lyrics]_Vocals.wav\n",
      "loading model... done\n",
      "loading wave source... done\n",
      "stft of wave source... done\n"
     ]
    },
    {
     "name": "stderr",
     "output_type": "stream",
     "text": [
      "100%|██████████| 21/21 [00:01<00:00, 14.58it/s]\n"
     ]
    },
    {
     "name": "stdout",
     "output_type": "stream",
     "text": [
      "validating output directory... done\n",
      "inverse stft of instruments... done\n",
      "inverse stft of vocals... done\n",
      "Removed ../vocals/popular_100/서인국, 정은지 - All For You [응답하라 1997 OST] [가사⧸Lyrics]_Instruments.wav\n",
      "Vocals saved to ../vocals/popular_100/서인국, 정은지 - All For You [응답하라 1997 OST] [가사⧸Lyrics]_Vocals.wav\n",
      "loading model... done\n",
      "loading wave source... done\n",
      "stft of wave source... done\n"
     ]
    },
    {
     "name": "stderr",
     "output_type": "stream",
     "text": [
      "100%|██████████| 21/21 [00:01<00:00, 14.59it/s]\n"
     ]
    },
    {
     "name": "stdout",
     "output_type": "stream",
     "text": [
      "validating output directory... done\n",
      "inverse stft of instruments... done\n",
      "inverse stft of vocals... done\n",
      "Removed ../vocals/popular_100/박명수 - 바보에게… 바보가[가사⧸Lyrics]_Instruments.wav\n",
      "Vocals saved to ../vocals/popular_100/박명수 - 바보에게… 바보가[가사⧸Lyrics]_Vocals.wav\n",
      "loading model... done\n",
      "loading wave source... done\n",
      "stft of wave source... done\n"
     ]
    },
    {
     "name": "stderr",
     "output_type": "stream",
     "text": [
      "100%|██████████| 22/22 [00:01<00:00, 15.49it/s]\n"
     ]
    },
    {
     "name": "stdout",
     "output_type": "stream",
     "text": [
      "validating output directory... done\n",
      "inverse stft of instruments... done\n",
      "inverse stft of vocals... done\n",
      "Removed ../vocals/popular_100/멜로망스 - 취중고백 ⧸ 가사_Instruments.wav\n",
      "Vocals saved to ../vocals/popular_100/멜로망스 - 취중고백 ⧸ 가사_Vocals.wav\n",
      "loading model... done\n",
      "loading wave source... done\n",
      "stft of wave source... done\n"
     ]
    },
    {
     "name": "stderr",
     "output_type": "stream",
     "text": [
      "100%|██████████| 21/21 [00:01<00:00, 14.87it/s]\n"
     ]
    },
    {
     "name": "stdout",
     "output_type": "stream",
     "text": [
      "validating output directory... done\n",
      "inverse stft of instruments... done\n",
      "inverse stft of vocals... done\n",
      "Removed ../vocals/popular_100/허각 - 나를 사랑했던 사람아 [가사⧸Lyrics]_Instruments.wav\n",
      "Vocals saved to ../vocals/popular_100/허각 - 나를 사랑했던 사람아 [가사⧸Lyrics]_Vocals.wav\n",
      "loading model... done\n",
      "loading wave source... done\n",
      "stft of wave source... done\n"
     ]
    },
    {
     "name": "stderr",
     "output_type": "stream",
     "text": [
      "100%|██████████| 21/21 [00:01<00:00, 15.73it/s]\n"
     ]
    },
    {
     "name": "stdout",
     "output_type": "stream",
     "text": [
      "validating output directory... done\n",
      "inverse stft of instruments... done\n",
      "inverse stft of vocals... done\n",
      "Removed ../vocals/popular_100/조유진, 박기영 - 나에게로의 초대 (이상한 나라의 앨리스, 하트다 하트여왕) [가사⧸Lyrics]_Instruments.wav\n",
      "Vocals saved to ../vocals/popular_100/조유진, 박기영 - 나에게로의 초대 (이상한 나라의 앨리스, 하트다 하트여왕) [가사⧸Lyrics]_Vocals.wav\n",
      "loading model... done\n",
      "loading wave source... done\n",
      "stft of wave source... done\n"
     ]
    },
    {
     "name": "stderr",
     "output_type": "stream",
     "text": [
      "100%|██████████| 15/15 [00:01<00:00, 14.97it/s]\n"
     ]
    },
    {
     "name": "stdout",
     "output_type": "stream",
     "text": [
      "validating output directory... done\n",
      "inverse stft of instruments... done\n",
      "inverse stft of vocals... done\n",
      "Removed ../vocals/popular_100/FIFTY FIFTY Cupid Lyrics (피프티피프티 Cupid 가사) (Color Coded Lyrics)_Instruments.wav\n",
      "Vocals saved to ../vocals/popular_100/FIFTY FIFTY Cupid Lyrics (피프티피프티 Cupid 가사) (Color Coded Lyrics)_Vocals.wav\n",
      "loading model... done\n",
      "loading wave source... done\n",
      "stft of wave source... done\n"
     ]
    },
    {
     "name": "stderr",
     "output_type": "stream",
     "text": [
      "100%|██████████| 15/15 [00:01<00:00, 12.67it/s]\n"
     ]
    },
    {
     "name": "stdout",
     "output_type": "stream",
     "text": [
      "validating output directory... done\n",
      "inverse stft of instruments... done\n",
      "inverse stft of vocals... done\n",
      "Removed ../vocals/popular_100/지수 (JISOO) - 꽃 [가사⧸Lyrics]_Instruments.wav\n",
      "Vocals saved to ../vocals/popular_100/지수 (JISOO) - 꽃 [가사⧸Lyrics]_Vocals.wav\n",
      "loading model... done\n",
      "loading wave source... done\n",
      "stft of wave source... done\n"
     ]
    },
    {
     "name": "stderr",
     "output_type": "stream",
     "text": [
      "100%|██████████| 19/19 [00:01<00:00, 14.42it/s]\n"
     ]
    },
    {
     "name": "stdout",
     "output_type": "stream",
     "text": [
      "validating output directory... done\n",
      "inverse stft of instruments... done\n",
      "inverse stft of vocals... done\n",
      "Removed ../vocals/popular_100/Davichi (다비치) - 8282 [Hangul⧸Romanization⧸English] Color & Picture Coded HD_Instruments.wav\n",
      "Vocals saved to ../vocals/popular_100/Davichi (다비치) - 8282 [Hangul⧸Romanization⧸English] Color & Picture Coded HD_Vocals.wav\n",
      "loading model... done\n",
      "loading wave source... done\n",
      "stft of wave source... done\n"
     ]
    },
    {
     "name": "stderr",
     "output_type": "stream",
     "text": [
      "100%|██████████| 18/18 [00:01<00:00, 15.07it/s]\n"
     ]
    },
    {
     "name": "stdout",
     "output_type": "stream",
     "text": [
      "validating output directory... done\n",
      "inverse stft of instruments... done\n",
      "inverse stft of vocals... done\n",
      "Removed ../vocals/popular_100/폴킴(Paul Kim) - 모든 날, 모든 순간 (Every day, Every Moment) [키스 먼저 할까요？ OST] [가사⧸Lyrics]_Instruments.wav\n",
      "Vocals saved to ../vocals/popular_100/폴킴(Paul Kim) - 모든 날, 모든 순간 (Every day, Every Moment) [키스 먼저 할까요？ OST] [가사⧸Lyrics]_Vocals.wav\n",
      "loading model... done\n",
      "loading wave source... done\n",
      "stft of wave source... done\n"
     ]
    },
    {
     "name": "stderr",
     "output_type": "stream",
     "text": [
      "100%|██████████| 24/24 [00:01<00:00, 16.12it/s]\n"
     ]
    },
    {
     "name": "stdout",
     "output_type": "stream",
     "text": [
      "validating output directory... done\n",
      "inverse stft of instruments... done\n",
      "inverse stft of vocals... done\n",
      "Removed ../vocals/popular_100/정준일 - 안아줘 [가사]_Instruments.wav\n",
      "Vocals saved to ../vocals/popular_100/정준일 - 안아줘 [가사]_Vocals.wav\n",
      "loading model... done\n",
      "loading wave source... done\n",
      "stft of wave source... done\n"
     ]
    },
    {
     "name": "stderr",
     "output_type": "stream",
     "text": [
      "100%|██████████| 25/25 [00:01<00:00, 15.30it/s]\n"
     ]
    },
    {
     "name": "stdout",
     "output_type": "stream",
     "text": [
      "validating output directory... done\n",
      "inverse stft of instruments... done\n",
      "inverse stft of vocals... done\n",
      "Removed ../vocals/popular_100/임창정 - 소주 한 잔 [가사⧸Lyrics]_Instruments.wav\n",
      "Vocals saved to ../vocals/popular_100/임창정 - 소주 한 잔 [가사⧸Lyrics]_Vocals.wav\n",
      "loading model... done\n",
      "loading wave source... done\n",
      "stft of wave source... done\n"
     ]
    },
    {
     "name": "stderr",
     "output_type": "stream",
     "text": [
      "100%|██████████| 18/18 [00:01<00:00, 14.58it/s]\n"
     ]
    },
    {
     "name": "stdout",
     "output_type": "stream",
     "text": [
      "validating output directory... done\n",
      "inverse stft of instruments... done\n",
      "inverse stft of vocals... done\n",
      "Removed ../vocals/popular_100/지아 - 술 한잔 해요 ⧸ Kpop ⧸ Lyrics ⧸ 가사_Instruments.wav\n",
      "Vocals saved to ../vocals/popular_100/지아 - 술 한잔 해요 ⧸ Kpop ⧸ Lyrics ⧸ 가사_Vocals.wav\n",
      "loading model... done\n",
      "loading wave source... done\n",
      "stft of wave source... done\n"
     ]
    },
    {
     "name": "stderr",
     "output_type": "stream",
     "text": [
      "100%|██████████| 21/21 [00:01<00:00, 15.35it/s]\n"
     ]
    },
    {
     "name": "stdout",
     "output_type": "stream",
     "text": [
      "validating output directory... done\n",
      "inverse stft of instruments... done\n",
      "inverse stft of vocals... done\n",
      "Removed ../vocals/popular_100/버즈(Buzz) - 가시 [가사⧸Lyrics]_Instruments.wav\n",
      "Vocals saved to ../vocals/popular_100/버즈(Buzz) - 가시 [가사⧸Lyrics]_Vocals.wav\n",
      "loading model... done\n",
      "loading wave source... done\n",
      "stft of wave source... done\n"
     ]
    },
    {
     "name": "stderr",
     "output_type": "stream",
     "text": [
      "100%|██████████| 21/21 [00:01<00:00, 14.38it/s]\n"
     ]
    },
    {
     "name": "stdout",
     "output_type": "stream",
     "text": [
      "validating output directory... done\n",
      "inverse stft of instruments... done\n",
      "inverse stft of vocals... done\n",
      "Removed ../vocals/popular_100/박재정 - 헤어지자 말해요 ⧸ Kpop ⧸ Lyrics ⧸ 가사_Instruments.wav\n",
      "Vocals saved to ../vocals/popular_100/박재정 - 헤어지자 말해요 ⧸ Kpop ⧸ Lyrics ⧸ 가사_Vocals.wav\n",
      "loading model... done\n",
      "loading wave source... done\n",
      "stft of wave source... done\n"
     ]
    },
    {
     "name": "stderr",
     "output_type": "stream",
     "text": [
      "100%|██████████| 23/23 [00:01<00:00, 16.06it/s]\n"
     ]
    },
    {
     "name": "stdout",
     "output_type": "stream",
     "text": [
      "validating output directory... done\n",
      "inverse stft of instruments... done\n",
      "inverse stft of vocals... done\n",
      "Removed ../vocals/popular_100/이 소설의 끝을 다시 써보려 해 - 한동근 가사_Instruments.wav\n",
      "Vocals saved to ../vocals/popular_100/이 소설의 끝을 다시 써보려 해 - 한동근 가사_Vocals.wav\n",
      "loading model... done\n",
      "loading wave source... done\n",
      "stft of wave source... done\n"
     ]
    },
    {
     "name": "stderr",
     "output_type": "stream",
     "text": [
      "100%|██████████| 26/26 [00:01<00:00, 15.61it/s]\n"
     ]
    },
    {
     "name": "stdout",
     "output_type": "stream",
     "text": [
      "validating output directory... done\n",
      "inverse stft of instruments... done\n",
      "inverse stft of vocals... done\n",
      "Removed ../vocals/popular_100/나얼 - 바람기억 [가사⧸Lyrics]_Instruments.wav\n",
      "Vocals saved to ../vocals/popular_100/나얼 - 바람기억 [가사⧸Lyrics]_Vocals.wav\n",
      "loading model... done\n",
      "loading wave source... done\n",
      "stft of wave source... done\n"
     ]
    },
    {
     "name": "stderr",
     "output_type": "stream",
     "text": [
      "100%|██████████| 20/20 [00:01<00:00, 14.01it/s]\n"
     ]
    },
    {
     "name": "stdout",
     "output_type": "stream",
     "text": [
      "validating output directory... done\n",
      "inverse stft of instruments... done\n",
      "inverse stft of vocals... done\n",
      "Removed ../vocals/popular_100/소찬휘 (SO CHAN WHEE)－「TEARS」[LYRICS] 가사 한국어_Instruments.wav\n",
      "Vocals saved to ../vocals/popular_100/소찬휘 (SO CHAN WHEE)－「TEARS」[LYRICS] 가사 한국어_Vocals.wav\n",
      "loading model... done\n",
      "loading wave source... done\n",
      "stft of wave source... done\n"
     ]
    },
    {
     "name": "stderr",
     "output_type": "stream",
     "text": [
      "100%|██████████| 18/18 [00:01<00:00, 15.51it/s]\n"
     ]
    },
    {
     "name": "stdout",
     "output_type": "stream",
     "text": [
      "validating output directory... done\n",
      "inverse stft of instruments... done\n",
      "inverse stft of vocals... done\n",
      "Removed ../vocals/popular_100/DAY6(데이식스) - 한 페이지가 될 수 있게 [가사⧸Lyrics]_Instruments.wav\n",
      "Vocals saved to ../vocals/popular_100/DAY6(데이식스) - 한 페이지가 될 수 있게 [가사⧸Lyrics]_Vocals.wav\n",
      "loading model... done\n",
      "loading wave source... done\n",
      "stft of wave source... done\n"
     ]
    },
    {
     "name": "stderr",
     "output_type": "stream",
     "text": [
      "100%|██████████| 15/15 [00:01<00:00, 12.61it/s]\n"
     ]
    },
    {
     "name": "stdout",
     "output_type": "stream",
     "text": [
      "validating output directory... done\n",
      "inverse stft of instruments... done\n",
      "inverse stft of vocals... done\n",
      "Removed ../vocals/popular_100/NewJeans (뉴진스) – Hype Boy Lyrics (Color Coded Han⧸Rom⧸Eng)_Instruments.wav\n",
      "Vocals saved to ../vocals/popular_100/NewJeans (뉴진스) – Hype Boy Lyrics (Color Coded Han⧸Rom⧸Eng)_Vocals.wav\n",
      "loading model... done\n",
      "loading wave source... done\n",
      "stft of wave source... done\n"
     ]
    },
    {
     "name": "stderr",
     "output_type": "stream",
     "text": [
      "100%|██████████| 19/19 [00:01<00:00, 15.41it/s]\n"
     ]
    },
    {
     "name": "stdout",
     "output_type": "stream",
     "text": [
      "validating output directory... done\n",
      "inverse stft of instruments... done\n",
      "inverse stft of vocals... done\n",
      "Removed ../vocals/popular_100/다이나믹 듀오 - 죽일 놈 (Guilty) [가사⧸Lyrics]_Instruments.wav\n",
      "Vocals saved to ../vocals/popular_100/다이나믹 듀오 - 죽일 놈 (Guilty) [가사⧸Lyrics]_Vocals.wav\n",
      "loading model... done\n",
      "loading wave source... done\n",
      "stft of wave source... done\n"
     ]
    },
    {
     "name": "stderr",
     "output_type": "stream",
     "text": [
      "100%|██████████| 17/17 [00:01<00:00, 15.05it/s]\n"
     ]
    },
    {
     "name": "stdout",
     "output_type": "stream",
     "text": [
      "validating output directory... done\n",
      "inverse stft of instruments... done\n",
      "inverse stft of vocals... done\n",
      "Removed ../vocals/popular_100/10CM – 그라데이션 ⧸ Kpop  ⧸ Lyrics ⧸ 가사_Instruments.wav\n",
      "Vocals saved to ../vocals/popular_100/10CM – 그라데이션 ⧸ Kpop  ⧸ Lyrics ⧸ 가사_Vocals.wav\n",
      "loading model... done\n",
      "loading wave source... done\n",
      "stft of wave source... done\n"
     ]
    },
    {
     "name": "stderr",
     "output_type": "stream",
     "text": [
      "100%|██████████| 23/23 [00:01<00:00, 15.14it/s]\n"
     ]
    },
    {
     "name": "stdout",
     "output_type": "stream",
     "text": [
      "validating output directory... done\n",
      "inverse stft of instruments... done\n",
      "inverse stft of vocals... done\n",
      "Removed ../vocals/popular_100/정동하 - 추억은 만남보다 이별에 남아 ｜ 가사_Instruments.wav\n",
      "Vocals saved to ../vocals/popular_100/정동하 - 추억은 만남보다 이별에 남아 ｜ 가사_Vocals.wav\n",
      "loading model... done\n",
      "loading wave source... done\n",
      "stft of wave source... done\n"
     ]
    },
    {
     "name": "stderr",
     "output_type": "stream",
     "text": [
      "100%|██████████| 25/25 [00:01<00:00, 16.04it/s]\n"
     ]
    },
    {
     "name": "stdout",
     "output_type": "stream",
     "text": [
      "validating output directory... done\n",
      "inverse stft of instruments... done\n",
      "inverse stft of vocals... done\n",
      "Removed ../vocals/popular_100/자우림(Jaurim) - 스물다섯, 스물하나 ｜ 가사 (Synced Lyrics)_Instruments.wav\n",
      "Vocals saved to ../vocals/popular_100/자우림(Jaurim) - 스물다섯, 스물하나 ｜ 가사 (Synced Lyrics)_Vocals.wav\n",
      "loading model... done\n",
      "loading wave source... done\n",
      "stft of wave source... done\n"
     ]
    },
    {
     "name": "stderr",
     "output_type": "stream",
     "text": [
      "100%|██████████| 26/26 [00:01<00:00, 15.06it/s]\n"
     ]
    },
    {
     "name": "stdout",
     "output_type": "stream",
     "text": [
      "validating output directory... done\n",
      "inverse stft of instruments... done\n",
      "inverse stft of vocals... done\n",
      "Removed ../vocals/popular_100/Han Dong Geun(한동근) _ Amazing You 그대라는 사치 lyrics(eng. sub)_Instruments.wav\n",
      "Vocals saved to ../vocals/popular_100/Han Dong Geun(한동근) _ Amazing You 그대라는 사치 lyrics(eng. sub)_Vocals.wav\n",
      "loading model... done\n",
      "loading wave source... done\n",
      "stft of wave source... done\n"
     ]
    },
    {
     "name": "stderr",
     "output_type": "stream",
     "text": [
      "100%|██████████| 25/25 [00:01<00:00, 14.61it/s]\n"
     ]
    },
    {
     "name": "stdout",
     "output_type": "stream",
     "text": [
      "validating output directory... done\n",
      "inverse stft of instruments... done\n",
      "inverse stft of vocals... done\n",
      "Removed ../vocals/popular_100/얀(Yarn)_그래서 그대는 [가사]_Instruments.wav\n",
      "Vocals saved to ../vocals/popular_100/얀(Yarn)_그래서 그대는 [가사]_Vocals.wav\n",
      "loading model... done\n",
      "loading wave source... done\n",
      "stft of wave source... done\n"
     ]
    },
    {
     "name": "stderr",
     "output_type": "stream",
     "text": [
      "100%|██████████| 21/21 [00:01<00:00, 14.75it/s]\n"
     ]
    },
    {
     "name": "stdout",
     "output_type": "stream",
     "text": [
      "validating output directory... done\n",
      "inverse stft of instruments... done\n",
      "inverse stft of vocals... done\n",
      "Removed ../vocals/popular_100/야다(YADA) - 이미 슬픈 사랑 [가사⧸Lyrics]_Instruments.wav\n",
      "Vocals saved to ../vocals/popular_100/야다(YADA) - 이미 슬픈 사랑 [가사⧸Lyrics]_Vocals.wav\n",
      "loading model... done\n",
      "loading wave source... done\n",
      "stft of wave source... done\n"
     ]
    },
    {
     "name": "stderr",
     "output_type": "stream",
     "text": [
      "100%|██████████| 21/21 [00:01<00:00, 14.62it/s]\n"
     ]
    },
    {
     "name": "stdout",
     "output_type": "stream",
     "text": [
      "validating output directory... done\n",
      "inverse stft of instruments... done\n",
      "inverse stft of vocals... done\n",
      "Removed ../vocals/popular_100/#안녕 - 너의 번호를 누르고 가사_Instruments.wav\n",
      "Vocals saved to ../vocals/popular_100/#안녕 - 너의 번호를 누르고 가사_Vocals.wav\n",
      "loading model... done\n",
      "loading wave source... done\n",
      "stft of wave source... done\n"
     ]
    },
    {
     "name": "stderr",
     "output_type": "stream",
     "text": [
      "100%|██████████| 17/17 [00:01<00:00, 14.19it/s]\n"
     ]
    },
    {
     "name": "stdout",
     "output_type": "stream",
     "text": [
      "validating output directory... done\n",
      "inverse stft of instruments... done\n",
      "inverse stft of vocals... done\n",
      "Removed ../vocals/popular_100/IVE(아이브) - Kitsch [가사⧸Lyrics]_Instruments.wav\n",
      "Vocals saved to ../vocals/popular_100/IVE(아이브) - Kitsch [가사⧸Lyrics]_Vocals.wav\n",
      "loading model... done\n",
      "loading wave source... done\n",
      "stft of wave source... done\n"
     ]
    },
    {
     "name": "stderr",
     "output_type": "stream",
     "text": [
      "100%|██████████| 19/19 [00:01<00:00, 14.18it/s]\n"
     ]
    },
    {
     "name": "stdout",
     "output_type": "stream",
     "text": [
      "validating output directory... done\n",
      "inverse stft of instruments... done\n",
      "inverse stft of vocals... done\n",
      "Removed ../vocals/popular_100/임한별 - 사랑하지 않아서 그랬어 ⧸ Kpop ⧸ Lyrics ⧸ 가사_Instruments.wav\n",
      "Vocals saved to ../vocals/popular_100/임한별 - 사랑하지 않아서 그랬어 ⧸ Kpop ⧸ Lyrics ⧸ 가사_Vocals.wav\n",
      "loading model... done\n",
      "loading wave source... done\n",
      "stft of wave source... done\n"
     ]
    },
    {
     "name": "stderr",
     "output_type": "stream",
     "text": [
      "100%|██████████| 24/24 [00:01<00:00, 15.87it/s]\n"
     ]
    },
    {
     "name": "stdout",
     "output_type": "stream",
     "text": [
      "validating output directory... done\n",
      "inverse stft of instruments... done\n",
      "inverse stft of vocals... done\n",
      "Removed ../vocals/popular_100/성시경 - 희재 [국화꽃 향기 OST] [가사⧸Lyrics]_Instruments.wav\n",
      "Vocals saved to ../vocals/popular_100/성시경 - 희재 [국화꽃 향기 OST] [가사⧸Lyrics]_Vocals.wav\n",
      "loading model... done\n",
      "loading wave source... done\n",
      "stft of wave source... done\n"
     ]
    },
    {
     "name": "stderr",
     "output_type": "stream",
     "text": [
      "100%|██████████| 26/26 [00:01<00:00, 15.79it/s]\n"
     ]
    },
    {
     "name": "stdout",
     "output_type": "stream",
     "text": [
      "validating output directory... done\n",
      "inverse stft of instruments... done\n",
      "inverse stft of vocals... done\n",
      "Removed ../vocals/popular_100/윤하(YOUNHA) - 사건의 지평선 [가사⧸Lyrics]_Instruments.wav\n",
      "Vocals saved to ../vocals/popular_100/윤하(YOUNHA) - 사건의 지평선 [가사⧸Lyrics]_Vocals.wav\n",
      "loading model... done\n",
      "loading wave source... done\n",
      "stft of wave source... done\n"
     ]
    },
    {
     "name": "stderr",
     "output_type": "stream",
     "text": [
      "100%|██████████| 24/24 [00:01<00:00, 15.35it/s]\n"
     ]
    },
    {
     "name": "stdout",
     "output_type": "stream",
     "text": [
      "validating output directory... done\n",
      "inverse stft of instruments... done\n",
      "inverse stft of vocals... done\n",
      "Removed ../vocals/popular_100/임재현 - Heaven(2023) ⧸ Kpop ⧸ Lyrics ⧸ 가사_Instruments.wav\n",
      "Vocals saved to ../vocals/popular_100/임재현 - Heaven(2023) ⧸ Kpop ⧸ Lyrics ⧸ 가사_Vocals.wav\n",
      "loading model... done\n",
      "loading wave source... done\n",
      "stft of wave source... done\n"
     ]
    },
    {
     "name": "stderr",
     "output_type": "stream",
     "text": [
      "100%|██████████| 17/17 [00:01<00:00, 14.13it/s]\n"
     ]
    },
    {
     "name": "stdout",
     "output_type": "stream",
     "text": [
      "validating output directory... done\n",
      "inverse stft of instruments... done\n",
      "inverse stft of vocals... done\n",
      "Removed ../vocals/popular_100/BLACKPINK (블랙핑크) - 불장난 (PLAYING WITH FIRE) (Color Coded Lyrics Eng⧸Rom⧸Han⧸가사)_Instruments.wav\n",
      "Vocals saved to ../vocals/popular_100/BLACKPINK (블랙핑크) - 불장난 (PLAYING WITH FIRE) (Color Coded Lyrics Eng⧸Rom⧸Han⧸가사)_Vocals.wav\n",
      "loading model... done\n",
      "loading wave source... done\n",
      "stft of wave source... done\n"
     ]
    },
    {
     "name": "stderr",
     "output_type": "stream",
     "text": [
      "100%|██████████| 24/24 [00:01<00:00, 14.49it/s]\n"
     ]
    },
    {
     "name": "stdout",
     "output_type": "stream",
     "text": [
      "validating output directory... done\n",
      "inverse stft of instruments... done\n",
      "inverse stft of vocals... done\n",
      "Removed ../vocals/popular_100/스탠딩 에그(Standing Egg) - 오래된 노래 ⧸ 가사(Lyrics)_Instruments.wav\n",
      "Vocals saved to ../vocals/popular_100/스탠딩 에그(Standing Egg) - 오래된 노래 ⧸ 가사(Lyrics)_Vocals.wav\n",
      "loading model... done\n",
      "loading wave source... done\n",
      "stft of wave source... done\n"
     ]
    },
    {
     "name": "stderr",
     "output_type": "stream",
     "text": [
      "100%|██████████| 24/24 [00:01<00:00, 15.13it/s]\n"
     ]
    },
    {
     "name": "stdout",
     "output_type": "stream",
     "text": [
      "validating output directory... done\n",
      "inverse stft of instruments... done\n",
      "inverse stft of vocals... done\n",
      "Removed ../vocals/popular_100/YB - 흰수염고래 [가사⧸Lyrics]_Instruments.wav\n",
      "Vocals saved to ../vocals/popular_100/YB - 흰수염고래 [가사⧸Lyrics]_Vocals.wav\n",
      "loading model... done\n",
      "loading wave source... done\n",
      "stft of wave source... done\n"
     ]
    },
    {
     "name": "stderr",
     "output_type": "stream",
     "text": [
      "100%|██████████| 21/21 [00:01<00:00, 15.44it/s]\n"
     ]
    },
    {
     "name": "stdout",
     "output_type": "stream",
     "text": [
      "validating output directory... done\n",
      "inverse stft of instruments... done\n",
      "inverse stft of vocals... done\n",
      "Removed ../vocals/popular_100/장범준 - 노래방에서 가사_Instruments.wav\n",
      "Vocals saved to ../vocals/popular_100/장범준 - 노래방에서 가사_Vocals.wav\n",
      "loading model... done\n",
      "loading wave source... done\n",
      "stft of wave source... done\n"
     ]
    },
    {
     "name": "stderr",
     "output_type": "stream",
     "text": [
      "100%|██████████| 22/22 [00:01<00:00, 14.73it/s]\n"
     ]
    },
    {
     "name": "stdout",
     "output_type": "stream",
     "text": [
      "validating output directory... done\n",
      "inverse stft of instruments... done\n",
      "inverse stft of vocals... done\n",
      "Removed ../vocals/popular_100/십센치 (10cm) - 스토커 (Stalker) 가사_Instruments.wav\n",
      "Vocals saved to ../vocals/popular_100/십센치 (10cm) - 스토커 (Stalker) 가사_Vocals.wav\n",
      "loading model... done\n",
      "loading wave source... done\n",
      "stft of wave source... done\n"
     ]
    },
    {
     "name": "stderr",
     "output_type": "stream",
     "text": [
      "100%|██████████| 23/23 [00:01<00:00, 15.89it/s]\n"
     ]
    },
    {
     "name": "stdout",
     "output_type": "stream",
     "text": [
      "validating output directory... done\n",
      "inverse stft of instruments... done\n",
      "inverse stft of vocals... done\n",
      "Removed ../vocals/popular_100/정승환 - 너였다면 [또 오해영 OST] [가사⧸Lyrics]_Instruments.wav\n",
      "Vocals saved to ../vocals/popular_100/정승환 - 너였다면 [또 오해영 OST] [가사⧸Lyrics]_Vocals.wav\n",
      "loading model... done\n",
      "loading wave source... done\n",
      "stft of wave source... done\n"
     ]
    },
    {
     "name": "stderr",
     "output_type": "stream",
     "text": [
      "100%|██████████| 21/21 [00:01<00:00, 15.70it/s]\n"
     ]
    },
    {
     "name": "stdout",
     "output_type": "stream",
     "text": [
      "validating output directory... done\n",
      "inverse stft of instruments... done\n",
      "inverse stft of vocals... done\n",
      "Removed ../vocals/popular_100/김필 - 다시 사랑한다면 (니글니글 버터플라이) [가사⧸Lyrics]_Instruments.wav\n",
      "Vocals saved to ../vocals/popular_100/김필 - 다시 사랑한다면 (니글니글 버터플라이) [가사⧸Lyrics]_Vocals.wav\n",
      "loading model... done\n",
      "loading wave source... done\n",
      "stft of wave source... done\n"
     ]
    },
    {
     "name": "stderr",
     "output_type": "stream",
     "text": [
      "100%|██████████| 29/29 [00:01<00:00, 16.21it/s]\n"
     ]
    },
    {
     "name": "stdout",
     "output_type": "stream",
     "text": [
      "validating output directory... done\n",
      "inverse stft of instruments... done\n",
      "inverse stft of vocals... done\n",
      "Removed ../vocals/popular_100/박효신 - 눈의 꽃 [미안하다 사랑한다 OST] [가사⧸Lyrics]_Instruments.wav\n",
      "Vocals saved to ../vocals/popular_100/박효신 - 눈의 꽃 [미안하다 사랑한다 OST] [가사⧸Lyrics]_Vocals.wav\n",
      "loading model... done\n",
      "loading wave source... done\n",
      "stft of wave source... done\n"
     ]
    },
    {
     "name": "stderr",
     "output_type": "stream",
     "text": [
      "100%|██████████| 24/24 [00:01<00:00, 15.98it/s]\n"
     ]
    },
    {
     "name": "stdout",
     "output_type": "stream",
     "text": [
      "validating output directory... done\n",
      "inverse stft of instruments... done\n",
      "inverse stft of vocals... done\n",
      "Removed ../vocals/popular_100/닐로 - 지나오다 ⧸ 가사_Instruments.wav\n",
      "Vocals saved to ../vocals/popular_100/닐로 - 지나오다 ⧸ 가사_Vocals.wav\n",
      "loading model... done\n",
      "loading wave source... done\n",
      "stft of wave source... done\n"
     ]
    },
    {
     "name": "stderr",
     "output_type": "stream",
     "text": [
      "100%|██████████| 22/22 [00:01<00:00, 14.67it/s]\n"
     ]
    },
    {
     "name": "stdout",
     "output_type": "stream",
     "text": [
      "validating output directory... done\n",
      "inverse stft of instruments... done\n",
      "inverse stft of vocals... done\n",
      "Removed ../vocals/popular_100/DK(디셈버) - 심(心)  ⧸ Kpop ⧸ Lyrics ⧸ 가사_Instruments.wav\n",
      "Vocals saved to ../vocals/popular_100/DK(디셈버) - 심(心)  ⧸ Kpop ⧸ Lyrics ⧸ 가사_Vocals.wav\n",
      "loading model... done\n",
      "loading wave source... done\n",
      "stft of wave source... done\n"
     ]
    },
    {
     "name": "stderr",
     "output_type": "stream",
     "text": [
      "100%|██████████| 22/22 [00:01<00:00, 13.87it/s]\n"
     ]
    },
    {
     "name": "stdout",
     "output_type": "stream",
     "text": [
      "validating output directory... done\n",
      "inverse stft of instruments... done\n",
      "inverse stft of vocals... done\n",
      "Removed ../vocals/popular_100/주호 - 잘가요 ⧸ Kpop ⧸ Lyrics ⧸ 가사_Instruments.wav\n",
      "Vocals saved to ../vocals/popular_100/주호 - 잘가요 ⧸ Kpop ⧸ Lyrics ⧸ 가사_Vocals.wav\n",
      "loading model... done\n",
      "loading wave source... done\n",
      "stft of wave source... done\n"
     ]
    },
    {
     "name": "stderr",
     "output_type": "stream",
     "text": [
      "100%|██████████| 24/24 [00:01<00:00, 15.98it/s]\n"
     ]
    },
    {
     "name": "stdout",
     "output_type": "stream",
     "text": [
      "validating output directory... done\n",
      "inverse stft of instruments... done\n",
      "inverse stft of vocals... done\n",
      "Removed ../vocals/popular_100/조정석 - 아로하 (Aloha)(슬기로운 의사생활 OST PART.03) ⧸ 가사_Instruments.wav\n",
      "Vocals saved to ../vocals/popular_100/조정석 - 아로하 (Aloha)(슬기로운 의사생활 OST PART.03) ⧸ 가사_Vocals.wav\n",
      "loading model... done\n",
      "loading wave source... done\n",
      "stft of wave source... done\n"
     ]
    },
    {
     "name": "stderr",
     "output_type": "stream",
     "text": [
      "100%|██████████| 16/16 [00:01<00:00, 12.67it/s]\n"
     ]
    },
    {
     "name": "stdout",
     "output_type": "stream",
     "text": [
      "validating output directory... done\n",
      "inverse stft of instruments... done\n",
      "inverse stft of vocals... done\n",
      "Removed ../vocals/popular_100/백아 - 첫사랑 (가사)_Instruments.wav\n",
      "Vocals saved to ../vocals/popular_100/백아 - 첫사랑 (가사)_Vocals.wav\n",
      "loading model... done\n",
      "loading wave source... done\n",
      "stft of wave source... done\n"
     ]
    },
    {
     "name": "stderr",
     "output_type": "stream",
     "text": [
      "100%|██████████| 26/26 [00:01<00:00, 15.01it/s]\n"
     ]
    },
    {
     "name": "stdout",
     "output_type": "stream",
     "text": [
      "validating output directory... done\n",
      "inverse stft of instruments... done\n",
      "inverse stft of vocals... done\n",
      "Removed ../vocals/popular_100/빅마마 - 체념 [가사⧸Lyrics]_Instruments.wav\n",
      "Vocals saved to ../vocals/popular_100/빅마마 - 체념 [가사⧸Lyrics]_Vocals.wav\n",
      "loading model... done\n",
      "loading wave source... done\n",
      "stft of wave source... done\n"
     ]
    },
    {
     "name": "stderr",
     "output_type": "stream",
     "text": [
      "100%|██████████| 29/29 [00:01<00:00, 15.58it/s]\n"
     ]
    },
    {
     "name": "stdout",
     "output_type": "stream",
     "text": [
      "validating output directory... done\n",
      "inverse stft of instruments... done\n",
      "inverse stft of vocals... done\n",
      "Removed ../vocals/popular_100/엠씨더맥스 (M.C the MAX) - 어디에도 ｜ 가사 (Synced Lyrics)_Instruments.wav\n",
      "Vocals saved to ../vocals/popular_100/엠씨더맥스 (M.C the MAX) - 어디에도 ｜ 가사 (Synced Lyrics)_Vocals.wav\n",
      "loading model... done\n",
      "loading wave source... done\n",
      "stft of wave source... done\n"
     ]
    },
    {
     "name": "stderr",
     "output_type": "stream",
     "text": [
      "100%|██████████| 23/23 [00:01<00:00, 15.45it/s]\n"
     ]
    },
    {
     "name": "stdout",
     "output_type": "stream",
     "text": [
      "validating output directory... done\n",
      "inverse stft of instruments... done\n",
      "inverse stft of vocals... done\n",
      "Removed ../vocals/popular_100/잔나비 (JANNABI) - 주저하는 연인들을 위해 (For Lovers Who Hesitate) ｜ 가사_Instruments.wav\n",
      "Vocals saved to ../vocals/popular_100/잔나비 (JANNABI) - 주저하는 연인들을 위해 (For Lovers Who Hesitate) ｜ 가사_Vocals.wav\n",
      "loading model... done\n",
      "loading wave source... done\n",
      "stft of wave source... done\n"
     ]
    },
    {
     "name": "stderr",
     "output_type": "stream",
     "text": [
      "100%|██████████| 23/23 [00:01<00:00, 16.27it/s]\n"
     ]
    },
    {
     "name": "stdout",
     "output_type": "stream",
     "text": [
      "validating output directory... done\n",
      "inverse stft of instruments... done\n",
      "inverse stft of vocals... done\n",
      "Removed ../vocals/popular_100/마크툽 - 찰나가 영원이 될 때 ⧸ 가사_Instruments.wav\n",
      "Vocals saved to ../vocals/popular_100/마크툽 - 찰나가 영원이 될 때 ⧸ 가사_Vocals.wav\n",
      "loading model... done\n",
      "loading wave source... done\n",
      "stft of wave source... done\n"
     ]
    },
    {
     "name": "stderr",
     "output_type": "stream",
     "text": [
      "100%|██████████| 21/21 [00:01<00:00, 14.63it/s]\n"
     ]
    },
    {
     "name": "stdout",
     "output_type": "stream",
     "text": [
      "validating output directory... done\n",
      "inverse stft of instruments... done\n",
      "inverse stft of vocals... done\n",
      "Removed ../vocals/popular_100/성시경 - 너의 모든 순간 [별에서 온 그대 OST] [가사⧸Lyrics]_Instruments.wav\n",
      "Vocals saved to ../vocals/popular_100/성시경 - 너의 모든 순간 [별에서 온 그대 OST] [가사⧸Lyrics]_Vocals.wav\n",
      "loading model... done\n",
      "loading wave source... done\n",
      "stft of wave source... done\n"
     ]
    },
    {
     "name": "stderr",
     "output_type": "stream",
     "text": [
      "100%|██████████| 21/21 [00:01<00:00, 14.16it/s]\n"
     ]
    },
    {
     "name": "stdout",
     "output_type": "stream",
     "text": [
      "validating output directory... done\n",
      "inverse stft of instruments... done\n",
      "inverse stft of vocals... done\n",
      "Removed ../vocals/popular_100/체리필터 (cherryfilter) - 오리 날다 [가사⧸Lyrics]_Instruments.wav\n",
      "Vocals saved to ../vocals/popular_100/체리필터 (cherryfilter) - 오리 날다 [가사⧸Lyrics]_Vocals.wav\n",
      "loading model... done\n",
      "loading wave source... done\n",
      "stft of wave source... done\n"
     ]
    },
    {
     "name": "stderr",
     "output_type": "stream",
     "text": [
      "100%|██████████| 16/16 [00:01<00:00, 14.41it/s]\n"
     ]
    },
    {
     "name": "stdout",
     "output_type": "stream",
     "text": [
      "validating output directory... done\n",
      "inverse stft of instruments... done\n",
      "inverse stft of vocals... done\n",
      "Removed ../vocals/popular_100/멜로망스(Melomance) - 사랑인가 봐 [사내맞선 OST] [가사⧸Lyrics]_Instruments.wav\n",
      "Vocals saved to ../vocals/popular_100/멜로망스(Melomance) - 사랑인가 봐 [사내맞선 OST] [가사⧸Lyrics]_Vocals.wav\n",
      "loading model... done\n",
      "loading wave source... done\n",
      "stft of wave source... done\n"
     ]
    },
    {
     "name": "stderr",
     "output_type": "stream",
     "text": [
      "100%|██████████| 18/18 [00:01<00:00, 14.84it/s]\n"
     ]
    },
    {
     "name": "stdout",
     "output_type": "stream",
     "text": [
      "validating output directory... done\n",
      "inverse stft of instruments... done\n",
      "inverse stft of vocals... done\n",
      "Removed ../vocals/popular_100/버즈(Buzz) - 나에게로 떠나는 여행 [가사⧸Lyrics]_Instruments.wav\n",
      "Vocals saved to ../vocals/popular_100/버즈(Buzz) - 나에게로 떠나는 여행 [가사⧸Lyrics]_Vocals.wav\n",
      "loading model... done\n",
      "loading wave source... done\n",
      "stft of wave source... done\n"
     ]
    },
    {
     "name": "stderr",
     "output_type": "stream",
     "text": [
      "100%|██████████| 27/27 [00:01<00:00, 16.63it/s]\n"
     ]
    },
    {
     "name": "stdout",
     "output_type": "stream",
     "text": [
      "validating output directory... done\n",
      "inverse stft of instruments... done\n",
      "inverse stft of vocals... done\n",
      "Removed ../vocals/popular_100/탑현 - 호랑수월가 ⧸ 가사_Instruments.wav\n",
      "Vocals saved to ../vocals/popular_100/탑현 - 호랑수월가 ⧸ 가사_Vocals.wav\n",
      "loading model... done\n",
      "loading wave source... done\n",
      "stft of wave source... done\n"
     ]
    },
    {
     "name": "stderr",
     "output_type": "stream",
     "text": [
      "100%|██████████| 19/19 [00:01<00:00, 15.48it/s]\n"
     ]
    },
    {
     "name": "stdout",
     "output_type": "stream",
     "text": [
      "validating output directory... done\n",
      "inverse stft of instruments... done\n",
      "inverse stft of vocals... done\n",
      "Removed ../vocals/popular_100/NCT DREAM Candy Lyrics (엔시티 드림 Candy 가사) (Color Coded Lyrics)_Instruments.wav\n",
      "Vocals saved to ../vocals/popular_100/NCT DREAM Candy Lyrics (엔시티 드림 Candy 가사) (Color Coded Lyrics)_Vocals.wav\n",
      "loading model... done\n",
      "loading wave source... done\n",
      "stft of wave source... done\n"
     ]
    },
    {
     "name": "stderr",
     "output_type": "stream",
     "text": [
      "100%|██████████| 20/20 [00:01<00:00, 15.35it/s]\n"
     ]
    },
    {
     "name": "stdout",
     "output_type": "stream",
     "text": [
      "validating output directory... done\n",
      "inverse stft of instruments... done\n",
      "inverse stft of vocals... done\n",
      "Removed ../vocals/popular_100/에일리(Ailee) - 첫눈처럼 너에게 가겠다 [도깨비 OST] [가사⧸Lyrics]_Instruments.wav\n",
      "Vocals saved to ../vocals/popular_100/에일리(Ailee) - 첫눈처럼 너에게 가겠다 [도깨비 OST] [가사⧸Lyrics]_Vocals.wav\n",
      "loading model... done\n",
      "loading wave source... done\n",
      "stft of wave source... done\n"
     ]
    },
    {
     "name": "stderr",
     "output_type": "stream",
     "text": [
      "100%|██████████| 16/16 [00:01<00:00, 14.65it/s]\n"
     ]
    },
    {
     "name": "stdout",
     "output_type": "stream",
     "text": [
      "validating output directory... done\n",
      "inverse stft of instruments... done\n",
      "inverse stft of vocals... done\n",
      "Removed ../vocals/popular_100/LE SSERAFIM (르세라핌) 'UNFORGIVEN (feat. Nile Rodgers)' Lyrics (Color Coded Lyrics)_Instruments.wav\n",
      "Vocals saved to ../vocals/popular_100/LE SSERAFIM (르세라핌) 'UNFORGIVEN (feat. Nile Rodgers)' Lyrics (Color Coded Lyrics)_Vocals.wav\n",
      "loading model... done\n",
      "loading wave source... done\n",
      "stft of wave source... done\n"
     ]
    },
    {
     "name": "stderr",
     "output_type": "stream",
     "text": [
      "100%|██████████| 21/21 [00:01<00:00, 14.20it/s]\n"
     ]
    },
    {
     "name": "stdout",
     "output_type": "stream",
     "text": [
      "validating output directory... done\n",
      "inverse stft of instruments... done\n",
      "inverse stft of vocals... done\n",
      "Removed ../vocals/popular_100/#안녕 - 해요 (2022) ⧸ Kpop ⧸ Lyrics ⧸ 가사_Instruments.wav\n",
      "Vocals saved to ../vocals/popular_100/#안녕 - 해요 (2022) ⧸ Kpop ⧸ Lyrics ⧸ 가사_Vocals.wav\n",
      "loading model... done\n",
      "loading wave source... done\n",
      "stft of wave source... done\n"
     ]
    },
    {
     "name": "stderr",
     "output_type": "stream",
     "text": [
      "100%|██████████| 20/20 [00:01<00:00, 15.63it/s]\n"
     ]
    },
    {
     "name": "stdout",
     "output_type": "stream",
     "text": [
      "validating output directory... done\n",
      "inverse stft of instruments... done\n",
      "inverse stft of vocals... done\n",
      "Removed ../vocals/popular_100/체리필터(cherryfilter) - 낭만고양이 [가사⧸Lyrics]_Instruments.wav\n",
      "Vocals saved to ../vocals/popular_100/체리필터(cherryfilter) - 낭만고양이 [가사⧸Lyrics]_Vocals.wav\n",
      "loading model... done\n",
      "loading wave source... done\n",
      "stft of wave source... done\n"
     ]
    },
    {
     "name": "stderr",
     "output_type": "stream",
     "text": [
      "100%|██████████| 23/23 [00:01<00:00, 16.48it/s]\n"
     ]
    },
    {
     "name": "stdout",
     "output_type": "stream",
     "text": [
      "validating output directory... done\n",
      "inverse stft of instruments... done\n",
      "inverse stft of vocals... done\n",
      "Removed ../vocals/popular_100/나윤권 - 나였으면 [가사⧸Lyrics]_Instruments.wav\n",
      "Vocals saved to ../vocals/popular_100/나윤권 - 나였으면 [가사⧸Lyrics]_Vocals.wav\n",
      "loading model... done\n",
      "loading wave source... done\n",
      "stft of wave source... done\n"
     ]
    },
    {
     "name": "stderr",
     "output_type": "stream",
     "text": [
      "100%|██████████| 22/22 [00:01<00:00, 16.75it/s]\n"
     ]
    },
    {
     "name": "stdout",
     "output_type": "stream",
     "text": [
      "validating output directory... done\n",
      "inverse stft of instruments... done\n",
      "inverse stft of vocals... done\n",
      "Removed ../vocals/popular_100/허각(HuhGak) - Hello [가사⧸Lyrics]_Instruments.wav\n",
      "Vocals saved to ../vocals/popular_100/허각(HuhGak) - Hello [가사⧸Lyrics]_Vocals.wav\n",
      "loading model... done\n",
      "loading wave source... done\n",
      "stft of wave source... done\n"
     ]
    },
    {
     "name": "stderr",
     "output_type": "stream",
     "text": [
      "100%|██████████| 23/23 [00:01<00:00, 16.66it/s]\n"
     ]
    },
    {
     "name": "stdout",
     "output_type": "stream",
     "text": [
      "validating output directory... done\n",
      "inverse stft of instruments... done\n",
      "inverse stft of vocals... done\n",
      "Removed ../vocals/popular_100/김경호 - 금지된 사랑 [가사⧸Lyrics]_Instruments.wav\n",
      "Vocals saved to ../vocals/popular_100/김경호 - 금지된 사랑 [가사⧸Lyrics]_Vocals.wav\n",
      "loading model... done\n",
      "loading wave source... done\n",
      "stft of wave source... done\n"
     ]
    },
    {
     "name": "stderr",
     "output_type": "stream",
     "text": [
      "100%|██████████| 18/18 [00:01<00:00, 16.69it/s]\n"
     ]
    },
    {
     "name": "stdout",
     "output_type": "stream",
     "text": [
      "validating output directory... done\n",
      "inverse stft of instruments... done\n",
      "inverse stft of vocals... done\n",
      "Removed ../vocals/popular_100/다나카(TANAKA) - 와스레나이 (Prod By D-Hack) [ 가사⧸Lyrics ]_Instruments.wav\n",
      "Vocals saved to ../vocals/popular_100/다나카(TANAKA) - 와스레나이 (Prod By D-Hack) [ 가사⧸Lyrics ]_Vocals.wav\n",
      "loading model... done\n",
      "loading wave source... done\n",
      "stft of wave source... done\n"
     ]
    },
    {
     "name": "stderr",
     "output_type": "stream",
     "text": [
      "100%|██████████| 25/25 [00:01<00:00, 16.70it/s]\n"
     ]
    },
    {
     "name": "stdout",
     "output_type": "stream",
     "text": [
      "validating output directory... done\n",
      "inverse stft of instruments... done\n",
      "inverse stft of vocals... done\n",
      "Removed ../vocals/popular_100/왁스 - 화장을 고치고⧸ 가사_Instruments.wav\n",
      "Vocals saved to ../vocals/popular_100/왁스 - 화장을 고치고⧸ 가사_Vocals.wav\n",
      "loading model... done\n",
      "loading wave source... done\n",
      "stft of wave source... done\n"
     ]
    },
    {
     "name": "stderr",
     "output_type": "stream",
     "text": [
      "100%|██████████| 16/16 [00:01<00:00, 13.77it/s]\n"
     ]
    },
    {
     "name": "stdout",
     "output_type": "stream",
     "text": [
      "validating output directory... done\n",
      "inverse stft of instruments... done\n",
      "inverse stft of vocals... done\n",
      "Removed ../vocals/popular_100/IVE (아이브) - I AM [가사⧸Lyrics]_Instruments.wav\n",
      "Vocals saved to ../vocals/popular_100/IVE (아이브) - I AM [가사⧸Lyrics]_Vocals.wav\n",
      "loading model... done\n",
      "loading wave source... done\n",
      "stft of wave source... done\n"
     ]
    },
    {
     "name": "stderr",
     "output_type": "stream",
     "text": [
      "100%|██████████| 24/24 [00:01<00:00, 15.90it/s]\n"
     ]
    },
    {
     "name": "stdout",
     "output_type": "stream",
     "text": [
      "validating output directory... done\n",
      "inverse stft of instruments... done\n",
      "inverse stft of vocals... done\n",
      "Removed ../vocals/popular_100/마크툽 - Marry Me ⧸ 가사_Instruments.wav\n",
      "Vocals saved to ../vocals/popular_100/마크툽 - Marry Me ⧸ 가사_Vocals.wav\n",
      "loading model... done\n",
      "loading wave source... done\n",
      "stft of wave source... done\n"
     ]
    },
    {
     "name": "stderr",
     "output_type": "stream",
     "text": [
      "100%|██████████| 18/18 [00:01<00:00, 15.51it/s]\n"
     ]
    },
    {
     "name": "stdout",
     "output_type": "stream",
     "text": [
      "validating output directory... done\n",
      "inverse stft of instruments... done\n",
      "inverse stft of vocals... done\n",
      "Removed ../vocals/popular_100/윤하(YOUNHA) - 오르트구름 [가사⧸Lyrics]_Instruments.wav\n",
      "Vocals saved to ../vocals/popular_100/윤하(YOUNHA) - 오르트구름 [가사⧸Lyrics]_Vocals.wav\n",
      "loading model... done\n",
      "loading wave source... done\n",
      "stft of wave source... done\n"
     ]
    },
    {
     "name": "stderr",
     "output_type": "stream",
     "text": [
      "100%|██████████| 24/24 [00:01<00:00, 14.26it/s]\n"
     ]
    },
    {
     "name": "stdout",
     "output_type": "stream",
     "text": [
      "validating output directory... done\n",
      "inverse stft of instruments... done\n",
      "inverse stft of vocals... done\n",
      "Removed ../vocals/popular_100/윤하 - 기다리다 [가사⧸Lyrics]_Instruments.wav\n",
      "Vocals saved to ../vocals/popular_100/윤하 - 기다리다 [가사⧸Lyrics]_Vocals.wav\n",
      "loading model... done\n",
      "loading wave source... done\n",
      "stft of wave source... done\n"
     ]
    },
    {
     "name": "stderr",
     "output_type": "stream",
     "text": [
      "100%|██████████| 24/24 [00:01<00:00, 16.54it/s]\n"
     ]
    },
    {
     "name": "stdout",
     "output_type": "stream",
     "text": [
      "validating output directory... done\n",
      "inverse stft of instruments... done\n",
      "inverse stft of vocals... done\n",
      "Removed ../vocals/popular_100/DAY6(데이식스)- 예뻤어 [가사⧸Lyrics]_Instruments.wav\n",
      "Vocals saved to ../vocals/popular_100/DAY6(데이식스)- 예뻤어 [가사⧸Lyrics]_Vocals.wav\n",
      "loading model... done\n",
      "loading wave source... done\n",
      "stft of wave source... done\n"
     ]
    },
    {
     "name": "stderr",
     "output_type": "stream",
     "text": [
      "100%|██████████| 18/18 [00:01<00:00, 15.23it/s]\n"
     ]
    },
    {
     "name": "stdout",
     "output_type": "stream",
     "text": [
      "validating output directory... done\n",
      "inverse stft of instruments... done\n",
      "inverse stft of vocals... done\n",
      "Removed ../vocals/popular_100/[Lyrics Video] Turtles(거북이) - Airplane(비행기)_Instruments.wav\n",
      "Vocals saved to ../vocals/popular_100/[Lyrics Video] Turtles(거북이) - Airplane(비행기)_Vocals.wav\n",
      "loading model... done\n",
      "loading wave source... done\n",
      "stft of wave source... done\n"
     ]
    },
    {
     "name": "stderr",
     "output_type": "stream",
     "text": [
      "100%|██████████| 17/17 [00:01<00:00, 12.93it/s]\n"
     ]
    },
    {
     "name": "stdout",
     "output_type": "stream",
     "text": [
      "validating output directory... done\n",
      "inverse stft of instruments... done\n",
      "inverse stft of vocals... done\n",
      "Removed ../vocals/popular_100/10CM - 폰서트 [가사⧸Lyrics]_Instruments.wav\n",
      "Vocals saved to ../vocals/popular_100/10CM - 폰서트 [가사⧸Lyrics]_Vocals.wav\n",
      "loading model... done\n",
      "loading wave source... done\n",
      "stft of wave source... done\n"
     ]
    },
    {
     "name": "stderr",
     "output_type": "stream",
     "text": [
      "100%|██████████| 22/22 [00:01<00:00, 15.86it/s]\n"
     ]
    },
    {
     "name": "stdout",
     "output_type": "stream",
     "text": [
      "validating output directory... done\n",
      "inverse stft of instruments... done\n",
      "inverse stft of vocals... done\n",
      "Removed ../vocals/popular_100/플라워(Flower) - Endless (2000年)_Instruments.wav\n",
      "Vocals saved to ../vocals/popular_100/플라워(Flower) - Endless (2000年)_Vocals.wav\n",
      "loading model... done\n",
      "loading wave source... done\n",
      "stft of wave source... done\n"
     ]
    },
    {
     "name": "stderr",
     "output_type": "stream",
     "text": [
      "100%|██████████| 21/21 [00:01<00:00, 16.60it/s]\n"
     ]
    },
    {
     "name": "stdout",
     "output_type": "stream",
     "text": [
      "validating output directory... done\n",
      "inverse stft of instruments... done\n",
      "inverse stft of vocals... done\n",
      "Removed ../vocals/popular_100/윤도현 - 사랑했나봐 [가사⧸Lyrics]_Instruments.wav\n",
      "Vocals saved to ../vocals/popular_100/윤도현 - 사랑했나봐 [가사⧸Lyrics]_Vocals.wav\n",
      "loading model... done\n",
      "loading wave source... done\n",
      "stft of wave source... done\n"
     ]
    },
    {
     "name": "stderr",
     "output_type": "stream",
     "text": [
      "100%|██████████| 20/20 [00:01<00:00, 14.05it/s]\n"
     ]
    },
    {
     "name": "stdout",
     "output_type": "stream",
     "text": [
      "validating output directory... done\n",
      "inverse stft of instruments... done\n",
      "inverse stft of vocals... done\n",
      "Removed ../vocals/popular_100/Younha (윤하) - ＂Password 486 (비밀번호 486)＂ Lyrics [Color Coded Han⧸Rom⧸Eng]_Instruments.wav\n",
      "Vocals saved to ../vocals/popular_100/Younha (윤하) - ＂Password 486 (비밀번호 486)＂ Lyrics [Color Coded Han⧸Rom⧸Eng]_Vocals.wav\n",
      "loading model... done\n",
      "loading wave source... done\n",
      "stft of wave source... done\n"
     ]
    },
    {
     "name": "stderr",
     "output_type": "stream",
     "text": [
      "100%|██████████| 19/19 [00:01<00:00, 16.08it/s]\n"
     ]
    },
    {
     "name": "stdout",
     "output_type": "stream",
     "text": [
      "validating output directory... done\n",
      "inverse stft of instruments... done\n",
      "inverse stft of vocals... done\n",
      "Removed ../vocals/popular_100/우디(Woody) - Say I Love You ｜ 가사_Instruments.wav\n",
      "Vocals saved to ../vocals/popular_100/우디(Woody) - Say I Love You ｜ 가사_Vocals.wav\n",
      "loading model... done\n",
      "loading wave source... done\n",
      "stft of wave source... done\n"
     ]
    },
    {
     "name": "stderr",
     "output_type": "stream",
     "text": [
      "100%|██████████| 28/28 [00:01<00:00, 16.47it/s]\n"
     ]
    },
    {
     "name": "stdout",
     "output_type": "stream",
     "text": [
      "validating output directory... done\n",
      "inverse stft of instruments... done\n",
      "inverse stft of vocals... done\n",
      "Removed ../vocals/popular_100/윤종신 - 좋니 [가사⧸Lyrics]_Instruments.wav\n",
      "Vocals saved to ../vocals/popular_100/윤종신 - 좋니 [가사⧸Lyrics]_Vocals.wav\n",
      "loading model... done\n",
      "loading wave source... done\n",
      "stft of wave source... done\n"
     ]
    },
    {
     "name": "stderr",
     "output_type": "stream",
     "text": [
      "100%|██████████| 20/20 [00:01<00:00, 15.45it/s]\n"
     ]
    },
    {
     "name": "stdout",
     "output_type": "stream",
     "text": [
      "validating output directory... done\n",
      "inverse stft of instruments... done\n",
      "inverse stft of vocals... done\n",
      "Removed ../vocals/popular_100/장덕철(JANG DEOK CHEOL) 그날처럼(Good old days) 가사(Lyrics)_Instruments.wav\n",
      "Vocals saved to ../vocals/popular_100/장덕철(JANG DEOK CHEOL) 그날처럼(Good old days) 가사(Lyrics)_Vocals.wav\n",
      "loading model... done\n",
      "loading wave source... done\n",
      "stft of wave source... done\n"
     ]
    },
    {
     "name": "stderr",
     "output_type": "stream",
     "text": [
      "100%|██████████| 16/16 [00:01<00:00, 15.57it/s]\n"
     ]
    },
    {
     "name": "stdout",
     "output_type": "stream",
     "text": [
      "validating output directory... done\n",
      "inverse stft of instruments... done\n",
      "inverse stft of vocals... done\n",
      "Removed ../vocals/popular_100/NewJeans (뉴진스) - Ditto [가사⧸Lyrics]_Instruments.wav\n",
      "Vocals saved to ../vocals/popular_100/NewJeans (뉴진스) - Ditto [가사⧸Lyrics]_Vocals.wav\n",
      "loading model... done\n",
      "loading wave source... done\n",
      "stft of wave source... done\n"
     ]
    },
    {
     "name": "stderr",
     "output_type": "stream",
     "text": [
      "100%|██████████| 24/24 [00:01<00:00, 16.47it/s]\n"
     ]
    },
    {
     "name": "stdout",
     "output_type": "stream",
     "text": [
      "validating output directory... done\n",
      "inverse stft of instruments... done\n",
      "inverse stft of vocals... done\n",
      "Removed ../vocals/popular_100/뱅크 - 가질 수 없는 너 [가사⧸Lyrics]_Instruments.wav\n",
      "Vocals saved to ../vocals/popular_100/뱅크 - 가질 수 없는 너 [가사⧸Lyrics]_Vocals.wav\n",
      "loading model... done\n",
      "loading wave source... done\n",
      "stft of wave source... done\n"
     ]
    },
    {
     "name": "stderr",
     "output_type": "stream",
     "text": [
      "100%|██████████| 21/21 [00:01<00:00, 15.22it/s]\n"
     ]
    },
    {
     "name": "stdout",
     "output_type": "stream",
     "text": [
      "validating output directory... done\n",
      "inverse stft of instruments... done\n",
      "inverse stft of vocals... done\n",
      "Removed ../vocals/popular_100/에메랄드 캐슬 - 발걸음 [가사⧸Lyrics]_Instruments.wav\n",
      "Vocals saved to ../vocals/popular_100/에메랄드 캐슬 - 발걸음 [가사⧸Lyrics]_Vocals.wav\n"
     ]
    }
   ],
   "source": [
    "import os\n",
    "import subprocess\n",
    "\n",
    "def separate_vocals(input_folder, output_folder, gpu=0):\n",
    "    # 폴더 안의 모든 mp3 파일을 가져옴\n",
    "    mp3_files = [f for f in os.listdir(input_folder) if f.endswith('.mp3')]\n",
    "    \n",
    "    # output 폴더가 없다면 생성\n",
    "    os.makedirs(output_folder, exist_ok=True)\n",
    "    \n",
    "    for mp3_file in mp3_files:\n",
    "        input_path = os.path.join(input_folder, mp3_file)\n",
    "        basename = os.path.splitext(mp3_file)[0]  # 확장자를 제외한 파일 이름\n",
    "        output_path = os.path.join(output_folder, f\"{basename}_Vocals.wav\")\n",
    "        \n",
    "        # 'inference.py' 스크립트를 실행하여 음원 분리\n",
    "        command = [\n",
    "            \"python\", \"vocal-remover/inference.py\",\n",
    "            \"--input\", input_path,\n",
    "            \"--gpu\", str(gpu),\n",
    "            \"--output_dir\", output_folder\n",
    "        ]\n",
    "        \n",
    "        # subprocess를 통해 명령어 실행\n",
    "        subprocess.run(command, check=True)\n",
    "        \n",
    "        # Instruments.wav 파일 삭제\n",
    "        instruments_file = os.path.join(output_folder, f\"{basename}_Instruments.wav\")\n",
    "        if os.path.exists(instruments_file):\n",
    "            os.remove(instruments_file)\n",
    "            print(f\"Removed {instruments_file}\")\n",
    "        \n",
    "        # Vocals.wav 파일만 남기고 출력\n",
    "        print(f\"Vocals saved to {output_path}\")\n",
    "\n",
    "# 사용 예시\n",
    "input_folder = \"../music/popular_100\"  # 원본 mp3 음원 폴더\n",
    "output_folder = \"../vocals/popular_100\"  # Vocals 파일이 저장될 폴더\n",
    "separate_vocals(input_folder, output_folder, gpu=0)"
   ]
  }
 ],
 "metadata": {
  "kernelspec": {
   "display_name": "vocal-remover",
   "language": "python",
   "name": "python3"
  },
  "language_info": {
   "codemirror_mode": {
    "name": "ipython",
    "version": 3
   },
   "file_extension": ".py",
   "mimetype": "text/x-python",
   "name": "python",
   "nbconvert_exporter": "python",
   "pygments_lexer": "ipython3",
   "version": "3.9.18"
  }
 },
 "nbformat": 4,
 "nbformat_minor": 2
}
