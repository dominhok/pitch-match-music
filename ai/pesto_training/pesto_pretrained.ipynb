{
 "cells": [
  {
   "cell_type": "code",
   "execution_count": null,
   "metadata": {},
   "outputs": [],
   "source": [
    "import torchaudio\n",
    "import pesto\n",
    "\n",
    "# predict the pitch of your audio tensors directly within your own Python code\n",
    "x, sr = torchaudio.load(\"my_file.wav\")\n",
    "x = x.mean(dim=0)  # PESTO takes mono audio as input\n",
    "timesteps, pitch, confidence, activations = pesto.predict(x, sr)\n",
    "\n",
    "# or predict using your own custom checkpoint\n",
    "predictions = pesto.predict(x, sr, model_name=\"/path/to/checkpoint.ckpt\")\n",
    "\n",
    "# You can also predict pitches from audio files directly\n",
    "pesto.predict_from_files([\"example1.wav\", \"example2.mp3\", \"example3.ogg\"], export_format=[\"csv\"])"
   ]
  }
 ],
 "metadata": {
  "kernelspec": {
   "display_name": "pitch_match",
   "language": "python",
   "name": "python3"
  },
  "language_info": {
   "name": "python",
   "version": "3.11.11"
  }
 },
 "nbformat": 4,
 "nbformat_minor": 2
}
