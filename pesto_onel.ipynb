{
 "cells": [
  {
   "cell_type": "code",
   "execution_count": 1,
   "metadata": {
    "colab": {
     "base_uri": "https://localhost:8080/"
    },
    "id": "Y2_25EIkpdi2",
    "outputId": "6556aaab-d27c-4d07-cdf1-d9a1be825f05"
   },
   "outputs": [
    {
     "name": "stdout",
     "output_type": "stream",
     "text": [
      "Collecting pesto-pitch\n",
      "  Using cached pesto_pitch-1.0.0-py3-none-any.whl.metadata (11 kB)\n",
      "Requirement already satisfied: numpy>=1.21.5 in /home/minho/miniconda3/envs/pitch_match/lib/python3.11/site-packages (from pesto-pitch) (2.2.2)\n",
      "Requirement already satisfied: scipy>=1.8.1 in /home/minho/miniconda3/envs/pitch_match/lib/python3.11/site-packages (from pesto-pitch) (1.15.1)\n",
      "Requirement already satisfied: tqdm>=4.66.1 in /home/minho/miniconda3/envs/pitch_match/lib/python3.11/site-packages (from pesto-pitch) (4.67.1)\n",
      "Requirement already satisfied: torch>=2.0.1 in /home/minho/miniconda3/envs/pitch_match/lib/python3.11/site-packages (from pesto-pitch) (2.5.1)\n",
      "Collecting torchaudio>=2.0.2 (from pesto-pitch)\n",
      "  Using cached torchaudio-2.5.1-cp311-cp311-manylinux1_x86_64.whl.metadata (6.4 kB)\n",
      "Requirement already satisfied: filelock in /home/minho/miniconda3/envs/pitch_match/lib/python3.11/site-packages (from torch>=2.0.1->pesto-pitch) (3.17.0)\n",
      "Requirement already satisfied: typing-extensions>=4.8.0 in /home/minho/miniconda3/envs/pitch_match/lib/python3.11/site-packages (from torch>=2.0.1->pesto-pitch) (4.12.2)\n",
      "Requirement already satisfied: networkx in /home/minho/miniconda3/envs/pitch_match/lib/python3.11/site-packages (from torch>=2.0.1->pesto-pitch) (3.4.2)\n",
      "Requirement already satisfied: jinja2 in /home/minho/miniconda3/envs/pitch_match/lib/python3.11/site-packages (from torch>=2.0.1->pesto-pitch) (3.1.5)\n",
      "Requirement already satisfied: fsspec in /home/minho/miniconda3/envs/pitch_match/lib/python3.11/site-packages (from torch>=2.0.1->pesto-pitch) (2024.12.0)\n",
      "Requirement already satisfied: nvidia-cuda-nvrtc-cu12==12.4.127 in /home/minho/miniconda3/envs/pitch_match/lib/python3.11/site-packages (from torch>=2.0.1->pesto-pitch) (12.4.127)\n",
      "Requirement already satisfied: nvidia-cuda-runtime-cu12==12.4.127 in /home/minho/miniconda3/envs/pitch_match/lib/python3.11/site-packages (from torch>=2.0.1->pesto-pitch) (12.4.127)\n",
      "Requirement already satisfied: nvidia-cuda-cupti-cu12==12.4.127 in /home/minho/miniconda3/envs/pitch_match/lib/python3.11/site-packages (from torch>=2.0.1->pesto-pitch) (12.4.127)\n",
      "Requirement already satisfied: nvidia-cudnn-cu12==9.1.0.70 in /home/minho/miniconda3/envs/pitch_match/lib/python3.11/site-packages (from torch>=2.0.1->pesto-pitch) (9.1.0.70)\n",
      "Requirement already satisfied: nvidia-cublas-cu12==12.4.5.8 in /home/minho/miniconda3/envs/pitch_match/lib/python3.11/site-packages (from torch>=2.0.1->pesto-pitch) (12.4.5.8)\n",
      "Requirement already satisfied: nvidia-cufft-cu12==11.2.1.3 in /home/minho/miniconda3/envs/pitch_match/lib/python3.11/site-packages (from torch>=2.0.1->pesto-pitch) (11.2.1.3)\n",
      "Requirement already satisfied: nvidia-curand-cu12==10.3.5.147 in /home/minho/miniconda3/envs/pitch_match/lib/python3.11/site-packages (from torch>=2.0.1->pesto-pitch) (10.3.5.147)\n",
      "Requirement already satisfied: nvidia-cusolver-cu12==11.6.1.9 in /home/minho/miniconda3/envs/pitch_match/lib/python3.11/site-packages (from torch>=2.0.1->pesto-pitch) (11.6.1.9)\n",
      "Requirement already satisfied: nvidia-cusparse-cu12==12.3.1.170 in /home/minho/miniconda3/envs/pitch_match/lib/python3.11/site-packages (from torch>=2.0.1->pesto-pitch) (12.3.1.170)\n",
      "Requirement already satisfied: nvidia-nccl-cu12==2.21.5 in /home/minho/miniconda3/envs/pitch_match/lib/python3.11/site-packages (from torch>=2.0.1->pesto-pitch) (2.21.5)\n",
      "Requirement already satisfied: nvidia-nvtx-cu12==12.4.127 in /home/minho/miniconda3/envs/pitch_match/lib/python3.11/site-packages (from torch>=2.0.1->pesto-pitch) (12.4.127)\n",
      "Requirement already satisfied: nvidia-nvjitlink-cu12==12.4.127 in /home/minho/miniconda3/envs/pitch_match/lib/python3.11/site-packages (from torch>=2.0.1->pesto-pitch) (12.4.127)\n",
      "Requirement already satisfied: triton==3.1.0 in /home/minho/miniconda3/envs/pitch_match/lib/python3.11/site-packages (from torch>=2.0.1->pesto-pitch) (3.1.0)\n",
      "Requirement already satisfied: sympy==1.13.1 in /home/minho/miniconda3/envs/pitch_match/lib/python3.11/site-packages (from torch>=2.0.1->pesto-pitch) (1.13.1)\n",
      "Requirement already satisfied: mpmath<1.4,>=1.1.0 in /home/minho/miniconda3/envs/pitch_match/lib/python3.11/site-packages (from sympy==1.13.1->torch>=2.0.1->pesto-pitch) (1.3.0)\n",
      "Requirement already satisfied: MarkupSafe>=2.0 in /home/minho/miniconda3/envs/pitch_match/lib/python3.11/site-packages (from jinja2->torch>=2.0.1->pesto-pitch) (3.0.2)\n",
      "Using cached pesto_pitch-1.0.0-py3-none-any.whl (137 kB)\n",
      "Using cached torchaudio-2.5.1-cp311-cp311-manylinux1_x86_64.whl (3.4 MB)\n",
      "Installing collected packages: torchaudio, pesto-pitch\n",
      "Successfully installed pesto-pitch-1.0.0 torchaudio-2.5.1\n"
     ]
    }
   ],
   "source": [
    "!pip install pesto-pitch"
   ]
  },
  {
   "cell_type": "code",
   "execution_count": 2,
   "metadata": {
    "colab": {
     "base_uri": "https://localhost:8080/",
     "height": 505
    },
    "id": "UUr3hZS5VlSO",
    "outputId": "475e4fc8-c99a-4f95-d054-ae3a5cf53605"
   },
   "outputs": [
    {
     "ename": "ImportError",
     "evalue": "/home/minho/miniconda3/envs/pitch_match/lib/python3.11/site-packages/torch/lib/../../nvidia/cusparse/lib/libcusparse.so.12: undefined symbol: __nvJitLinkComplete_12_4, version libnvJitLink.so.12",
     "output_type": "error",
     "traceback": [
      "\u001b[0;31m---------------------------------------------------------------------------\u001b[0m",
      "\u001b[0;31mModuleNotFoundError\u001b[0m                       Traceback (most recent call last)",
      "File \u001b[0;32m~/miniconda3/envs/pitch_match/lib/python3.11/site-packages/torchaudio/_internal/__init__.py:2\u001b[0m\n\u001b[1;32m      1\u001b[0m \u001b[38;5;28;01mtry\u001b[39;00m:\n\u001b[0;32m----> 2\u001b[0m     \u001b[38;5;28;01mfrom\u001b[39;00m\u001b[38;5;250m \u001b[39m\u001b[38;5;21;01m.\u001b[39;00m\u001b[38;5;21;01mfb\u001b[39;00m\u001b[38;5;250m \u001b[39m\u001b[38;5;28;01mimport\u001b[39;00m download_url_to_file, load_state_dict_from_url\n\u001b[1;32m      3\u001b[0m \u001b[38;5;28;01mexcept\u001b[39;00m \u001b[38;5;167;01mImportError\u001b[39;00m:\n",
      "\u001b[0;31mModuleNotFoundError\u001b[0m: No module named 'torchaudio._internal.fb'",
      "\nDuring handling of the above exception, another exception occurred:\n",
      "\u001b[0;31mImportError\u001b[0m                               Traceback (most recent call last)",
      "Cell \u001b[0;32mIn[2], line 1\u001b[0m\n\u001b[0;32m----> 1\u001b[0m \u001b[38;5;28;01mimport\u001b[39;00m\u001b[38;5;250m \u001b[39m\u001b[38;5;21;01mtorchaudio\u001b[39;00m\n\u001b[1;32m      2\u001b[0m \u001b[38;5;28;01mimport\u001b[39;00m\u001b[38;5;250m \u001b[39m\u001b[38;5;21;01mpesto\u001b[39;00m\n\u001b[1;32m      3\u001b[0m \u001b[38;5;28;01mimport\u001b[39;00m\u001b[38;5;250m \u001b[39m\u001b[38;5;21;01mpretty_midi\u001b[39;00m\n",
      "File \u001b[0;32m~/miniconda3/envs/pitch_match/lib/python3.11/site-packages/torchaudio/__init__.py:2\u001b[0m\n\u001b[1;32m      1\u001b[0m \u001b[38;5;66;03m# Initialize extension and backend first\u001b[39;00m\n\u001b[0;32m----> 2\u001b[0m \u001b[38;5;28;01mfrom\u001b[39;00m\u001b[38;5;250m \u001b[39m\u001b[38;5;21;01m.\u001b[39;00m\u001b[38;5;250m \u001b[39m\u001b[38;5;28;01mimport\u001b[39;00m _extension  \u001b[38;5;66;03m# noqa  # usort: skip\u001b[39;00m\n\u001b[1;32m      3\u001b[0m \u001b[38;5;28;01mfrom\u001b[39;00m\u001b[38;5;250m \u001b[39m\u001b[38;5;21;01m.\u001b[39;00m\u001b[38;5;21;01m_backend\u001b[39;00m\u001b[38;5;250m \u001b[39m\u001b[38;5;28;01mimport\u001b[39;00m (  \u001b[38;5;66;03m# noqa  # usort: skip\u001b[39;00m\n\u001b[1;32m      4\u001b[0m     AudioMetaData,\n\u001b[1;32m      5\u001b[0m     get_audio_backend,\n\u001b[0;32m   (...)\u001b[0m\n\u001b[1;32m     10\u001b[0m     set_audio_backend,\n\u001b[1;32m     11\u001b[0m )\n\u001b[1;32m     13\u001b[0m \u001b[38;5;28;01mfrom\u001b[39;00m\u001b[38;5;250m \u001b[39m\u001b[38;5;21;01m.\u001b[39;00m\u001b[38;5;250m \u001b[39m\u001b[38;5;28;01mimport\u001b[39;00m (  \u001b[38;5;66;03m# noqa: F401\u001b[39;00m\n\u001b[1;32m     14\u001b[0m     compliance,\n\u001b[1;32m     15\u001b[0m     datasets,\n\u001b[0;32m   (...)\u001b[0m\n\u001b[1;32m     23\u001b[0m     utils,\n\u001b[1;32m     24\u001b[0m )\n",
      "File \u001b[0;32m~/miniconda3/envs/pitch_match/lib/python3.11/site-packages/torchaudio/_extension/__init__.py:5\u001b[0m\n\u001b[1;32m      2\u001b[0m \u001b[38;5;28;01mimport\u001b[39;00m\u001b[38;5;250m \u001b[39m\u001b[38;5;21;01mos\u001b[39;00m\n\u001b[1;32m      3\u001b[0m \u001b[38;5;28;01mimport\u001b[39;00m\u001b[38;5;250m \u001b[39m\u001b[38;5;21;01msys\u001b[39;00m\n\u001b[0;32m----> 5\u001b[0m \u001b[38;5;28;01mfrom\u001b[39;00m\u001b[38;5;250m \u001b[39m\u001b[38;5;21;01mtorchaudio\u001b[39;00m\u001b[38;5;21;01m.\u001b[39;00m\u001b[38;5;21;01m_internal\u001b[39;00m\u001b[38;5;21;01m.\u001b[39;00m\u001b[38;5;21;01mmodule_utils\u001b[39;00m\u001b[38;5;250m \u001b[39m\u001b[38;5;28;01mimport\u001b[39;00m fail_with_message, is_module_available, no_op\n\u001b[1;32m      7\u001b[0m \u001b[38;5;28;01mfrom\u001b[39;00m\u001b[38;5;250m \u001b[39m\u001b[38;5;21;01m.\u001b[39;00m\u001b[38;5;21;01mutils\u001b[39;00m\u001b[38;5;250m \u001b[39m\u001b[38;5;28;01mimport\u001b[39;00m _check_cuda_version, _init_dll_path, _init_sox, _LazyImporter, _load_lib\n\u001b[1;32m      9\u001b[0m _LG \u001b[38;5;241m=\u001b[39m logging\u001b[38;5;241m.\u001b[39mgetLogger(\u001b[38;5;18m__name__\u001b[39m)\n",
      "File \u001b[0;32m~/miniconda3/envs/pitch_match/lib/python3.11/site-packages/torchaudio/_internal/__init__.py:4\u001b[0m\n\u001b[1;32m      2\u001b[0m     \u001b[38;5;28;01mfrom\u001b[39;00m\u001b[38;5;250m \u001b[39m\u001b[38;5;21;01m.\u001b[39;00m\u001b[38;5;21;01mfb\u001b[39;00m\u001b[38;5;250m \u001b[39m\u001b[38;5;28;01mimport\u001b[39;00m download_url_to_file, load_state_dict_from_url\n\u001b[1;32m      3\u001b[0m \u001b[38;5;28;01mexcept\u001b[39;00m \u001b[38;5;167;01mImportError\u001b[39;00m:\n\u001b[0;32m----> 4\u001b[0m     \u001b[38;5;28;01mfrom\u001b[39;00m\u001b[38;5;250m \u001b[39m\u001b[38;5;21;01mtorch\u001b[39;00m\u001b[38;5;21;01m.\u001b[39;00m\u001b[38;5;21;01mhub\u001b[39;00m\u001b[38;5;250m \u001b[39m\u001b[38;5;28;01mimport\u001b[39;00m download_url_to_file, load_state_dict_from_url\n\u001b[1;32m      7\u001b[0m __all__ \u001b[38;5;241m=\u001b[39m [\n\u001b[1;32m      8\u001b[0m     \u001b[38;5;124m\"\u001b[39m\u001b[38;5;124mload_state_dict_from_url\u001b[39m\u001b[38;5;124m\"\u001b[39m,\n\u001b[1;32m      9\u001b[0m     \u001b[38;5;124m\"\u001b[39m\u001b[38;5;124mdownload_url_to_file\u001b[39m\u001b[38;5;124m\"\u001b[39m,\n\u001b[1;32m     10\u001b[0m ]\n",
      "File \u001b[0;32m~/miniconda3/envs/pitch_match/lib/python3.11/site-packages/torch/__init__.py:367\u001b[0m\n\u001b[1;32m    365\u001b[0m     \u001b[38;5;28;01mif\u001b[39;00m USE_GLOBAL_DEPS:\n\u001b[1;32m    366\u001b[0m         _load_global_deps()\n\u001b[0;32m--> 367\u001b[0m     \u001b[38;5;28;01mfrom\u001b[39;00m\u001b[38;5;250m \u001b[39m\u001b[38;5;21;01mtorch\u001b[39;00m\u001b[38;5;21;01m.\u001b[39;00m\u001b[38;5;21;01m_C\u001b[39;00m\u001b[38;5;250m \u001b[39m\u001b[38;5;28;01mimport\u001b[39;00m \u001b[38;5;241m*\u001b[39m  \u001b[38;5;66;03m# noqa: F403\u001b[39;00m\n\u001b[1;32m    370\u001b[0m \u001b[38;5;28;01mclass\u001b[39;00m\u001b[38;5;250m \u001b[39m\u001b[38;5;21;01mSymInt\u001b[39;00m:\n\u001b[1;32m    371\u001b[0m \u001b[38;5;250m    \u001b[39m\u001b[38;5;124;03m\"\"\"\u001b[39;00m\n\u001b[1;32m    372\u001b[0m \u001b[38;5;124;03m    Like an int (including magic methods), but redirects all operations on the\u001b[39;00m\n\u001b[1;32m    373\u001b[0m \u001b[38;5;124;03m    wrapped node. This is used in particular to symbolically record operations\u001b[39;00m\n\u001b[1;32m    374\u001b[0m \u001b[38;5;124;03m    in the symbolic shape workflow.\u001b[39;00m\n\u001b[1;32m    375\u001b[0m \u001b[38;5;124;03m    \"\"\"\u001b[39;00m\n",
      "\u001b[0;31mImportError\u001b[0m: /home/minho/miniconda3/envs/pitch_match/lib/python3.11/site-packages/torch/lib/../../nvidia/cusparse/lib/libcusparse.so.12: undefined symbol: __nvJitLinkComplete_12_4, version libnvJitLink.so.12"
     ]
    }
   ],
   "source": [
    "import torchaudio\n",
    "import pesto\n",
    "import pretty_midi\n",
    "import numpy as np\n",
    "import matplotlib.pyplot as plt\n",
    "\n",
    "# 피치 예측\n",
    "timesteps, pitch, confidence, activations = pesto.predict(x, sr)\n",
    "\n",
    "# 오디오 파일의 총 길이 (초)\n",
    "audio_length = x.shape[-1] / sr\n",
    "\n",
    "# timesteps를 numpy 배열로 변환하고, 원본 오디오 길이에 맞게 스케일링\n",
    "scaled_timesteps = timesteps.numpy() * (audio_length / timesteps[-1].item())\n",
    "\n",
    "# 무음 구간 임계값 설정 (예: confidence 값이 0.5 이하일 때 무음으로 간주)\n",
    "silence_threshold = 0.7\n",
    "\n",
    "# 공백 처리된 피치 배열 생성\n",
    "processed_pitch = np.array([\n",
    "    pitch[i] if confidence[i] >= silence_threshold else 0  # 무음 구간은 피치를 0으로 설정\n",
    "    for i in range(len(pitch))\n",
    "])\n",
    "\n",
    "# 피치 그래프 그리기 (공백 처리 후)\n",
    "plt.figure(figsize=(10, 5))\n",
    "plt.plot(scaled_timesteps, processed_pitch, label=\"Processed Pitch\", color=\"blue\")\n",
    "plt.xlabel(\"Time (s)\")\n",
    "plt.ylabel(\"Pitch (Hz)\")\n",
    "plt.title(\"Pitch over Time (Processed)\")\n",
    "plt.legend()\n",
    "plt.grid(True)\n",
    "plt.show()\n",
    "\n",
    "# 피치를 MIDI 노트로 변환하는 함수\n",
    "def pitch_to_midi(pitch):\n",
    "    if pitch > 0:  # 피치가 0보다 큰 유효한 값만 변환\n",
    "        midi_note = int(np.round(69 + 12 * np.log2(pitch / 440.0)))\n",
    "        return midi_note if 0 <= midi_note <= 127 else None  # 유효한 MIDI 노트 범위\n",
    "    return None\n",
    "\n",
    "# pretty_midi 객체 생성\n",
    "midi = pretty_midi.PrettyMIDI()\n",
    "instrument = pretty_midi.Instrument(program=0)  # 기본 프로그램 (0: Acoustic Grand Piano)\n",
    "\n",
    "# 각 피치를 MIDI로 변환하여 추가\n",
    "for i in range(len(scaled_timesteps) - 1):\n",
    "    if confidence[i] < silence_threshold:  # 무음 구간인 경우 피치를 0으로 처리\n",
    "        continue  # 무음으로 간주하고 MIDI에 추가하지 않음\n",
    "\n",
    "    midi_note = pitch_to_midi(pitch[i])\n",
    "    if midi_note is not None:  # 유효한 피치만 추가\n",
    "        start_time = float(scaled_timesteps[i])  # 노트 시작 시간\n",
    "        end_time = float(scaled_timesteps[i + 1])  # 노트 종료 시간\n",
    "        note = pretty_midi.Note(\n",
    "            velocity=100,  # 노트 속도 (세기)\n",
    "            pitch=midi_note,  # 변환된 MIDI 피치\n",
    "            start=start_time,  # 노트 시작 시간\n",
    "            end=end_time  # 노트 종료 시간\n",
    "        )\n",
    "        instrument.notes.append(note)\n",
    "\n",
    "# 트랙에 악기 추가\n",
    "midi.instruments.append(instrument)\n",
    "\n",
    "# MIDI 파일로 저장\n",
    "midi.write('outputi.mid')\n",
    "print(\"MIDI 파일이 생성되었습니다.\")\n"
   ]
  },
  {
   "cell_type": "code",
   "execution_count": null,
   "metadata": {},
   "outputs": [],
   "source": []
  }
 ],
 "metadata": {
  "accelerator": "GPU",
  "colab": {
   "gpuType": "T4",
   "provenance": []
  },
  "kernelspec": {
   "display_name": "pitch_match",
   "language": "python",
   "name": "python3"
  },
  "language_info": {
   "codemirror_mode": {
    "name": "ipython",
    "version": 3
   },
   "file_extension": ".py",
   "mimetype": "text/x-python",
   "name": "python",
   "nbconvert_exporter": "python",
   "pygments_lexer": "ipython3",
   "version": "3.11.11"
  }
 },
 "nbformat": 4,
 "nbformat_minor": 0
}
